{
 "cells": [
  {
   "attachments": {},
   "cell_type": "markdown",
   "metadata": {},
   "source": [
    "## **CS 3300 - Midterm**\n",
    "\n",
    "Paige Rosynek, 01.15.2023"
   ]
  },
  {
   "attachments": {},
   "cell_type": "markdown",
   "metadata": {},
   "source": [
    "### **Introduction**"
   ]
  },
  {
   "attachments": {},
   "cell_type": "markdown",
   "metadata": {},
   "source": [
    "Conservation ecology is a branch of ecology that is concerned with the preservation and conservation of species, habitats, and ecosystems through the management of biodiversity and natural resources. In order to conserve species, conservation ecologists must monitor the health and abundance of animals within a population. By estimating the population size of a species, researchers are able to monitor the conservation status of a species and identify if additional conservative effort is needed. For instance, a decrease in population size may indicate that the population is endangered and further conservative action may be needed to protect the population. There are multiple approaches conservation ecologists use to estimate population size. The ideal method for estimating a population size is to take a census of the population. In other words, it would be ideal to see and count each animal in a population, however this is not feasible as animals are always moving from place to place and some animals may not be able to be seen. As a more efficient alternative, researchers use a method called capture-mark-recapture, in which ecologists randomly capture a sample group of the population, mark it in some way, release it, and then periodically recapture random sample groups from the population. On subsequent recaptures, the ratio of marked and unmarked individuals is then used to estimate the total population size. This method is faster and allows for researchers to get an estimate of the population when getting a direct count of the population is not feasible. However, there are limitations to the capture-mark-recapture approach to estimating population size. For instance, some animals in the first captured group may learn to avoid capture again or conversely, where some animals from the initial capture try to get recaptured. Both of these situations produce skewed representations of the overall population size, resulting in an inaccurate estimation.  The capture-mark-recapture technique can also potentially hurt animals and reduce their lifespan due to harmful tagging techniques. Another way ecologists estimate population size of species, especially carnivores, is through field surveys with scat sampling. In field surveys, researchers record and measure scat within a specified area to estimate population size. In addition to population size, scat provides information on a species' diet, health, presence of disease, as well as DNA that can identify the type of species the scat came from. The use of scat to estimate population size is often used to monitor predator populations because it involves indirect observation. \n",
    "\n",
    "Conservation ecologists are often concerned with the population size and health of mesopredators, which are medium-sized predators that are controlled by higher-level predators. The abundance of mesopredators in a community can have substantial effects on an ecosystem. When the number of top-predators, which compete with and prey on mesopredators, decreases the number of mesopredators increases which can endanger prey populations. When there are too many top-predators, mesopredators are outcompeted and biodiversity in the ecosystem decreases. \n",
    "\n",
    "Coyotes, bobcats, and gray foxes are three common mesopredators found in the southwestern region of the United States. Coyotes have a high aptitude to adapt to their environment; and due to this coyotes can be found in urban or suburban areas near humans. Coyotes are opportunistic carnivores, so their diet is dependent on the season and habitat. About 90% of their diet consists of small mammals such as rabbits, squirrels, and mice. In addition, coyotes hunt larger mammals like deer, elk, and sheep in packs. Although meat is their main source of food, coyotes also eat various fruits and vegetables regularly, and more frequently in the fall and winter months. Since coyotes can adapt to living so close to humans, coyotes have been known to eat domestic pets. In addition, coyotes often pose a threat to livestock and spread disease. However, coyotes do help control rodent populations which is beneficial to humans. Bobcats (Lynx rufus), unlike coyotes, are strictly carnivorous, which means their diet consists of only meat. Typically, bobcats eat small rodents, rabbits, and sometimes reptiles along with the occasional domestic pet. The conservation status of bobcats is dependent on the region, where in some regions they are protected and in some they are not. Lastly, gray foxes (Urocyon cinereoargenteus) are found throughout North, Central, and South America from southern Canada to Venezuela, excluding the north western region of the United States. Similar to coyotes, gray foxes are omnivorous. Fruit often makes up a significant part of their diet in addition to small rodents. \n",
    "\n",
    "Since these mesopredators play such a critical role within an ecosystem, ecologists use scat to not only estimate their population size but to distinguish between species as well. Traditionally, morphology has been used to distinguish species based on scat, however this is a difficult task when attempting to discern between similar animals and misidentifying specimens can invalidate research. Molecular scatology is a more expensive alternative to identifying specimens from scat, however it is more reliable and accurate than morphology alone. As a cost effective alternative, we will be exploring what biogeochemical, morphological, and contextual traits are potentially predictive of the mesopredator species that can be used to build a predictive model. By considering biogeochemical and contextual traits, we are able to see if environmental evidence plays a role in distinguishing mesopredators based on their known behavior and diet.  \n"
   ]
  },
  {
   "attachments": {},
   "cell_type": "markdown",
   "metadata": {},
   "source": [
    "**Import Libraries**"
   ]
  },
  {
   "cell_type": "code",
   "execution_count": 1,
   "metadata": {},
   "outputs": [],
   "source": [
    "import pandas as pd\n",
    "from scipy import stats\n",
    "import seaborn as sns\n",
    "import matplotlib.pyplot as plt"
   ]
  },
  {
   "attachments": {},
   "cell_type": "markdown",
   "metadata": {},
   "source": [
    "### **The Data**"
   ]
  },
  {
   "attachments": {},
   "cell_type": "markdown",
   "metadata": {},
   "source": [
    "The dataset we will be using contains morphological, biogeochemical, and contextual data on scat sampled by researcher, Dr. Rachel Reid at two different sites in southern California. Scat samples were collected along 5 km transects along trails and roads at $A\\tilde{n}o$ Nuevo State Park and Younger Lagoon Natural Reserve located in California. The samples were taken quarterly from 2011-2013 to capture any effects that occured due to seasonal dietary and weather differences. The dataset contains 110 entries and has 19 columns or features. The morphological traits are characteristics (features) that relate to the form of the scat. These traits include: scat diameter, scat length, number of scat pieces, length of taper, degree of taper, dry weight, and a shape category which is one of the following: segmented, ropey, both, neither or flat (irregularly-shaped). The contextual features describe the scat in relation to the surroundings where the scat was found. There are two contextual variables: the location of the scat in relation to the trail or road and the presence of another sign, e.g. scrape. A scrape refers to whether or not there seemed to be scrape marks near the scat. Coyotes and bobcats are known to scrape after defecating while gray foxes do not tend to do so. Lastly, the researcher recorded the carbon to nitrogen ratio of each scat, which is the biogeochemical variable. The carbon-nitrogen (C:N) ratio in a scat tells how much of an animal's diet is meat. Vascular plants tend to have a high C:N ratio, where as animals tend to have a lower C:N ratio. Therefore, if the scat samples have a high C:N ratio it indicates that the animal had a diet high in plants. Since bobcats are strictly carnivores, their scat should have a low C:N ratio. Coyotes and gray foxes are both omnivores, so they should have higher C:N ratios with the gray fox having the highest out of the three on average. Below is a table that summarizes the type of each of the columns in the dataset as either morphological, biochemical, contextual, or neither."
   ]
  },
  {
   "attachments": {},
   "cell_type": "markdown",
   "metadata": {},
   "source": [
    "Column | Type of Trait\n",
    "-----|-----\n",
    "Species | not a trait\n",
    "Month | not a trait\n",
    "Year | not a trait\n",
    "Site | not a trait\n",
    "Location | contextual\n",
    "Age | not a trait\n",
    "Number | morphological\n",
    "Length | morphological\n",
    "Diameter | morphological\n",
    "Taper | morphological\n",
    "TI | morphological\n",
    "Mass | morphological\n",
    "d13C | biogeochemical\n",
    "d15N | biogeochemical\n",
    "CN | biogeochemical\n",
    "Ropey | morphological\n",
    "Segmented | morphological\n",
    "Flat | morphological\n",
    "Scrape | contextual\n"
   ]
  },
  {
   "attachments": {},
   "cell_type": "markdown",
   "metadata": {},
   "source": [
    "**Load the dataset**"
   ]
  },
  {
   "cell_type": "code",
   "execution_count": 2,
   "metadata": {},
   "outputs": [],
   "source": [
    "df = pd.read_csv('../data/Dataset_BobcatsCoyotesFoxes-1.csv')"
   ]
  },
  {
   "cell_type": "code",
   "execution_count": 3,
   "metadata": {},
   "outputs": [
    {
     "data": {
      "text/html": [
       "<div>\n",
       "<style scoped>\n",
       "    .dataframe tbody tr th:only-of-type {\n",
       "        vertical-align: middle;\n",
       "    }\n",
       "\n",
       "    .dataframe tbody tr th {\n",
       "        vertical-align: top;\n",
       "    }\n",
       "\n",
       "    .dataframe thead th {\n",
       "        text-align: right;\n",
       "    }\n",
       "</style>\n",
       "<table border=\"1\" class=\"dataframe\">\n",
       "  <thead>\n",
       "    <tr style=\"text-align: right;\">\n",
       "      <th></th>\n",
       "      <th>Species</th>\n",
       "      <th>Month</th>\n",
       "      <th>Year</th>\n",
       "      <th>Site</th>\n",
       "      <th>Location</th>\n",
       "      <th>Age</th>\n",
       "      <th>Number</th>\n",
       "      <th>Length</th>\n",
       "      <th>Diameter</th>\n",
       "      <th>Taper</th>\n",
       "      <th>TI</th>\n",
       "      <th>Mass</th>\n",
       "      <th>d13C</th>\n",
       "      <th>d15N</th>\n",
       "      <th>CN</th>\n",
       "      <th>Ropey</th>\n",
       "      <th>Segmented</th>\n",
       "      <th>Flat</th>\n",
       "      <th>Scrape</th>\n",
       "    </tr>\n",
       "  </thead>\n",
       "  <tbody>\n",
       "    <tr>\n",
       "      <th>0</th>\n",
       "      <td>Coyote</td>\n",
       "      <td>January</td>\n",
       "      <td>2012</td>\n",
       "      <td>YOLA</td>\n",
       "      <td>Edge</td>\n",
       "      <td>5</td>\n",
       "      <td>2</td>\n",
       "      <td>9.5</td>\n",
       "      <td>25.7</td>\n",
       "      <td>41.9</td>\n",
       "      <td>1.63</td>\n",
       "      <td>15.89</td>\n",
       "      <td>-26.85</td>\n",
       "      <td>6.94</td>\n",
       "      <td>8.5</td>\n",
       "      <td>0</td>\n",
       "      <td>0</td>\n",
       "      <td>0</td>\n",
       "      <td>0</td>\n",
       "    </tr>\n",
       "    <tr>\n",
       "      <th>1</th>\n",
       "      <td>Coyote</td>\n",
       "      <td>January</td>\n",
       "      <td>2012</td>\n",
       "      <td>YOLA</td>\n",
       "      <td>Edge</td>\n",
       "      <td>3</td>\n",
       "      <td>2</td>\n",
       "      <td>14.0</td>\n",
       "      <td>25.4</td>\n",
       "      <td>37.1</td>\n",
       "      <td>1.46</td>\n",
       "      <td>17.61</td>\n",
       "      <td>-29.62</td>\n",
       "      <td>9.87</td>\n",
       "      <td>11.3</td>\n",
       "      <td>0</td>\n",
       "      <td>0</td>\n",
       "      <td>0</td>\n",
       "      <td>0</td>\n",
       "    </tr>\n",
       "    <tr>\n",
       "      <th>2</th>\n",
       "      <td>Bobcat</td>\n",
       "      <td>January</td>\n",
       "      <td>2012</td>\n",
       "      <td>YOLA</td>\n",
       "      <td>Middle</td>\n",
       "      <td>3</td>\n",
       "      <td>2</td>\n",
       "      <td>9.0</td>\n",
       "      <td>18.8</td>\n",
       "      <td>16.5</td>\n",
       "      <td>0.88</td>\n",
       "      <td>8.40</td>\n",
       "      <td>-28.73</td>\n",
       "      <td>8.52</td>\n",
       "      <td>8.1</td>\n",
       "      <td>1</td>\n",
       "      <td>1</td>\n",
       "      <td>0</td>\n",
       "      <td>1</td>\n",
       "    </tr>\n",
       "    <tr>\n",
       "      <th>3</th>\n",
       "      <td>Coyote</td>\n",
       "      <td>January</td>\n",
       "      <td>2012</td>\n",
       "      <td>YOLA</td>\n",
       "      <td>Middle</td>\n",
       "      <td>5</td>\n",
       "      <td>2</td>\n",
       "      <td>8.5</td>\n",
       "      <td>18.1</td>\n",
       "      <td>24.7</td>\n",
       "      <td>1.36</td>\n",
       "      <td>7.40</td>\n",
       "      <td>-20.07</td>\n",
       "      <td>5.79</td>\n",
       "      <td>11.5</td>\n",
       "      <td>1</td>\n",
       "      <td>0</td>\n",
       "      <td>0</td>\n",
       "      <td>0</td>\n",
       "    </tr>\n",
       "    <tr>\n",
       "      <th>4</th>\n",
       "      <td>Coyote</td>\n",
       "      <td>January</td>\n",
       "      <td>2012</td>\n",
       "      <td>YOLA</td>\n",
       "      <td>Edge</td>\n",
       "      <td>5</td>\n",
       "      <td>4</td>\n",
       "      <td>8.0</td>\n",
       "      <td>20.7</td>\n",
       "      <td>20.1</td>\n",
       "      <td>0.97</td>\n",
       "      <td>25.45</td>\n",
       "      <td>-23.24</td>\n",
       "      <td>7.01</td>\n",
       "      <td>10.6</td>\n",
       "      <td>0</td>\n",
       "      <td>1</td>\n",
       "      <td>0</td>\n",
       "      <td>0</td>\n",
       "    </tr>\n",
       "  </tbody>\n",
       "</table>\n",
       "</div>"
      ],
      "text/plain": [
       "  Species    Month  Year  Site Location  Age  Number  Length  Diameter  Taper  \\\n",
       "0  Coyote  January  2012  YOLA     Edge    5       2     9.5      25.7   41.9   \n",
       "1  Coyote  January  2012  YOLA     Edge    3       2    14.0      25.4   37.1   \n",
       "2  Bobcat  January  2012  YOLA   Middle    3       2     9.0      18.8   16.5   \n",
       "3  Coyote  January  2012  YOLA   Middle    5       2     8.5      18.1   24.7   \n",
       "4  Coyote  January  2012  YOLA     Edge    5       4     8.0      20.7   20.1   \n",
       "\n",
       "     TI   Mass   d13C  d15N    CN  Ropey  Segmented  Flat  Scrape  \n",
       "0  1.63  15.89 -26.85  6.94   8.5      0          0     0       0  \n",
       "1  1.46  17.61 -29.62  9.87  11.3      0          0     0       0  \n",
       "2  0.88   8.40 -28.73  8.52   8.1      1          1     0       1  \n",
       "3  1.36   7.40 -20.07  5.79  11.5      1          0     0       0  \n",
       "4  0.97  25.45 -23.24  7.01  10.6      0          1     0       0  "
      ]
     },
     "execution_count": 3,
     "metadata": {},
     "output_type": "execute_result"
    }
   ],
   "source": [
    "df.head()"
   ]
  },
  {
   "cell_type": "code",
   "execution_count": 4,
   "metadata": {},
   "outputs": [
    {
     "name": "stdout",
     "output_type": "stream",
     "text": [
      "<class 'pandas.core.frame.DataFrame'>\n",
      "RangeIndex: 110 entries, 0 to 109\n",
      "Data columns (total 19 columns):\n",
      " #   Column     Non-Null Count  Dtype  \n",
      "---  ------     --------------  -----  \n",
      " 0   Species    110 non-null    object \n",
      " 1   Month      110 non-null    object \n",
      " 2   Year       110 non-null    int64  \n",
      " 3   Site       110 non-null    object \n",
      " 4   Location   110 non-null    object \n",
      " 5   Age        110 non-null    int64  \n",
      " 6   Number     110 non-null    int64  \n",
      " 7   Length     110 non-null    float64\n",
      " 8   Diameter   104 non-null    float64\n",
      " 9   Taper      93 non-null     float64\n",
      " 10  TI         93 non-null     float64\n",
      " 11  Mass       109 non-null    float64\n",
      " 12  d13C       108 non-null    float64\n",
      " 13  d15N       108 non-null    float64\n",
      " 14  CN         108 non-null    float64\n",
      " 15  Ropey      110 non-null    int64  \n",
      " 16  Segmented  110 non-null    int64  \n",
      " 17  Flat       110 non-null    int64  \n",
      " 18  Scrape     110 non-null    int64  \n",
      "dtypes: float64(8), int64(7), object(4)\n",
      "memory usage: 16.5+ KB\n"
     ]
    }
   ],
   "source": [
    "df.info()"
   ]
  },
  {
   "attachments": {},
   "cell_type": "markdown",
   "metadata": {},
   "source": [
    "### **Data Cleaning**"
   ]
  },
  {
   "attachments": {},
   "cell_type": "markdown",
   "metadata": {},
   "source": [
    "**Convert columns to the correct type**\n",
    "\n",
    "I converted the following columns to be of type 'category' (categorical variables): Species, Month, Year, Site, Number, and Location. I chose to convert the year to a categorical variable because the data was only taken over the course of 3 years and since the year is a natural grouping that we use to categorize events or occurences. I converted the month column to a categorical variable because it is possible that certain months of the year have an effect on the morphological and biochemical traits of scat due to seasonal changes in weather. The Species column is our target variable that we are interested in predicting, so it should also be a categorical variable. The sample site and location should also be categorical variables because the site represents where the sample was taken from and the location represents where the sample was in relation to the trail or road. In addition, I converted the given categorical variables: Ropey, Segmented, Flat, and Scrape from their numerical encodings (1 represents the characteristic was present) to boolean values where 1 is True and 0 is False. The remaining variables were correctly interpreted by pandas on loading the dataset.\n"
   ]
  },
  {
   "cell_type": "code",
   "execution_count": 5,
   "metadata": {},
   "outputs": [],
   "source": [
    "df['Species'] = df['Species'].astype('category')\n",
    "df['Month'] = df['Month'].astype('category')\n",
    "df['Year'] = df['Year'].astype('category')\n",
    "df['Site'] = df['Site'].astype('category')\n",
    "df['Number'] = df['Number'].astype('category')\n",
    "df['Location'] = df['Location'].astype('category')\n",
    "df['Ropey'] = df['Ropey'].map(lambda x: x == 1)     # map to boolean value\n",
    "df['Segmented'] = df['Segmented'].map(lambda x: x == 1)\n",
    "df['Flat'] = df['Flat'].map(lambda x: x == 1)\n",
    "df['Scrape'] = df['Scrape'].map(lambda x: x == 1)"
   ]
  },
  {
   "cell_type": "code",
   "execution_count": 6,
   "metadata": {},
   "outputs": [
    {
     "name": "stdout",
     "output_type": "stream",
     "text": [
      "<class 'pandas.core.frame.DataFrame'>\n",
      "RangeIndex: 110 entries, 0 to 109\n",
      "Data columns (total 19 columns):\n",
      " #   Column     Non-Null Count  Dtype   \n",
      "---  ------     --------------  -----   \n",
      " 0   Species    110 non-null    category\n",
      " 1   Month      110 non-null    category\n",
      " 2   Year       110 non-null    category\n",
      " 3   Site       110 non-null    category\n",
      " 4   Location   110 non-null    category\n",
      " 5   Age        110 non-null    int64   \n",
      " 6   Number     110 non-null    category\n",
      " 7   Length     110 non-null    float64 \n",
      " 8   Diameter   104 non-null    float64 \n",
      " 9   Taper      93 non-null     float64 \n",
      " 10  TI         93 non-null     float64 \n",
      " 11  Mass       109 non-null    float64 \n",
      " 12  d13C       108 non-null    float64 \n",
      " 13  d15N       108 non-null    float64 \n",
      " 14  CN         108 non-null    float64 \n",
      " 15  Ropey      110 non-null    bool    \n",
      " 16  Segmented  110 non-null    bool    \n",
      " 17  Flat       110 non-null    bool    \n",
      " 18  Scrape     110 non-null    bool    \n",
      "dtypes: bool(4), category(6), float64(8), int64(1)\n",
      "memory usage: 10.2 KB\n"
     ]
    }
   ],
   "source": [
    "df.info()"
   ]
  },
  {
   "attachments": {},
   "cell_type": "markdown",
   "metadata": {},
   "source": [
    "**Clean the Data**\n",
    "\n",
    "It can be observed from the output above, the columns: Diameter, Taper, TI (taper index), Mass, d13C, d15N, and CN have null or missing values. Since CN depends on the values from d13C and d15N, it makes sense that these three columns are missing the same number of values. However, CN is the only biogeochemical trait being tested, so if a sample does not have CN data it should be discarded from the dataset. According to the research paper, samples that are missing Diameter, Taper or TI measurements indicate that the sample had an irregular morphology, rendering these measurements useless. These samples were given the label or category of 'flat' (Flat == True). As Dr. Reid described in her paper, these samples should be excluded from the summary statistics, but still used for modelling. However, in this lab, since we are only concerned with the summary statistics of the variables and their predictibility of species, I have decided to drop any samples with the shape 'flat' and with any missing morphological traits because it indicates that morphological data measurements (Diameter, Taper, TI) could not be taken. Therefore, I believe that is valid to drop all samples with null values from the dataset. In addition, since the paper does not define or mention the 'Age' variable and I do not know how to interpret this variable, I will remove the column from the dataset."
   ]
  },
  {
   "attachments": {},
   "cell_type": "markdown",
   "metadata": {},
   "source": [
    "**Drop all rows containing null values**"
   ]
  },
  {
   "cell_type": "code",
   "execution_count": 7,
   "metadata": {},
   "outputs": [],
   "source": [
    "df = df.drop(df[df['Flat'] == True].index)\n",
    "df = df.drop(df[df['CN'].isnull()].index)\n",
    "df = df.drop(df[df['Taper'].isnull()].index)\n",
    "df = df.dropna()"
   ]
  },
  {
   "attachments": {},
   "cell_type": "markdown",
   "metadata": {},
   "source": [
    "**Drop column 'Age'**"
   ]
  },
  {
   "cell_type": "code",
   "execution_count": 8,
   "metadata": {},
   "outputs": [],
   "source": [
    "df = df.drop(columns='Age', axis=1)"
   ]
  },
  {
   "cell_type": "code",
   "execution_count": 9,
   "metadata": {},
   "outputs": [
    {
     "name": "stdout",
     "output_type": "stream",
     "text": [
      "<class 'pandas.core.frame.DataFrame'>\n",
      "Int64Index: 91 entries, 0 to 109\n",
      "Data columns (total 18 columns):\n",
      " #   Column     Non-Null Count  Dtype   \n",
      "---  ------     --------------  -----   \n",
      " 0   Species    91 non-null     category\n",
      " 1   Month      91 non-null     category\n",
      " 2   Year       91 non-null     category\n",
      " 3   Site       91 non-null     category\n",
      " 4   Location   91 non-null     category\n",
      " 5   Number     91 non-null     category\n",
      " 6   Length     91 non-null     float64 \n",
      " 7   Diameter   91 non-null     float64 \n",
      " 8   Taper      91 non-null     float64 \n",
      " 9   TI         91 non-null     float64 \n",
      " 10  Mass       91 non-null     float64 \n",
      " 11  d13C       91 non-null     float64 \n",
      " 12  d15N       91 non-null     float64 \n",
      " 13  CN         91 non-null     float64 \n",
      " 14  Ropey      91 non-null     bool    \n",
      " 15  Segmented  91 non-null     bool    \n",
      " 16  Flat       91 non-null     bool    \n",
      " 17  Scrape     91 non-null     bool    \n",
      "dtypes: bool(4), category(6), float64(8)\n",
      "memory usage: 8.5 KB\n"
     ]
    }
   ],
   "source": [
    "df.info()"
   ]
  },
  {
   "attachments": {},
   "cell_type": "markdown",
   "metadata": {},
   "source": [
    "After cleaning the dataset, there is a total of 91 entries with 18 columns. "
   ]
  },
  {
   "attachments": {},
   "cell_type": "markdown",
   "metadata": {},
   "source": [
    "### **Analysis**"
   ]
  },
  {
   "attachments": {},
   "cell_type": "markdown",
   "metadata": {},
   "source": [
    "For each of the morphological and biogeochemical variables, we will test whether the variable is predictive of the species variable (whether a variable can distinguish at least one species from the others).\n",
    "\n",
    "One hypothesis that may be made at this point is that there will be at least one species that has a significantly different mean for the Carbon-Nitrogen ratio from the other species. In other words, hypothesizing that the C:N ratio can distinguish at least one species from the rest. In general, we might hypothesize that morphological and biogeochemical traits of a scat sample are sufficient for predicting the species that produced the sample. Some questions we may want to answer about the data:\n",
    "- What morphological and/or biochemical traits are able to distinguish at least one species from the rest?\n",
    "- What traits are the least important for predicting the species?\n",
    "- What type of traits are more predictive of distinguishing species, morphological or biogeochemical traits?\n",
    "\n",
    "\n",
    "To explore these questions further, I will be using ANOVA to test the statistical significance of the difference in the means of the following traits for the different species: scat length, scat diameter, taper, and the taper index. I will assume the same normality and homogeneity assumptions for the dataset as made by Dr. Reid in the paper. As explained by Dr. Reid, the only two variables that did not meet the normality and homogeneity assumptions for ANOVA were mass and the carbon-nitrogen ratio variables, so for these variables I will attempt to use the Kruskal-Wallis test. For each of the categorical variables, I will attempt to use the chi-square test of independence to determine if there is an association between the categorical variable and the species. The p-value significance threshold of 0.05 will be used throughout to determine statistical significance."
   ]
  },
  {
   "attachments": {},
   "cell_type": "markdown",
   "metadata": {},
   "source": [
    "#### **Morphological Variables**"
   ]
  },
  {
   "attachments": {},
   "cell_type": "markdown",
   "metadata": {},
   "source": [
    "#### **Number of scat pieces**"
   ]
  },
  {
   "attachments": {},
   "cell_type": "markdown",
   "metadata": {},
   "source": [
    "**Contingency table & heatmap**"
   ]
  },
  {
   "cell_type": "code",
   "execution_count": 10,
   "metadata": {},
   "outputs": [
    {
     "data": {
      "text/html": [
       "<div>\n",
       "<style scoped>\n",
       "    .dataframe tbody tr th:only-of-type {\n",
       "        vertical-align: middle;\n",
       "    }\n",
       "\n",
       "    .dataframe tbody tr th {\n",
       "        vertical-align: top;\n",
       "    }\n",
       "\n",
       "    .dataframe thead th {\n",
       "        text-align: right;\n",
       "    }\n",
       "</style>\n",
       "<table border=\"1\" class=\"dataframe\">\n",
       "  <thead>\n",
       "    <tr style=\"text-align: right;\">\n",
       "      <th>Species</th>\n",
       "      <th>Bobcat</th>\n",
       "      <th>Coyote</th>\n",
       "      <th>GrayFox</th>\n",
       "    </tr>\n",
       "    <tr>\n",
       "      <th>Number</th>\n",
       "      <th></th>\n",
       "      <th></th>\n",
       "      <th></th>\n",
       "    </tr>\n",
       "  </thead>\n",
       "  <tbody>\n",
       "    <tr>\n",
       "      <th>1</th>\n",
       "      <td>7</td>\n",
       "      <td>4</td>\n",
       "      <td>6</td>\n",
       "    </tr>\n",
       "    <tr>\n",
       "      <th>2</th>\n",
       "      <td>17</td>\n",
       "      <td>9</td>\n",
       "      <td>4</td>\n",
       "    </tr>\n",
       "    <tr>\n",
       "      <th>3</th>\n",
       "      <td>9</td>\n",
       "      <td>6</td>\n",
       "      <td>5</td>\n",
       "    </tr>\n",
       "    <tr>\n",
       "      <th>4</th>\n",
       "      <td>8</td>\n",
       "      <td>4</td>\n",
       "      <td>1</td>\n",
       "    </tr>\n",
       "    <tr>\n",
       "      <th>5</th>\n",
       "      <td>5</td>\n",
       "      <td>0</td>\n",
       "      <td>1</td>\n",
       "    </tr>\n",
       "    <tr>\n",
       "      <th>6</th>\n",
       "      <td>2</td>\n",
       "      <td>1</td>\n",
       "      <td>0</td>\n",
       "    </tr>\n",
       "    <tr>\n",
       "      <th>7</th>\n",
       "      <td>2</td>\n",
       "      <td>0</td>\n",
       "      <td>0</td>\n",
       "    </tr>\n",
       "  </tbody>\n",
       "</table>\n",
       "</div>"
      ],
      "text/plain": [
       "Species  Bobcat  Coyote  GrayFox\n",
       "Number                          \n",
       "1             7       4        6\n",
       "2            17       9        4\n",
       "3             9       6        5\n",
       "4             8       4        1\n",
       "5             5       0        1\n",
       "6             2       1        0\n",
       "7             2       0        0"
      ]
     },
     "execution_count": 10,
     "metadata": {},
     "output_type": "execute_result"
    }
   ],
   "source": [
    "ct = pd.crosstab(df['Number'], df['Species'])\n",
    "ct"
   ]
  },
  {
   "cell_type": "code",
   "execution_count": 11,
   "metadata": {},
   "outputs": [
    {
     "data": {
      "text/plain": [
       "<AxesSubplot:xlabel='Species', ylabel='Number'>"
      ]
     },
     "execution_count": 11,
     "metadata": {},
     "output_type": "execute_result"
    },
    {
     "data": {
      "image/png": "[encoded data removed]",
      "text/plain": [
       "<Figure size 640x480 with 2 Axes>"
      ]
     },
     "metadata": {},
     "output_type": "display_data"
    }
   ],
   "source": [
    "sns.heatmap(ct, annot=True)"
   ]
  },
  {
   "attachments": {},
   "cell_type": "markdown",
   "metadata": {},
   "source": [
    "**Chi-square test of independence**"
   ]
  },
  {
   "cell_type": "code",
   "execution_count": 12,
   "metadata": {},
   "outputs": [
    {
     "name": "stdout",
     "output_type": "stream",
     "text": [
      "percentage of expected cells that are at least 5: 33.33333333333333 %\n",
      "p_value = 0.5715835863103205\n"
     ]
    }
   ],
   "source": [
    "chi2, p_value, _, expected = stats.chi2_contingency(ct)\n",
    "at_least5 = sum(sum(expected >= 5) / expected.size)\n",
    "print(f'percentage of expected cells that are at least 5: {at_least5 * 100} %')\n",
    "print(f'p_value = {p_value}')"
   ]
  },
  {
   "attachments": {},
   "cell_type": "markdown",
   "metadata": {},
   "source": [
    "We can note that > 20% of the expected cells contain at least 5 samples, so this variable passes the assumptions of chi-square. The resulting p value for the relationship between species and number of scat pieces was not statistically significant, so we fail to reject the null hypothesis. There is no association between the number of scat pieces and the species."
   ]
  },
  {
   "attachments": {},
   "cell_type": "markdown",
   "metadata": {},
   "source": [
    "#### **Ropey**"
   ]
  },
  {
   "attachments": {},
   "cell_type": "markdown",
   "metadata": {},
   "source": [
    "**Contingency table & heatmap**"
   ]
  },
  {
   "cell_type": "code",
   "execution_count": 13,
   "metadata": {},
   "outputs": [
    {
     "data": {
      "text/html": [
       "<div>\n",
       "<style scoped>\n",
       "    .dataframe tbody tr th:only-of-type {\n",
       "        vertical-align: middle;\n",
       "    }\n",
       "\n",
       "    .dataframe tbody tr th {\n",
       "        vertical-align: top;\n",
       "    }\n",
       "\n",
       "    .dataframe thead th {\n",
       "        text-align: right;\n",
       "    }\n",
       "</style>\n",
       "<table border=\"1\" class=\"dataframe\">\n",
       "  <thead>\n",
       "    <tr style=\"text-align: right;\">\n",
       "      <th>Species</th>\n",
       "      <th>Bobcat</th>\n",
       "      <th>Coyote</th>\n",
       "      <th>GrayFox</th>\n",
       "    </tr>\n",
       "    <tr>\n",
       "      <th>Ropey</th>\n",
       "      <th></th>\n",
       "      <th></th>\n",
       "      <th></th>\n",
       "    </tr>\n",
       "  </thead>\n",
       "  <tbody>\n",
       "    <tr>\n",
       "      <th>False</th>\n",
       "      <td>20</td>\n",
       "      <td>11</td>\n",
       "      <td>4</td>\n",
       "    </tr>\n",
       "    <tr>\n",
       "      <th>True</th>\n",
       "      <td>30</td>\n",
       "      <td>13</td>\n",
       "      <td>13</td>\n",
       "    </tr>\n",
       "  </tbody>\n",
       "</table>\n",
       "</div>"
      ],
      "text/plain": [
       "Species  Bobcat  Coyote  GrayFox\n",
       "Ropey                           \n",
       "False        20      11        4\n",
       "True         30      13       13"
      ]
     },
     "execution_count": 13,
     "metadata": {},
     "output_type": "execute_result"
    }
   ],
   "source": [
    "ct = pd.crosstab(df['Ropey'], df['Species'])\n",
    "ct"
   ]
  },
  {
   "cell_type": "code",
   "execution_count": 14,
   "metadata": {},
   "outputs": [
    {
     "data": {
      "text/plain": [
       "<AxesSubplot:xlabel='Species', ylabel='Ropey'>"
      ]
     },
     "execution_count": 14,
     "metadata": {},
     "output_type": "execute_result"
    },
    {
     "data": {
      "image/png": "[encoded data removed]",
      "text/plain": [
       "<Figure size 640x480 with 2 Axes>"
      ]
     },
     "metadata": {},
     "output_type": "display_data"
    }
   ],
   "source": [
    "sns.heatmap(ct, annot=True)"
   ]
  },
  {
   "attachments": {},
   "cell_type": "markdown",
   "metadata": {},
   "source": [
    "**Chi-square test of independence**"
   ]
  },
  {
   "cell_type": "code",
   "execution_count": 15,
   "metadata": {},
   "outputs": [
    {
     "name": "stdout",
     "output_type": "stream",
     "text": [
      "percentage of expected cells that are at least 5: 100.0 %\n",
      "p_value = 0.33245321769363256\n"
     ]
    }
   ],
   "source": [
    "chi2, p_value, _, expected = stats.chi2_contingency(ct)\n",
    "at_least5 = sum(sum(expected >= 5) / expected.size)\n",
    "print(f'percentage of expected cells that are at least 5: {at_least5 * 100} %')\n",
    "print(f'p_value = {p_value}')"
   ]
  },
  {
   "attachments": {},
   "cell_type": "markdown",
   "metadata": {},
   "source": [
    "We can note that > 20% of the expected cells contain at least 5 samples, so this variable passes the assumptions of chi-square. The resulting p value for the relationship between species and whether a scat was ropey was not statistically significant, so we fail to reject the null hypothesis. There is no association between the ropey scat and the species."
   ]
  },
  {
   "attachments": {},
   "cell_type": "markdown",
   "metadata": {},
   "source": [
    "#### **Segmented Scat**"
   ]
  },
  {
   "attachments": {},
   "cell_type": "markdown",
   "metadata": {},
   "source": [
    "**Contingency table & heatmap**"
   ]
  },
  {
   "cell_type": "code",
   "execution_count": 16,
   "metadata": {},
   "outputs": [
    {
     "data": {
      "text/html": [
       "<div>\n",
       "<style scoped>\n",
       "    .dataframe tbody tr th:only-of-type {\n",
       "        vertical-align: middle;\n",
       "    }\n",
       "\n",
       "    .dataframe tbody tr th {\n",
       "        vertical-align: top;\n",
       "    }\n",
       "\n",
       "    .dataframe thead th {\n",
       "        text-align: right;\n",
       "    }\n",
       "</style>\n",
       "<table border=\"1\" class=\"dataframe\">\n",
       "  <thead>\n",
       "    <tr style=\"text-align: right;\">\n",
       "      <th>Species</th>\n",
       "      <th>Bobcat</th>\n",
       "      <th>Coyote</th>\n",
       "      <th>GrayFox</th>\n",
       "    </tr>\n",
       "    <tr>\n",
       "      <th>Segmented</th>\n",
       "      <th></th>\n",
       "      <th></th>\n",
       "      <th></th>\n",
       "    </tr>\n",
       "  </thead>\n",
       "  <tbody>\n",
       "    <tr>\n",
       "      <th>False</th>\n",
       "      <td>13</td>\n",
       "      <td>12</td>\n",
       "      <td>11</td>\n",
       "    </tr>\n",
       "    <tr>\n",
       "      <th>True</th>\n",
       "      <td>37</td>\n",
       "      <td>12</td>\n",
       "      <td>6</td>\n",
       "    </tr>\n",
       "  </tbody>\n",
       "</table>\n",
       "</div>"
      ],
      "text/plain": [
       "Species    Bobcat  Coyote  GrayFox\n",
       "Segmented                         \n",
       "False          13      12       11\n",
       "True           37      12        6"
      ]
     },
     "execution_count": 16,
     "metadata": {},
     "output_type": "execute_result"
    }
   ],
   "source": [
    "ct = pd.crosstab(df['Segmented'], df['Species'])\n",
    "ct"
   ]
  },
  {
   "cell_type": "code",
   "execution_count": 17,
   "metadata": {},
   "outputs": [
    {
     "data": {
      "text/plain": [
       "<AxesSubplot:xlabel='Species', ylabel='Segmented'>"
      ]
     },
     "execution_count": 17,
     "metadata": {},
     "output_type": "execute_result"
    },
    {
     "data": {
      "image/png": "[encoded data removed]",
      "text/plain": [
       "<Figure size 640x480 with 2 Axes>"
      ]
     },
     "metadata": {},
     "output_type": "display_data"
    }
   ],
   "source": [
    "sns.heatmap(ct, annot=True)"
   ]
  },
  {
   "attachments": {},
   "cell_type": "markdown",
   "metadata": {},
   "source": [
    "**Chi-square test of independence**"
   ]
  },
  {
   "cell_type": "code",
   "execution_count": 18,
   "metadata": {},
   "outputs": [
    {
     "name": "stdout",
     "output_type": "stream",
     "text": [
      "percentage of expected cells that are at least 5: 100.0 %\n",
      "p_value = 0.008938136966029308\n"
     ]
    }
   ],
   "source": [
    "chi2, p_value, _, expected = stats.chi2_contingency(ct)\n",
    "at_least5 = sum(sum(expected >= 5) / expected.size)\n",
    "print(f'percentage of expected cells that are at least 5: {at_least5 * 100} %')\n",
    "print(f'p_value = {p_value}')"
   ]
  },
  {
   "attachments": {},
   "cell_type": "markdown",
   "metadata": {},
   "source": [
    "We can note that > 20% of the expected cells contain at least 5 samples, so this variable passes the assumptions of chi-square. The resulting p value for the relationship between segmented scat and the species was lower than the threshold of 0.05, and is therefore statistically significant. Therefore, we conclude that there is an association between segmented scat and species."
   ]
  },
  {
   "attachments": {},
   "cell_type": "markdown",
   "metadata": {},
   "source": [
    "#### **Scat length**"
   ]
  },
  {
   "attachments": {},
   "cell_type": "markdown",
   "metadata": {},
   "source": [
    "**Boxplot : Length v. Species**"
   ]
  },
  {
   "cell_type": "code",
   "execution_count": 19,
   "metadata": {},
   "outputs": [
    {
     "data": {
      "text/plain": [
       "Text(0.5, 1.0, 'Scat Length v. Species')"
      ]
     },
     "execution_count": 19,
     "metadata": {},
     "output_type": "execute_result"
    },
    {
     "data": {
      "image/png": "[encoded data removed]",
      "text/plain": [
       "<Figure size 1200x600 with 1 Axes>"
      ]
     },
     "metadata": {},
     "output_type": "display_data"
    }
   ],
   "source": [
    "plot = sns.boxplot(data=df, x='Species', y='Length')\n",
    "plot.set_xticklabels(plot.get_xticklabels(), rotation=90)\n",
    "plot.figure.set_size_inches(12,6)\n",
    "plt.title('Scat Length v. Species')"
   ]
  },
  {
   "attachments": {},
   "cell_type": "markdown",
   "metadata": {},
   "source": [
    "**One-Way ANOVA**"
   ]
  },
  {
   "cell_type": "code",
   "execution_count": 20,
   "metadata": {},
   "outputs": [
    {
     "name": "stdout",
     "output_type": "stream",
     "text": [
      "p_value = 0.376070355639486\n"
     ]
    }
   ],
   "source": [
    "samples_by_species = []\n",
    "for value in set(df['Species']):\n",
    "    mask = df['Species'] == value\n",
    "    samples_by_species.append(df['Length'][mask])\n",
    "stat, p_value = stats.f_oneway(*samples_by_species)\n",
    "print(f'p_value = {p_value}')"
   ]
  },
  {
   "attachments": {},
   "cell_type": "markdown",
   "metadata": {},
   "source": [
    "The resulting p value for the relationship between species and scat length was not statistically significant, so we fail to reject the null hypothesis. There is no significant difference between the means of scat length for each of the species."
   ]
  },
  {
   "attachments": {},
   "cell_type": "markdown",
   "metadata": {},
   "source": [
    "#### **Scat Diameter**"
   ]
  },
  {
   "attachments": {},
   "cell_type": "markdown",
   "metadata": {},
   "source": [
    "**Boxplot : Diameter v. Species**"
   ]
  },
  {
   "cell_type": "code",
   "execution_count": 21,
   "metadata": {},
   "outputs": [
    {
     "data": {
      "text/plain": [
       "Text(0.5, 1.0, 'Scat Diameter v. Species')"
      ]
     },
     "execution_count": 21,
     "metadata": {},
     "output_type": "execute_result"
    },
    {
     "data": {
      "image/png": "[encoded data removed]",
      "text/plain": [
       "<Figure size 1200x600 with 1 Axes>"
      ]
     },
     "metadata": {},
     "output_type": "display_data"
    }
   ],
   "source": [
    "plot = sns.boxplot(data=df, x='Species', y='Diameter')\n",
    "plot.set_xticklabels(plot.get_xticklabels(), rotation=90)\n",
    "plot.figure.set_size_inches(12,6)\n",
    "plt.title('Scat Diameter v. Species')"
   ]
  },
  {
   "attachments": {},
   "cell_type": "markdown",
   "metadata": {},
   "source": [
    "**One-Way ANOVA**"
   ]
  },
  {
   "cell_type": "code",
   "execution_count": 22,
   "metadata": {},
   "outputs": [
    {
     "name": "stdout",
     "output_type": "stream",
     "text": [
      "p_value = 4.342371577233711e-06\n"
     ]
    }
   ],
   "source": [
    "samples_by_species = []\n",
    "for value in set(df['Species']):\n",
    "    mask = df['Species'] == value\n",
    "    samples_by_species.append(df['Diameter'][mask])\n",
    "stat, p_value = stats.f_oneway(*samples_by_species)\n",
    "print(f'p_value = {p_value}')"
   ]
  },
  {
   "attachments": {},
   "cell_type": "markdown",
   "metadata": {},
   "source": [
    "The resulting p value for the relationship between species and scat diameter is less than the significance threshold 0.05, so the scat diameter is statistically significant and we reject the null hypothesis. The mean of the scat diameter of at least one of the species is significantly different from at least one other species."
   ]
  },
  {
   "attachments": {},
   "cell_type": "markdown",
   "metadata": {},
   "source": [
    "#### **Scat Taper**"
   ]
  },
  {
   "attachments": {},
   "cell_type": "markdown",
   "metadata": {},
   "source": [
    "**Boxplot : Scat Taper v. Species**"
   ]
  },
  {
   "cell_type": "code",
   "execution_count": 23,
   "metadata": {},
   "outputs": [
    {
     "data": {
      "text/plain": [
       "Text(0.5, 1.0, 'Scat Taper v. Species')"
      ]
     },
     "execution_count": 23,
     "metadata": {},
     "output_type": "execute_result"
    },
    {
     "data": {
      "image/png": "[encoded data removed]",
      "text/plain": [
       "<Figure size 1200x600 with 1 Axes>"
      ]
     },
     "metadata": {},
     "output_type": "display_data"
    }
   ],
   "source": [
    "plot = sns.boxplot(data=df, x='Species', y='Taper')\n",
    "plot.set_xticklabels(plot.get_xticklabels(), rotation=90)\n",
    "plot.figure.set_size_inches(12,6)\n",
    "plt.title('Scat Taper v. Species')"
   ]
  },
  {
   "attachments": {},
   "cell_type": "markdown",
   "metadata": {},
   "source": [
    "**One-Way ANOVA**"
   ]
  },
  {
   "cell_type": "code",
   "execution_count": 24,
   "metadata": {},
   "outputs": [
    {
     "name": "stdout",
     "output_type": "stream",
     "text": [
      "p_value = 0.07543946700796307\n"
     ]
    }
   ],
   "source": [
    "samples_by_species = []\n",
    "for value in set(df['Species']):\n",
    "    mask = df['Species'] == value\n",
    "    samples_by_species.append(df['Taper'][mask])\n",
    "stat, p_value = stats.f_oneway(*samples_by_species)\n",
    "print(f'p_value = {p_value}')"
   ]
  },
  {
   "attachments": {},
   "cell_type": "markdown",
   "metadata": {},
   "source": [
    "The resulting p value for the relationship between species and scat taper was not statistically significant, so we fail to reject the null hypothesis. There is no significant difference between the means of scat taper for each of the species, they all have the same mean."
   ]
  },
  {
   "attachments": {},
   "cell_type": "markdown",
   "metadata": {},
   "source": [
    "#### **Taper Index**"
   ]
  },
  {
   "attachments": {},
   "cell_type": "markdown",
   "metadata": {},
   "source": [
    "**Boxplot : Taper Index v. Species**"
   ]
  },
  {
   "cell_type": "code",
   "execution_count": 25,
   "metadata": {},
   "outputs": [
    {
     "data": {
      "text/plain": [
       "Text(0.5, 1.0, 'Taper Index v. Species')"
      ]
     },
     "execution_count": 25,
     "metadata": {},
     "output_type": "execute_result"
    },
    {
     "data": {
      "image/png": "[encoded data removed]",
      "text/plain": [
       "<Figure size 1200x600 with 1 Axes>"
      ]
     },
     "metadata": {},
     "output_type": "display_data"
    }
   ],
   "source": [
    "plot = sns.boxplot(data=df, x='Species', y='TI')\n",
    "plot.set_xticklabels(plot.get_xticklabels(), rotation=90)\n",
    "plot.figure.set_size_inches(12,6)\n",
    "plt.title('Taper Index v. Species')"
   ]
  },
  {
   "attachments": {},
   "cell_type": "markdown",
   "metadata": {},
   "source": [
    "**One-Way ANOVA**"
   ]
  },
  {
   "cell_type": "code",
   "execution_count": 26,
   "metadata": {},
   "outputs": [
    {
     "name": "stdout",
     "output_type": "stream",
     "text": [
      "p_value = 0.3471629419168677\n"
     ]
    }
   ],
   "source": [
    "samples_by_species = []\n",
    "for value in set(df['Species']):\n",
    "    mask = df['Species'] == value\n",
    "    samples_by_species.append(df['TI'][mask])\n",
    "stat, p_value = stats.f_oneway(*samples_by_species)\n",
    "print(f'p_value = {p_value}')"
   ]
  },
  {
   "attachments": {},
   "cell_type": "markdown",
   "metadata": {},
   "source": [
    "The resulting p value for the relationship between species and taper index was not statistically significant, so we fail to reject the null hypothesis. There is no significant difference between the means of taper index for each of the species; they all have the same mean."
   ]
  },
  {
   "attachments": {},
   "cell_type": "markdown",
   "metadata": {},
   "source": [
    "#### **Mass**"
   ]
  },
  {
   "attachments": {},
   "cell_type": "markdown",
   "metadata": {},
   "source": [
    "**Boxplot : Mass v. Species**"
   ]
  },
  {
   "cell_type": "code",
   "execution_count": 27,
   "metadata": {},
   "outputs": [
    {
     "data": {
      "text/plain": [
       "Text(0.5, 1.0, 'Mass v. Species')"
      ]
     },
     "execution_count": 27,
     "metadata": {},
     "output_type": "execute_result"
    },
    {
     "data": {
      "image/png": "[encoded data removed]",
      "text/plain": [
       "<Figure size 1200x600 with 1 Axes>"
      ]
     },
     "metadata": {},
     "output_type": "display_data"
    }
   ],
   "source": [
    "plot = sns.boxplot(data=df, x='Species', y='Mass')\n",
    "plot.set_xticklabels(plot.get_xticklabels(), rotation=90)\n",
    "plot.figure.set_size_inches(12,6)\n",
    "plt.title('Mass v. Species')"
   ]
  },
  {
   "attachments": {},
   "cell_type": "markdown",
   "metadata": {},
   "source": [
    "**Kruskal-Wallis**"
   ]
  },
  {
   "cell_type": "code",
   "execution_count": 28,
   "metadata": {},
   "outputs": [
    {
     "data": {
      "text/plain": [
       "Bobcat     50\n",
       "Coyote     24\n",
       "GrayFox    17\n",
       "Name: Species, dtype: int64"
      ]
     },
     "execution_count": 28,
     "metadata": {},
     "output_type": "execute_result"
    }
   ],
   "source": [
    "df['Species'].value_counts()"
   ]
  },
  {
   "cell_type": "code",
   "execution_count": 29,
   "metadata": {},
   "outputs": [
    {
     "name": "stdout",
     "output_type": "stream",
     "text": [
      "p_value = 3.0076046880910635e-06\n"
     ]
    }
   ],
   "source": [
    "samples_by_species = []\n",
    "for value in set(df['Species']):\n",
    "    mask = df['Species'] == value\n",
    "    samples_by_species.append(df['Mass'][mask])\n",
    "stat, p_value = stats.kruskal(*samples_by_species)\n",
    "print(f'p_value = {p_value}')"
   ]
  },
  {
   "attachments": {},
   "cell_type": "markdown",
   "metadata": {},
   "source": [
    "Note that, each species category has > 5 samples, so the data passes the assumptions of the Kruskal-Wallis test. The resulting p value for the relationship between scat mass and species is statistically significant. Therefore, we can reject the null hypothesis and conclude that the mean ranks of  at least one species' scat mass is significantly different than at least one of the other species' mean ranks."
   ]
  },
  {
   "attachments": {},
   "cell_type": "markdown",
   "metadata": {},
   "source": [
    "#### **Biogeochemical Variables**"
   ]
  },
  {
   "attachments": {},
   "cell_type": "markdown",
   "metadata": {},
   "source": [
    "#### **d13C**"
   ]
  },
  {
   "attachments": {},
   "cell_type": "markdown",
   "metadata": {},
   "source": [
    "**Boxplot : d13C v. Species**"
   ]
  },
  {
   "cell_type": "code",
   "execution_count": 30,
   "metadata": {},
   "outputs": [
    {
     "data": {
      "text/plain": [
       "Text(0.5, 1.0, 'd13C v. Species')"
      ]
     },
     "execution_count": 30,
     "metadata": {},
     "output_type": "execute_result"
    },
    {
     "data": {
      "image/png": "[encoded data removed]",
      "text/plain": [
       "<Figure size 1200x600 with 1 Axes>"
      ]
     },
     "metadata": {},
     "output_type": "display_data"
    }
   ],
   "source": [
    "plot = sns.boxplot(data=df, x='Species', y='d13C')\n",
    "plot.set_xticklabels(plot.get_xticklabels(), rotation=90)\n",
    "plot.figure.set_size_inches(12,6)\n",
    "plt.title('d13C v. Species')"
   ]
  },
  {
   "attachments": {},
   "cell_type": "markdown",
   "metadata": {},
   "source": [
    "**Kruskal-Wallis**"
   ]
  },
  {
   "cell_type": "code",
   "execution_count": 31,
   "metadata": {},
   "outputs": [
    {
     "name": "stdout",
     "output_type": "stream",
     "text": [
      "p_value = 0.0006792027304102746\n"
     ]
    }
   ],
   "source": [
    "samples_by_species = []\n",
    "for value in set(df['Species']):\n",
    "    mask = df['Species'] == value\n",
    "    samples_by_species.append(df['d13C'][mask])\n",
    "stat, p_value = stats.kruskal(*samples_by_species)\n",
    "print(f'p_value = {p_value}')"
   ]
  },
  {
   "attachments": {},
   "cell_type": "markdown",
   "metadata": {},
   "source": [
    "The resulting p value for the relationship between d13C and species is statistically significant. Therefore, we can reject the null hypothesis and conclude that the mean ranks of at least one species' d13C is significantly different than at least one of the other species' mean ranks."
   ]
  },
  {
   "attachments": {},
   "cell_type": "markdown",
   "metadata": {},
   "source": [
    "#### **d15N**"
   ]
  },
  {
   "attachments": {},
   "cell_type": "markdown",
   "metadata": {},
   "source": [
    "**Boxplot : d15N v. Species**"
   ]
  },
  {
   "cell_type": "code",
   "execution_count": 32,
   "metadata": {},
   "outputs": [
    {
     "data": {
      "text/plain": [
       "Text(0.5, 1.0, 'd15N v. Species')"
      ]
     },
     "execution_count": 32,
     "metadata": {},
     "output_type": "execute_result"
    },
    {
     "data": {
      "image/png": "[encoded data removed]",
      "text/plain": [
       "<Figure size 1200x600 with 1 Axes>"
      ]
     },
     "metadata": {},
     "output_type": "display_data"
    }
   ],
   "source": [
    "plot = sns.boxplot(data=df, x='Species', y='d15N')\n",
    "plot.set_xticklabels(plot.get_xticklabels(), rotation=90)\n",
    "plot.figure.set_size_inches(12,6)\n",
    "plt.title('d15N v. Species')"
   ]
  },
  {
   "attachments": {},
   "cell_type": "markdown",
   "metadata": {},
   "source": [
    "**Kruskal-Wallis**"
   ]
  },
  {
   "cell_type": "code",
   "execution_count": 33,
   "metadata": {},
   "outputs": [
    {
     "name": "stdout",
     "output_type": "stream",
     "text": [
      "p_value = 1.7617323237023882e-05\n"
     ]
    }
   ],
   "source": [
    "samples_by_species = []\n",
    "for value in set(df['Species']):\n",
    "    mask = df['Species'] == value\n",
    "    samples_by_species.append(df['d15N'][mask])\n",
    "stat, p_value = stats.kruskal(*samples_by_species)\n",
    "print(f'p_value = {p_value}')"
   ]
  },
  {
   "attachments": {},
   "cell_type": "markdown",
   "metadata": {},
   "source": [
    "The resulting p value for the relationship between d15N and species is statistically significant. Therefore, we can reject the null hypothesis and conclude that the mean ranks of at least one species' d13N is significantly different than at least one of the other species' mean ranks for the variable."
   ]
  },
  {
   "attachments": {},
   "cell_type": "markdown",
   "metadata": {},
   "source": [
    "#### **Carbon-Nitrogen Ratio**"
   ]
  },
  {
   "attachments": {},
   "cell_type": "markdown",
   "metadata": {},
   "source": [
    "**Boxplot : CN v. Species**"
   ]
  },
  {
   "cell_type": "code",
   "execution_count": 34,
   "metadata": {},
   "outputs": [
    {
     "data": {
      "text/plain": [
       "Text(0.5, 1.0, 'CN v. Species')"
      ]
     },
     "execution_count": 34,
     "metadata": {},
     "output_type": "execute_result"
    },
    {
     "data": {
      "image/png": "[encoded data removed]",
      "text/plain": [
       "<Figure size 1200x600 with 1 Axes>"
      ]
     },
     "metadata": {},
     "output_type": "display_data"
    }
   ],
   "source": [
    "plot = sns.boxplot(data=df, x='Species', y='CN')\n",
    "plot.set_xticklabels(plot.get_xticklabels(), rotation=90)\n",
    "plot.figure.set_size_inches(12,6)\n",
    "plt.title('CN v. Species')"
   ]
  },
  {
   "attachments": {},
   "cell_type": "markdown",
   "metadata": {},
   "source": [
    "**Kruskal-Wallis**"
   ]
  },
  {
   "cell_type": "code",
   "execution_count": 35,
   "metadata": {},
   "outputs": [
    {
     "name": "stdout",
     "output_type": "stream",
     "text": [
      "p_value = 1.733511280849129e-05\n"
     ]
    }
   ],
   "source": [
    "samples_by_species = []\n",
    "for value in set(df['Species']):\n",
    "    mask = df['Species'] == value\n",
    "    samples_by_species.append(df['CN'][mask])\n",
    "stat, p_value = stats.kruskal(*samples_by_species)\n",
    "print(f'p_value = {p_value}')"
   ]
  },
  {
   "attachments": {},
   "cell_type": "markdown",
   "metadata": {},
   "source": [
    "The resulting p value for the relationship between C:N ratio and species is statistically significant. Therefore, we can reject the null hypothesis and conclude that the mean ranks of at least one species' C:N ratio is significantly different than at least one of the other species' mean ranks."
   ]
  },
  {
   "attachments": {},
   "cell_type": "markdown",
   "metadata": {},
   "source": [
    "#### **Calculate Result Statistics for Significant Traits**"
   ]
  },
  {
   "attachments": {},
   "cell_type": "markdown",
   "metadata": {},
   "source": [
    "Create a dataframe for each species from the cleaned data frame."
   ]
  },
  {
   "cell_type": "code",
   "execution_count": 36,
   "metadata": {},
   "outputs": [],
   "source": [
    "coyote_df = df[df['Species'] == 'Coyote']\n",
    "bobcat_df = df[df['Species'] == 'Bobcat']\n",
    "grayfox_df = df[df['Species'] == 'GrayFox']"
   ]
  },
  {
   "cell_type": "code",
   "execution_count": 37,
   "metadata": {},
   "outputs": [],
   "source": [
    "def get_summary_stats(species_df, col):\n",
    "    stats = []\n",
    "    stats.append(species_df[col].mean())\n",
    "    stats.append(species_df[col].std())\n",
    "    stats.append(species_df[col].mode()[0])\n",
    "    return stats                                        # returns [mean, std, mode]\n",
    "\n",
    "def print_summary_stat(stats):\n",
    "    print(f'\\t\\tmean = {stats[0]}\\tstd = {stats[1]}\\tmode = {stats[2]}')"
   ]
  },
  {
   "cell_type": "code",
   "execution_count": 38,
   "metadata": {},
   "outputs": [
    {
     "name": "stdout",
     "output_type": "stream",
     "text": [
      "TRAIT : Segmented\n",
      "\tBOBCAT\n",
      "\t\tmean = 0.74\tstd = 0.44308749769345207\tmode = True\n",
      "\tCOYOTE\n",
      "\t\tmean = 0.5\tstd = 0.5107539184552492\tmode = False\n",
      "\tGRAY FOX\n",
      "\t\tmean = 0.35294117647058826\tstd = 0.49259218307188896\tmode = False\n",
      "\n",
      "TRAIT : Diameter\n",
      "\tBOBCAT\n",
      "\t\tmean = 18.601999999999997\tstd = 2.7140217916800675\tmode = 15.7\n",
      "\tCOYOTE\n",
      "\t\tmean = 20.466666666666665\tstd = 4.709810913463481\tmode = 22.9\n",
      "\tGRAY FOX\n",
      "\t\tmean = 14.670588235294119\tstd = 3.3637339196721467\tmode = 15.8\n",
      "\n",
      "TRAIT : Mass\n",
      "\tBOBCAT\n",
      "\t\tmean = 12.106\tstd = 6.25445278116613\tmode = 13.0\n",
      "\tCOYOTE\n",
      "\t\tmean = 18.650000000000002\tstd = 12.61756229470929\tmode = 0.94\n",
      "\tGRAY FOX\n",
      "\t\tmean = 5.02\tstd = 2.1999914772562192\tmode = 2.05\n",
      "\n",
      "TRAIT : d13C\n",
      "\tBOBCAT\n",
      "\t\tmean = -27.738800000000005\tstd = 1.0865459972231424\tmode = -27.92\n",
      "\tCOYOTE\n",
      "\t\tmean = -25.149166666666662\tstd = 3.059506804054858\tmode = -29.62\n",
      "\tGRAY FOX\n",
      "\t\tmean = -27.590000000000003\tstd = 0.9822105171499639\tmode = -26.99\n",
      "\n",
      "TRAIT : d15N\n",
      "\tBOBCAT\n",
      "\t\tmean = 6.5346\tstd = 1.7831938899008128\tmode = 5.36\n",
      "\tCOYOTE\n",
      "\t\tmean = 9.960833333333333\tstd = 3.749792941143454\tmode = 3.97\n",
      "\tGRAY FOX\n",
      "\t\tmean = 5.839999999999999\tstd = 1.3920039511438178\tmode = 3.9\n",
      "\n",
      "TRAIT : CN\n",
      "\tBOBCAT\n",
      "\t\tmean = 6.6354\tstd = 1.102055982132987\tmode = 7.0\n",
      "\tCOYOTE\n",
      "\t\tmean = 8.583333333333334\tstd = 2.4766152685481444\tmode = 6.7\n",
      "\tGRAY FOX\n",
      "\t\tmean = 10.28235294117647\tstd = 5.1564565466652645\tmode = 7.7\n",
      "\n"
     ]
    }
   ],
   "source": [
    "significant_cols = ['Segmented', 'Diameter', 'Mass', 'd13C', 'd15N', 'CN']\n",
    "\n",
    "for sig in significant_cols:\n",
    "    print(f'TRAIT : {sig}')\n",
    "    \n",
    "    coyote_stats = get_summary_stats(coyote_df, sig)\n",
    "    bobcat_stats = get_summary_stats(bobcat_df, sig)\n",
    "    grayfox_stats = get_summary_stats(grayfox_df, sig)\n",
    "    \n",
    "    print(f'\\tBOBCAT')\n",
    "    print_summary_stat(bobcat_stats)\n",
    "    print(f'\\tCOYOTE')\n",
    "    print_summary_stat(coyote_stats)\n",
    "    print(f'\\tGRAY FOX')\n",
    "    print_summary_stat(grayfox_stats)\n",
    "    print()"
   ]
  },
  {
   "attachments": {},
   "cell_type": "markdown",
   "metadata": {},
   "source": [
    "**Species Sample Size**"
   ]
  },
  {
   "cell_type": "code",
   "execution_count": 39,
   "metadata": {},
   "outputs": [
    {
     "data": {
      "text/plain": [
       "Bobcat     50\n",
       "Coyote     24\n",
       "GrayFox    17\n",
       "Name: Species, dtype: int64"
      ]
     },
     "execution_count": 39,
     "metadata": {},
     "output_type": "execute_result"
    }
   ],
   "source": [
    "df['Species'].value_counts()"
   ]
  },
  {
   "attachments": {},
   "cell_type": "markdown",
   "metadata": {},
   "source": [
    "It is important to note that the sample size for each of the species is different, there are 50 entries that represent the species, 'Bobcat' and only 17 samples of data that represent gray foxes. This is due to the removal of missing data from the data cleaning step. In other words, our data is imbalanced and may introduce bias into a machine learning model."
   ]
  },
  {
   "attachments": {},
   "cell_type": "markdown",
   "metadata": {},
   "source": [
    "### **Interpretation of Results**"
   ]
  },
  {
   "attachments": {},
   "cell_type": "markdown",
   "metadata": {},
   "source": [
    "The table below summarizes the morphological and biogeochemical traits that have a statistically significant relationship with distinguishing at least one species from the others. A significance threshold of 0.05 was used to evaluate the significance of each of the p-values.\n",
    "\n",
    "Trait | Trait Type | p_value | Bobcat Mean +/- stddev | Bobcat Mode | Coyote Mean +/- stddev | Coyote Mode | Gray Fox Mean +/- stddev | Gray Fox Mode\n",
    "-----|-----|-----|-----|-----|-----|-----|-----|-----\n",
    "Segmented | Morphological | 0.008938136966029308 | 74% True | True | 50% True | x | 35.29% True | False\n",
    "Diameter | Morphological | 4.342371577233683e-06 | 18.6020 +/- 2.714  | 15.7 | 20.4667 +/- 4.7010 | 22.9 | 14.6706 +/- 3.364 | 15.8\n",
    "Mass | Morphological | 3.0076046880910635e-06 | 12.106 +/- 6.254 | 13.0 | 18.6500 +/- 12.618 | 0.94 | 5.02 +/- 2.200 | 2.05\n",
    "d13C | Biogeochemical | 0.0006792027304102746 | -27.739 +/- 1.087  | -27.92 | -25.149 +/- 3.060 | -29.62 | -27.590 +/- 0.982 | -26.99\n",
    "d15N | Biogeochemical | 1.7617323237023882e-05 | 6.5346 +/- 1.783  | 5.36 | 9.961 +/- 3.750 | 3.97 | 5.840 +/- 1.392 | 3.9\n",
    "CN | Biogeochemical | 1.733511280849129e-05 | 6.6354 +/- 1.102  | 7.0 | 8.583 +/- 2.477 | 6.7 | 10.282 +/- 5.156 | 7.7"
   ]
  },
  {
   "attachments": {},
   "cell_type": "markdown",
   "metadata": {},
   "source": [
    "After completing a statistical analysis on the cleaned scat data set, I found three morphological and three biogeochemical traits that can distinguish at least one species from the rest. \n",
    "\n",
    "The first morphological trait that I found to be able to distinguish one of the species is the scat diameter. From the table above, we can observe that, on average, gray foxes have the smallest diameter scat where as bobcats and coyotes have similar, but generally larger diameter scat. This is most likely due to the typical size of each of these species. Coyotes range in length from about 2 and a half feet to 4 feet long and weigh anywhere from 15 pounds to 46 pounds. Bobcats are anywhere between 2 feet and 3 and a half feet long and weigh anywhere from 9 to 33 pounds. Gray foxes usually weigh anywhere between 5 and 20 pounds and are anywhere from 2 and a half to four feet long. Therefore, gray foxes tend to be smaller than both bobcats and coyotes which could explain why gray fox scat diameter is smaller than the other species.\n",
    "\n",
    "The second morphological trait that is able to distinguish one of the species from the others is scat mass. It can be observed from the table that gray fox scat mass was on average, much smaller than the scat mass of both the bobcat and coyote scat means. I believe that is due to similar reasons listed above. Since gray foxes are smaller mammals, and they most likely consume less food, they produce less scat (smaller mass). This means that coyotes and bobcats tend to have greater scat mass because they are larger animals.\n",
    "\n",
    "The last significant morphological trait I found was segmented scat. According to the table, 74% of the bobcat samples had segmented scat which was more than both the coyote and gray fox true percentages, however the coyote percentage was greater than gray fox. I think that this is potentially related to the diet of each of the species. Bobcats' diet consists solely of meat, and although coyotes are ominivorous, they are opportunistic carnivores and thus consume mostly meat. Both bobcats and coyotes produced more segmented scat than gray foxes. Gray foxes are omnivorous, however their diet is mainly plants. Therefore, it could be that a diet that is low in plants is less likely to produce segmented scat. \n",
    "\n",
    "The significant biogeochemical traits that I found include: d13C, d15C, and CN. The variables d13C and d15C are used to calculate the Carbon-Nitrogen ratio, so it makes sense that all three of these variables were found to be statistically significant. The C:N ratio is used to describe the how much of an animal's diet is meat. As explained in the data section, vascular plants tend have high C:N ratios and animals tend to have low C:N ratios. Therefore, animals that eat mostly meat are likely to have a low C:N ratio in their feces and animals that eat a lot of plants will have a high C:N ratio. It can be observed from the table above that on average, gray foxes have the highest CN ratio and bobcats have the lowest C:N ratio. This is due to the diet of each of these species. Bobcats are strictly carnivores so it is to be expected that bobcats would typically have a low C:N ratio. In additon, gray foxes incorporate a lot of plants into their diet, so it is not surprising that the CN ratio for the gray foxes was higher than the other species. "
   ]
  },
  {
   "attachments": {},
   "cell_type": "markdown",
   "metadata": {},
   "source": [
    "### **Conclusion**"
   ]
  },
  {
   "attachments": {},
   "cell_type": "markdown",
   "metadata": {},
   "source": [
    "Upon completion of my analysis of the scat data, I found both morphological and biogeochemical characteristics of scat samples to be significantly different between the different mesopredators: coyotes, bobcats, and gray foxes. The three morphological traits that can distinguish at least one species from the rest are: scat diameter, mass, and whether or not a sample was segmented. The significance of each of these variables is due to the average size of each of these species and their diet. Gray foxes produced scat with the smallest diameter and mass compared to the other two species, because gray foxes are smaller and eat less than the other species. Gray foxes had the lowest percentage of segmented samples which could be explained by their high consumption of plants compared to the other species, thus concluding that species with a diet high in plants, or low in meat, produce segmented scat less. The Carbon-Nitrogen ratio also proved to be the only biogeochemical trait that was significantly different between the three species. Bobcats tend to have a low C:N ratio because they only eat meat, and animals have a low C:N ratio. Gray foxes tend to have the highest C:N ratio because their diet mostly consists of plants which also have a high C:N ratio. Coyotes are omnivorous, but perfer to eat meat so their C:N ratio is in between the other two species.\n",
    "\n",
    "In order to continue or further expand on this work, I would recommend using the cleaned data set to test and build a predictive model that attempts to predict the species of a scat sample based on its morphological and biogeochemical traits. Morpholgical and biogeochemical data may be more useful than contextutal data for building a predictive model because these kinds of data are easily quantified and can be measured, unlike contextual data (e.g. scrape marks) which is often subjective and can be interferred with by weather or other factors. In order to build a good predictive model, I think that additional data may be needed to accurately predict the target species since the data set is quite small. The results of the statistical analysis above show that there are traits that can be used to distinguish a species from the others, which indicates that these variables could be predictive of species in a machine learning model. A modelling approach to distinguishing species from scat is an efficient and cost-effective alternative, or additional tool, to the traditional morphological approach. Overall, I think that by furthering efforts to collect more data and efforts to use the data to train a predictive model, conservation ecologists can save time and money estimating and distinguishing between species populations."
   ]
  },
  {
   "attachments": {},
   "cell_type": "markdown",
   "metadata": {},
   "source": [
    "### **Bibliography**"
   ]
  },
  {
   "attachments": {},
   "cell_type": "markdown",
   "metadata": {},
   "source": [
    "**Works Cited**\n",
    "\n",
    "\n",
    "Avissar, Yael, et al. “45.1 Population Demography - Biology | OpenStax.” OpenStax, OpenStax, 21 Oct. 2016, https://openstax.org/books/biology/pages/45-1-population-demography.\n",
    "\n",
    "Carpenter, Stephen. “Mesopredator Release.” Encyclopædia Britannica, Encyclopædia Britannica, https://www.britannica.com/science/mesopredator-release. Accessed 15 Jan. 2023.\n",
    "\n",
    "Ciszek, Deborah. “Lynx Rufus: Bobcat.” Animal Diversity Web, University of Michigan, 2002, https://animaldiversity.org/accounts/Lynx_rufus/.\n",
    "\n",
    "Jordan, Christopher, et al. “Field Techniques for Population Sampling and Estimation – Monitoring Animal Populations and Their Habitats: A Practitioner’s Guide.” Open Educational Resources – OERU, Oregon State University, 1 Aug. 2018, https://open.oregonstate.education/monitoring/chapter/field-techniques-for-population-sampling-and-estimation/.\n",
    "\n",
    "Rasmussen, Kari. “How Biologists Estimate Populations of Animals.” Official Alaska State Website, Alaska Department of Fish and Game, https://adfg.alaska.gov/index.cfm?adfg=wildlifenews.view_article&articles_id=814. Accessed 15 Jan. 2023.\n",
    "\n",
    "Reid, R. A Morphometric Modeling Approach to Distiguishing among Bobcat, Coyote, and Gray Fox Scats. Wildlife Biology, 21(5): 254-262. https://doi.org/10.2981/wlb.00105\n",
    "\n",
    "Tokar, Erik. “Canis Latrans: Coyote.” Animal Diversity Web, University of Michigan, 2001, https://animaldiversity.org/accounts/Canis_latrans/.\n",
    "\n",
    "Vu, Long. “Urocyon Cinereoargenteus: Gray Fox.” Animal Diversity Web, University of Michigan, 2011, https://animaldiversity.org/accounts/Urocyon_cinereoargenteus/.\n"
   ]
  }
 ],
 "metadata": {
  "kernelspec": {
   "display_name": "Python 3",
   "language": "python",
   "name": "python3"
  },
  "language_info": {
   "codemirror_mode": {
    "name": "ipython",
    "version": 3
   },
   "file_extension": ".py",
   "mimetype": "text/x-python",
   "name": "python",
   "nbconvert_exporter": "python",
   "pygments_lexer": "ipython3",
   "version": "3.10.7 (tags/v3.10.7:6cc6b13, Sep  5 2022, 14:08:36) [MSC v.1933 64 bit (AMD64)]"
  },
  "orig_nbformat": 4,
  "vscode": {
   "interpreter": {
    "hash": "369f2c481f4da34e4445cda3fffd2e751bd1c4d706f27375911949ba6bb62e1c"
   }
  }
 },
 "nbformat": 4,
 "nbformat_minor": 2
}

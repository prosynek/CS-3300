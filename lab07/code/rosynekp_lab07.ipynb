{
 "cells": [
  {
   "attachments": {},
   "cell_type": "markdown",
   "metadata": {},
   "source": [
    "### **Lab 07 - Email EDA (Clustering)**\n",
    "\n",
    "**Paige Rosynek, 01.31.2023**"
   ]
  },
  {
   "attachments": {},
   "cell_type": "markdown",
   "metadata": {},
   "source": [
    "#### **Introduction**"
   ]
  },
  {
   "attachments": {},
   "cell_type": "markdown",
   "metadata": {},
   "source": [
    "In this lab, we will continue to explore the email data containing 63,542 emails classified as 'spam' or 'ham'. In this lab we will again be performing dimensionality reduction on the body of each of the emails to create a projected feature matrix with 10 features. Using what we know about the data from lab 06, we will perform clustering on the projected feature matrix to find two distinct clusters using DBSCAN. Lastly, we will perform statistical analysis on the clusters to gain insight into our data."
   ]
  },
  {
   "attachments": {},
   "cell_type": "markdown",
   "metadata": {},
   "source": [
    "**Import Libraries**"
   ]
  },
  {
   "cell_type": "code",
   "execution_count": 1,
   "metadata": {},
   "outputs": [],
   "source": [
    "import pandas as pd\n",
    "import pathlib\n",
    "import json\n",
    "from sklearn.feature_extraction.text import CountVectorizer\n",
    "from sklearn.decomposition import TruncatedSVD\n",
    "import matplotlib.pyplot as plt\n",
    "import numpy as np\n",
    "from sklearn.cluster import OPTICS, DBSCAN\n",
    "from sklearn.preprocessing import StandardScaler\n",
    "from scipy.sparse import csc_array\n",
    "from scipy import stats"
   ]
  },
  {
   "attachments": {},
   "cell_type": "markdown",
   "metadata": {},
   "source": [
    "#### **Load & Transform the Data**"
   ]
  },
  {
   "cell_type": "code",
   "execution_count": 2,
   "metadata": {},
   "outputs": [],
   "source": [
    "def extract_json(file):\n",
    "    with open(file, \"r\") as read_file:\n",
    "        obj = json.load(read_file)\n",
    "    return obj"
   ]
  },
  {
   "cell_type": "code",
   "execution_count": 3,
   "metadata": {},
   "outputs": [],
   "source": [
    "directory = pathlib.Path('../data/email_json/email_json/')\n",
    "file_list = list(directory.iterdir())\n",
    "data = list(map(lambda file : extract_json(file), file_list))\n",
    "df = pd.DataFrame.from_records(data)"
   ]
  },
  {
   "cell_type": "code",
   "execution_count": 4,
   "metadata": {},
   "outputs": [
    {
     "data": {
      "text/html": [
       "<div>\n",
       "<style scoped>\n",
       "    .dataframe tbody tr th:only-of-type {\n",
       "        vertical-align: middle;\n",
       "    }\n",
       "\n",
       "    .dataframe tbody tr th {\n",
       "        vertical-align: top;\n",
       "    }\n",
       "\n",
       "    .dataframe thead th {\n",
       "        text-align: right;\n",
       "    }\n",
       "</style>\n",
       "<table border=\"1\" class=\"dataframe\">\n",
       "  <thead>\n",
       "    <tr style=\"text-align: right;\">\n",
       "      <th></th>\n",
       "      <th>category</th>\n",
       "      <th>to_address</th>\n",
       "      <th>from_address</th>\n",
       "      <th>subject</th>\n",
       "      <th>body</th>\n",
       "    </tr>\n",
       "  </thead>\n",
       "  <tbody>\n",
       "    <tr>\n",
       "      <th>0</th>\n",
       "      <td>spam</td>\n",
       "      <td>the00@speedy.uwaterloo.ca</td>\n",
       "      <td>\"Tomas Jacobs\" &lt;RickyAmes@aol.com&gt;</td>\n",
       "      <td>Generic Cialis, branded quality@</td>\n",
       "      <td>\\n\\n\\n\\n\\n\\n\\nDo you feel the pressure to perf...</td>\n",
       "    </tr>\n",
       "    <tr>\n",
       "      <th>1</th>\n",
       "      <td>ham</td>\n",
       "      <td>debian-mirrors@lists.debian.org</td>\n",
       "      <td>Yan Morin &lt;yan.morin@savoirfairelinux.com&gt;</td>\n",
       "      <td>Typo in /debian/README</td>\n",
       "      <td>Hi, i've just updated from the gulus and I che...</td>\n",
       "    </tr>\n",
       "    <tr>\n",
       "      <th>2</th>\n",
       "      <td>spam</td>\n",
       "      <td>&lt;the00@plg.uwaterloo.ca&gt;</td>\n",
       "      <td>\"Sheila Crenshaw\" &lt;7stocknews@tractionmarketin...</td>\n",
       "      <td>authentic viagra</td>\n",
       "      <td>authentic viagra\\n\\nMega  authenticV I A G R A...</td>\n",
       "    </tr>\n",
       "    <tr>\n",
       "      <th>3</th>\n",
       "      <td>spam</td>\n",
       "      <td>opt4@speedy.uwaterloo.ca</td>\n",
       "      <td>\"Stormy Dempsey\" &lt;vqucsmdfgvsg@ruraltek.com&gt;</td>\n",
       "      <td>Nice talking with ya</td>\n",
       "      <td>\\nHey Billy, \\n\\nit was really fun going out t...</td>\n",
       "    </tr>\n",
       "    <tr>\n",
       "      <th>4</th>\n",
       "      <td>spam</td>\n",
       "      <td>ktwarwic@speedy.uwaterloo.ca</td>\n",
       "      <td>\"Christi T. Jernigan\" &lt;dcube@totalink.net&gt;</td>\n",
       "      <td>or trembling; stomach cramps; trouble in sleep...</td>\n",
       "      <td>\\n\\n\\n\\n\\n\\n\\nsystem\" of the home.  It will ha...</td>\n",
       "    </tr>\n",
       "  </tbody>\n",
       "</table>\n",
       "</div>"
      ],
      "text/plain": [
       "  category                       to_address  \\\n",
       "0     spam        the00@speedy.uwaterloo.ca   \n",
       "1      ham  debian-mirrors@lists.debian.org   \n",
       "2     spam         <the00@plg.uwaterloo.ca>   \n",
       "3     spam         opt4@speedy.uwaterloo.ca   \n",
       "4     spam     ktwarwic@speedy.uwaterloo.ca   \n",
       "\n",
       "                                        from_address  \\\n",
       "0                 \"Tomas Jacobs\" <RickyAmes@aol.com>   \n",
       "1         Yan Morin <yan.morin@savoirfairelinux.com>   \n",
       "2  \"Sheila Crenshaw\" <7stocknews@tractionmarketin...   \n",
       "3       \"Stormy Dempsey\" <vqucsmdfgvsg@ruraltek.com>   \n",
       "4         \"Christi T. Jernigan\" <dcube@totalink.net>   \n",
       "\n",
       "                                             subject  \\\n",
       "0                  Generic Cialis, branded quality@    \n",
       "1                             Typo in /debian/README   \n",
       "2                                   authentic viagra   \n",
       "3                               Nice talking with ya   \n",
       "4  or trembling; stomach cramps; trouble in sleep...   \n",
       "\n",
       "                                                body  \n",
       "0  \\n\\n\\n\\n\\n\\n\\nDo you feel the pressure to perf...  \n",
       "1  Hi, i've just updated from the gulus and I che...  \n",
       "2  authentic viagra\\n\\nMega  authenticV I A G R A...  \n",
       "3  \\nHey Billy, \\n\\nit was really fun going out t...  \n",
       "4  \\n\\n\\n\\n\\n\\n\\nsystem\" of the home.  It will ha...  "
      ]
     },
     "execution_count": 4,
     "metadata": {},
     "output_type": "execute_result"
    }
   ],
   "source": [
    "df.head()"
   ]
  },
  {
   "cell_type": "code",
   "execution_count": 5,
   "metadata": {},
   "outputs": [
    {
     "name": "stdout",
     "output_type": "stream",
     "text": [
      "<class 'pandas.core.frame.DataFrame'>\n",
      "RangeIndex: 63542 entries, 0 to 63541\n",
      "Data columns (total 5 columns):\n",
      " #   Column        Non-Null Count  Dtype \n",
      "---  ------        --------------  ----- \n",
      " 0   category      63542 non-null  object\n",
      " 1   to_address    63141 non-null  object\n",
      " 2   from_address  63542 non-null  object\n",
      " 3   subject       63410 non-null  object\n",
      " 4   body          63542 non-null  object\n",
      "dtypes: object(5)\n",
      "memory usage: 2.4+ MB\n"
     ]
    }
   ],
   "source": [
    "df.info()"
   ]
  },
  {
   "attachments": {},
   "cell_type": "markdown",
   "metadata": {},
   "source": [
    "#### **Extract Features**"
   ]
  },
  {
   "cell_type": "code",
   "execution_count": 6,
   "metadata": {},
   "outputs": [],
   "source": [
    "vectorizer = CountVectorizer(binary=True, min_df=10)\n",
    "word_matrix = vectorizer.fit_transform(df['body'].tolist())"
   ]
  },
  {
   "cell_type": "code",
   "execution_count": 7,
   "metadata": {},
   "outputs": [
    {
     "data": {
      "text/plain": [
       "(63542, 32144)"
      ]
     },
     "execution_count": 7,
     "metadata": {},
     "output_type": "execute_result"
    }
   ],
   "source": [
    "word_matrix.shape"
   ]
  },
  {
   "attachments": {},
   "cell_type": "markdown",
   "metadata": {},
   "source": [
    "##### **Dimensionality Reduction**"
   ]
  },
  {
   "cell_type": "code",
   "execution_count": 8,
   "metadata": {},
   "outputs": [],
   "source": [
    "tsvd = TruncatedSVD(n_components=10)\n",
    "projected_matrix = tsvd.fit_transform(word_matrix)"
   ]
  },
  {
   "cell_type": "code",
   "execution_count": 9,
   "metadata": {},
   "outputs": [
    {
     "data": {
      "text/plain": [
       "(63542, 10)"
      ]
     },
     "execution_count": 9,
     "metadata": {},
     "output_type": "execute_result"
    }
   ],
   "source": [
    "projected_matrix.shape"
   ]
  },
  {
   "attachments": {},
   "cell_type": "markdown",
   "metadata": {},
   "source": [
    "#### **Cluster the Emails - DBSCAN**"
   ]
  },
  {
   "attachments": {},
   "cell_type": "markdown",
   "metadata": {},
   "source": [
    "**DBSCAN**\n",
    "\n",
    "The clustering algorithm I chose to use on the projected feature matrix is DBSCAN. Since the projected matrix has > 63k samples, I knew that Hierarchical clustering would not be a good choice because it does not scale well to the number of samples. Based on the plots of the projected data in lab 6, I knew that the shape of the clusters formed by the projected feature matrix was not globular and somewhat dense, so K-Means would also not be a good choice. Therefore, I decided to use DBSCAN for this data. DBSCAN is a density-based algorithm that can identify clusters that are irregularly shaped and can also determine any outliers or noise in our data. For the hyperparameters, I arbitrarily chose an epsilon value of 0.8 and minimum number of samples of 10 since the data is fairly dense."
   ]
  },
  {
   "cell_type": "code",
   "execution_count": 10,
   "metadata": {},
   "outputs": [],
   "source": [
    "dbscan = DBSCAN(eps=0.8, min_samples=10)\n",
    "model = dbscan.fit(projected_matrix[:, :2])"
   ]
  },
  {
   "attachments": {},
   "cell_type": "markdown",
   "metadata": {},
   "source": [
    "Add the clustered data to the dataframe. Note that samples labeled as noise have the cluster value of -1."
   ]
  },
  {
   "cell_type": "code",
   "execution_count": 11,
   "metadata": {},
   "outputs": [
    {
     "data": {
      "text/html": [
       "<div>\n",
       "<style scoped>\n",
       "    .dataframe tbody tr th:only-of-type {\n",
       "        vertical-align: middle;\n",
       "    }\n",
       "\n",
       "    .dataframe tbody tr th {\n",
       "        vertical-align: top;\n",
       "    }\n",
       "\n",
       "    .dataframe thead th {\n",
       "        text-align: right;\n",
       "    }\n",
       "</style>\n",
       "<table border=\"1\" class=\"dataframe\">\n",
       "  <thead>\n",
       "    <tr style=\"text-align: right;\">\n",
       "      <th></th>\n",
       "      <th>category</th>\n",
       "      <th>to_address</th>\n",
       "      <th>from_address</th>\n",
       "      <th>subject</th>\n",
       "      <th>body</th>\n",
       "      <th>cluster</th>\n",
       "    </tr>\n",
       "  </thead>\n",
       "  <tbody>\n",
       "    <tr>\n",
       "      <th>0</th>\n",
       "      <td>spam</td>\n",
       "      <td>the00@speedy.uwaterloo.ca</td>\n",
       "      <td>\"Tomas Jacobs\" &lt;RickyAmes@aol.com&gt;</td>\n",
       "      <td>Generic Cialis, branded quality@</td>\n",
       "      <td>\\n\\n\\n\\n\\n\\n\\nDo you feel the pressure to perf...</td>\n",
       "      <td>0</td>\n",
       "    </tr>\n",
       "    <tr>\n",
       "      <th>1</th>\n",
       "      <td>ham</td>\n",
       "      <td>debian-mirrors@lists.debian.org</td>\n",
       "      <td>Yan Morin &lt;yan.morin@savoirfairelinux.com&gt;</td>\n",
       "      <td>Typo in /debian/README</td>\n",
       "      <td>Hi, i've just updated from the gulus and I che...</td>\n",
       "      <td>0</td>\n",
       "    </tr>\n",
       "    <tr>\n",
       "      <th>2</th>\n",
       "      <td>spam</td>\n",
       "      <td>&lt;the00@plg.uwaterloo.ca&gt;</td>\n",
       "      <td>\"Sheila Crenshaw\" &lt;7stocknews@tractionmarketin...</td>\n",
       "      <td>authentic viagra</td>\n",
       "      <td>authentic viagra\\n\\nMega  authenticV I A G R A...</td>\n",
       "      <td>0</td>\n",
       "    </tr>\n",
       "    <tr>\n",
       "      <th>3</th>\n",
       "      <td>spam</td>\n",
       "      <td>opt4@speedy.uwaterloo.ca</td>\n",
       "      <td>\"Stormy Dempsey\" &lt;vqucsmdfgvsg@ruraltek.com&gt;</td>\n",
       "      <td>Nice talking with ya</td>\n",
       "      <td>\\nHey Billy, \\n\\nit was really fun going out t...</td>\n",
       "      <td>0</td>\n",
       "    </tr>\n",
       "    <tr>\n",
       "      <th>4</th>\n",
       "      <td>spam</td>\n",
       "      <td>ktwarwic@speedy.uwaterloo.ca</td>\n",
       "      <td>\"Christi T. Jernigan\" &lt;dcube@totalink.net&gt;</td>\n",
       "      <td>or trembling; stomach cramps; trouble in sleep...</td>\n",
       "      <td>\\n\\n\\n\\n\\n\\n\\nsystem\" of the home.  It will ha...</td>\n",
       "      <td>0</td>\n",
       "    </tr>\n",
       "  </tbody>\n",
       "</table>\n",
       "</div>"
      ],
      "text/plain": [
       "  category                       to_address  \\\n",
       "0     spam        the00@speedy.uwaterloo.ca   \n",
       "1      ham  debian-mirrors@lists.debian.org   \n",
       "2     spam         <the00@plg.uwaterloo.ca>   \n",
       "3     spam         opt4@speedy.uwaterloo.ca   \n",
       "4     spam     ktwarwic@speedy.uwaterloo.ca   \n",
       "\n",
       "                                        from_address  \\\n",
       "0                 \"Tomas Jacobs\" <RickyAmes@aol.com>   \n",
       "1         Yan Morin <yan.morin@savoirfairelinux.com>   \n",
       "2  \"Sheila Crenshaw\" <7stocknews@tractionmarketin...   \n",
       "3       \"Stormy Dempsey\" <vqucsmdfgvsg@ruraltek.com>   \n",
       "4         \"Christi T. Jernigan\" <dcube@totalink.net>   \n",
       "\n",
       "                                             subject  \\\n",
       "0                  Generic Cialis, branded quality@    \n",
       "1                             Typo in /debian/README   \n",
       "2                                   authentic viagra   \n",
       "3                               Nice talking with ya   \n",
       "4  or trembling; stomach cramps; trouble in sleep...   \n",
       "\n",
       "                                                body  cluster  \n",
       "0  \\n\\n\\n\\n\\n\\n\\nDo you feel the pressure to perf...        0  \n",
       "1  Hi, i've just updated from the gulus and I che...        0  \n",
       "2  authentic viagra\\n\\nMega  authenticV I A G R A...        0  \n",
       "3  \\nHey Billy, \\n\\nit was really fun going out t...        0  \n",
       "4  \\n\\n\\n\\n\\n\\n\\nsystem\" of the home.  It will ha...        0  "
      ]
     },
     "execution_count": 11,
     "metadata": {},
     "output_type": "execute_result"
    }
   ],
   "source": [
    "df['cluster'] = model.labels_\n",
    "df.head()"
   ]
  },
  {
   "attachments": {},
   "cell_type": "markdown",
   "metadata": {},
   "source": [
    "**Plot the Clustered Data**"
   ]
  },
  {
   "cell_type": "code",
   "execution_count": 12,
   "metadata": {},
   "outputs": [
    {
     "data": {
      "text/plain": [
       "<matplotlib.legend.Legend at 0x245782e7ee0>"
      ]
     },
     "execution_count": 12,
     "metadata": {},
     "output_type": "execute_result"
    },
    {
     "data": {
      "image/png": "[encoded data removed]",
      "text/plain": [
       "<Figure size 1200x800 with 1 Axes>"
      ]
     },
     "metadata": {},
     "output_type": "display_data"
    }
   ],
   "source": [
    "noise_mask = np.where(df['cluster'] == -1)\n",
    "cluster0_mask = np.where(df['cluster'] == 0)\n",
    "cluster1_mask = np.where(df['cluster'] == 1)\n",
    "plt.figure(figsize=(12,8))\n",
    "plt.scatter(projected_matrix[noise_mask, 0], projected_matrix[noise_mask, 1], c='black', label='noise')\n",
    "plt.scatter(projected_matrix[cluster0_mask, 0], projected_matrix[cluster0_mask, 1], c='teal', alpha=0.6, edgecolors='black', linewidths=0.3, label='cluster0')\n",
    "plt.scatter(projected_matrix[cluster1_mask, 0], projected_matrix[cluster1_mask, 1], c='orange', alpha=0.6, edgecolors='black', linewidths=0.3, label='cluster1')\n",
    "plt.xlabel('Component 0 (Highest Explained Variance)')\n",
    "plt.ylabel('Component 1 (2nd Highest Explained Variance')\n",
    "plt.title('DBSCAN on Projected Data eps = 0.8, min_samples = 10')\n",
    "plt.legend()"
   ]
  },
  {
   "attachments": {},
   "cell_type": "markdown",
   "metadata": {},
   "source": [
    "We can observe from the plot above, DBSCAN was able to determine two distinct clusters with only a few noise points."
   ]
  },
  {
   "attachments": {},
   "cell_type": "markdown",
   "metadata": {},
   "source": [
    "#### **Calculating Document Frequencies of Words**"
   ]
  },
  {
   "attachments": {},
   "cell_type": "markdown",
   "metadata": {},
   "source": [
    "Create a separate matrix containing samples from the feature matrix that are assigned to a given cluster for each cluster."
   ]
  },
  {
   "cell_type": "code",
   "execution_count": 13,
   "metadata": {},
   "outputs": [],
   "source": [
    "cluster0 = word_matrix[cluster0_mask]\n",
    "cluster1 = word_matrix[cluster1_mask]"
   ]
  },
  {
   "attachments": {},
   "cell_type": "markdown",
   "metadata": {},
   "source": [
    "**Convert the cluster matricies to CSC format**"
   ]
  },
  {
   "cell_type": "code",
   "execution_count": 14,
   "metadata": {},
   "outputs": [],
   "source": [
    "cluster0_csc = csc_array(cluster0)\n",
    "cluster1_csc = csc_array(cluster1)"
   ]
  },
  {
   "cell_type": "code",
   "execution_count": 15,
   "metadata": {},
   "outputs": [
    {
     "data": {
      "text/plain": [
       "(57738, 32144)"
      ]
     },
     "execution_count": 15,
     "metadata": {},
     "output_type": "execute_result"
    }
   ],
   "source": [
    "cluster0_csc.shape"
   ]
  },
  {
   "cell_type": "code",
   "execution_count": 16,
   "metadata": {},
   "outputs": [
    {
     "data": {
      "text/plain": [
       "(5787, 32144)"
      ]
     },
     "execution_count": 16,
     "metadata": {},
     "output_type": "execute_result"
    }
   ],
   "source": [
    "cluster1_csc.shape"
   ]
  },
  {
   "attachments": {},
   "cell_type": "markdown",
   "metadata": {},
   "source": [
    "We can observe from the output above, that cluster 0 contains significantly more data samples that cluster 1. Cluster 0 contains 57738 samples and cluster 1 contains 5787 samples."
   ]
  },
  {
   "attachments": {},
   "cell_type": "markdown",
   "metadata": {},
   "source": [
    "**Calculate the document frequency for each word in each cluster**\n",
    "\n",
    "The document frequency is the number of documents that contain each word. Since the feature matrix is binary, we can simply sum along the columns."
   ]
  },
  {
   "cell_type": "code",
   "execution_count": 17,
   "metadata": {},
   "outputs": [],
   "source": [
    "cluster0_doc_freq = cluster0_csc.sum(axis=0)\n",
    "cluster1_doc_freq = cluster1_csc.sum(axis=0)"
   ]
  },
  {
   "cell_type": "code",
   "execution_count": 18,
   "metadata": {},
   "outputs": [
    {
     "data": {
      "text/plain": [
       "(32144,)"
      ]
     },
     "execution_count": 18,
     "metadata": {},
     "output_type": "execute_result"
    }
   ],
   "source": [
    "cluster0_doc_freq.shape"
   ]
  },
  {
   "cell_type": "code",
   "execution_count": 19,
   "metadata": {},
   "outputs": [
    {
     "data": {
      "text/plain": [
       "(32144,)"
      ]
     },
     "execution_count": 19,
     "metadata": {},
     "output_type": "execute_result"
    }
   ],
   "source": [
    "cluster1_doc_freq.shape"
   ]
  },
  {
   "attachments": {},
   "cell_type": "markdown",
   "metadata": {},
   "source": [
    "After calculating the document frequency of each of the CSC the shape of both frequency matricies are (32144,) which makes sense because there are 32144 words in the vocabulary. This can be interpreted such that each row represents a word in the vocabulary."
   ]
  },
  {
   "attachments": {},
   "cell_type": "markdown",
   "metadata": {},
   "source": [
    "**Find the document frequencies of the words \"love\", \"works\", and \"different\" for the emails in each cluster**"
   ]
  },
  {
   "cell_type": "code",
   "execution_count": 20,
   "metadata": {},
   "outputs": [
    {
     "name": "stdout",
     "output_type": "stream",
     "text": [
      "\"works\" column index = 31687\n",
      "\"love\" column index = 18037\n",
      "\"different\" column index = 10151\n"
     ]
    }
   ],
   "source": [
    "works_col_index = vectorizer.vocabulary_['works']\n",
    "love_col_index = vectorizer.vocabulary_['love']\n",
    "diff_col_index = vectorizer.vocabulary_['different']\n",
    "print(f'\"works\" column index = {works_col_index}')\n",
    "print(f'\"love\" column index = {love_col_index}')\n",
    "print(f'\"different\" column index = {diff_col_index}')"
   ]
  },
  {
   "attachments": {},
   "cell_type": "markdown",
   "metadata": {},
   "source": [
    "**\"works\"**"
   ]
  },
  {
   "cell_type": "code",
   "execution_count": 21,
   "metadata": {},
   "outputs": [
    {
     "name": "stdout",
     "output_type": "stream",
     "text": [
      "cluster 0 document frequency of \"works\" : 2372\n",
      "cluster 1 document frequency of \"works\" : 630\n"
     ]
    }
   ],
   "source": [
    "works_doc_freq0 = cluster0_doc_freq[works_col_index]\n",
    "works_doc_freq1 = cluster1_doc_freq[works_col_index]\n",
    "print(f'cluster 0 document frequency of \"works\" : {works_doc_freq0}')\n",
    "print(f'cluster 1 document frequency of \"works\" : {works_doc_freq1}')"
   ]
  },
  {
   "attachments": {},
   "cell_type": "markdown",
   "metadata": {},
   "source": [
    "**\"love\"**"
   ]
  },
  {
   "cell_type": "code",
   "execution_count": 22,
   "metadata": {},
   "outputs": [
    {
     "name": "stdout",
     "output_type": "stream",
     "text": [
      "cluster 0 document frequency of \"love\" : 2016\n",
      "cluster 1 document frequency of \"love\" : 23\n"
     ]
    }
   ],
   "source": [
    "love_doc_freq0 = cluster0_doc_freq[love_col_index]\n",
    "love_doc_freq1 = cluster1_doc_freq[love_col_index]\n",
    "print(f'cluster 0 document frequency of \"love\" : {love_doc_freq0}')\n",
    "print(f'cluster 1 document frequency of \"love\" : {love_doc_freq1}')"
   ]
  },
  {
   "attachments": {},
   "cell_type": "markdown",
   "metadata": {},
   "source": [
    "**\"different\"**"
   ]
  },
  {
   "cell_type": "code",
   "execution_count": 23,
   "metadata": {},
   "outputs": [
    {
     "name": "stdout",
     "output_type": "stream",
     "text": [
      "cluster 0 document frequency of \"works\" : 2093\n",
      "cluster 1 document frequency of \"works\" : 786\n"
     ]
    }
   ],
   "source": [
    "diff_doc_freq0 = cluster0_doc_freq[diff_col_index]\n",
    "diff_doc_freq1 = cluster1_doc_freq[diff_col_index]\n",
    "print(f'cluster 0 document frequency of \"works\" : {diff_doc_freq0}')\n",
    "print(f'cluster 1 document frequency of \"works\" : {diff_doc_freq1}')"
   ]
  },
  {
   "attachments": {},
   "cell_type": "markdown",
   "metadata": {},
   "source": [
    "#### **Find Enriched Words with Statistical Testing**"
   ]
  },
  {
   "attachments": {},
   "cell_type": "markdown",
   "metadata": {},
   "source": [
    "We are going to use a Binomial test to determine if the number of occurrences of a given word in a given cluster is higher than what would be expected from the other cluster.\n",
    "\n",
    "- *Null hypothesis* : The relative document frequencies of the observed cluster are less or equal to those of the tested.\n",
    "- *Alternative hypothesis* : The alternative hypothesis is that the document frequency is higher in cluster 0 than cluster 1."
   ]
  },
  {
   "attachments": {},
   "cell_type": "markdown",
   "metadata": {},
   "source": [
    "**Test if the words \"works\" and \"love\" are enriched in cluster 0**"
   ]
  },
  {
   "attachments": {},
   "cell_type": "markdown",
   "metadata": {},
   "source": [
    "**\"works\"**"
   ]
  },
  {
   "cell_type": "code",
   "execution_count": 24,
   "metadata": {},
   "outputs": [
    {
     "name": "stdout",
     "output_type": "stream",
     "text": [
      "\"works\" cluster 1 expected probability = 0.1088646967340591\n",
      "\"works\" cluster 0 expected probability = 0.041082129620007624\n",
      "p_value = 1.0\n"
     ]
    }
   ],
   "source": [
    "cluster_1_expected_prob = works_doc_freq1 / cluster1.shape[0]\n",
    "cluster_0_expected_prob = works_doc_freq0 / cluster0.shape[0]\n",
    "p_value = stats.binom_test(works_doc_freq0, cluster0.shape[0], cluster_1_expected_prob, alternative=\"greater\")\n",
    "print(f'\"works\" cluster 1 expected probability = {cluster_1_expected_prob}')\n",
    "print(f'\"works\" cluster 0 expected probability = {cluster_0_expected_prob}')\n",
    "print(f'p_value = {p_value}')"
   ]
  },
  {
   "attachments": {},
   "cell_type": "markdown",
   "metadata": {},
   "source": [
    "The binomial test for \"works\" resulted in a p-value of 1.0 which indicates that the observed frequency of \"works\" for cluster 0 is **not** greater than the frequency of the word for cluster 1."
   ]
  },
  {
   "attachments": {},
   "cell_type": "markdown",
   "metadata": {},
   "source": [
    "**\"love\"**"
   ]
  },
  {
   "cell_type": "code",
   "execution_count": 25,
   "metadata": {},
   "outputs": [
    {
     "name": "stdout",
     "output_type": "stream",
     "text": [
      "\"love\" cluster 1 expected probability = 0.003974425436322792\n",
      "\"love\" cluster 0 expected probability = 0.034916346253767015\n",
      "p_value = 0.0\n"
     ]
    }
   ],
   "source": [
    "cluster_1_expected_prob = love_doc_freq1 / cluster1.shape[0]\n",
    "cluster_0_expected_prob = love_doc_freq0 / cluster0.shape[0]\n",
    "p_value = stats.binom_test(love_doc_freq0, cluster0.shape[0], cluster_1_expected_prob, alternative=\"greater\")\n",
    "print(f'\"love\" cluster 1 expected probability = {cluster_1_expected_prob}')\n",
    "print(f'\"love\" cluster 0 expected probability = {cluster_0_expected_prob}')\n",
    "print(f'p_value = {p_value}')"
   ]
  },
  {
   "attachments": {},
   "cell_type": "markdown",
   "metadata": {},
   "source": [
    "The binomial test for \"love\" resulted in a p-value of 0.0 which indicates that the observed frequency of \"love\" for cluster 0 is **greater** than the frequency of the word for cluster 1."
   ]
  },
  {
   "attachments": {},
   "cell_type": "markdown",
   "metadata": {},
   "source": [
    "##### **Find all enriched words for cluster 0 using threshold of 0.05**"
   ]
  },
  {
   "cell_type": "code",
   "execution_count": 26,
   "metadata": {},
   "outputs": [
    {
     "name": "stderr",
     "output_type": "stream",
     "text": [
      "c:\\Python310\\lib\\site-packages\\scipy\\stats\\_discrete_distns.py:86: RuntimeWarning: divide by zero encountered in _binom_sf\n",
      "  return _boost._binom_sf(k, n, p)\n"
     ]
    }
   ],
   "source": [
    "enriched_words0 = []\n",
    "\n",
    "for word, index in vectorizer.vocabulary_.items():\n",
    "    cluster_1_expected_prob = cluster1_doc_freq[index] / cluster1.shape[0]\n",
    "    p_value = stats.binom_test(cluster0_doc_freq[index], cluster0.shape[0], cluster_1_expected_prob, alternative=\"greater\")\n",
    "    \n",
    "    if (p_value < 0.05):\n",
    "        enriched_words0.append((p_value, word, cluster0_doc_freq[index]))"
   ]
  },
  {
   "attachments": {},
   "cell_type": "markdown",
   "metadata": {},
   "source": [
    "**Filter any words that contain non-alphabetic characters**"
   ]
  },
  {
   "cell_type": "code",
   "execution_count": 27,
   "metadata": {},
   "outputs": [],
   "source": [
    "enriched_words0 = list(filter(lambda item: item[1].isalpha(), enriched_words0))"
   ]
  },
  {
   "cell_type": "code",
   "execution_count": 28,
   "metadata": {},
   "outputs": [
    {
     "data": {
      "text/plain": [
       "20300"
      ]
     },
     "execution_count": 28,
     "metadata": {},
     "output_type": "execute_result"
    }
   ],
   "source": [
    "len(enriched_words0)"
   ]
  },
  {
   "attachments": {},
   "cell_type": "markdown",
   "metadata": {},
   "source": [
    "**Sort the words in ascending order by p-value**"
   ]
  },
  {
   "cell_type": "code",
   "execution_count": 29,
   "metadata": {},
   "outputs": [],
   "source": [
    "sorted_enriched_words0 = sorted(enriched_words0, key=lambda item: item[0], reverse=False)"
   ]
  },
  {
   "attachments": {},
   "cell_type": "markdown",
   "metadata": {},
   "source": [
    "**First 200 enriched words for cluster 0**"
   ]
  },
  {
   "cell_type": "code",
   "execution_count": 30,
   "metadata": {},
   "outputs": [
    {
     "data": {
      "text/plain": [
       "[(0.0, 'feel', 2141),\n",
       " (0.0, 'pressure', 767),\n",
       " (0.0, 'viagra', 4675),\n",
       " (0.0, 'your', 25841),\n",
       " (0.0, 'gulus', 11),\n",
       " (0.0, 'ca', 5234),\n",
       " (0.0, 'lenny', 43),\n",
       " (0.0, 'logiciel', 12),\n",
       " (0.0, 'unsubscribe', 7384),\n",
       " (0.0, 'request', 2532),\n",
       " (0.0, 'contact', 5238),\n",
       " (0.0, 'listmaster', 970),\n",
       " (0.0, 'authentic', 181),\n",
       " (0.0, 'mega', 467),\n",
       " (0.0, 'authenticv', 74),\n",
       " (0.0, 'discount', 1109),\n",
       " (0.0, 'pricec', 74),\n",
       " (0.0, 'pricedo', 74),\n",
       " (0.0, 'miss', 1407),\n",
       " (0.0, 'click', 7705),\n",
       " (0.0, 'here', 13616),\n",
       " (0.0, 'billy', 104),\n",
       " (0.0, 'night', 2138),\n",
       " (0.0, 'we', 17280),\n",
       " (0.0, 'said', 5584),\n",
       " (0.0, 'felt', 637),\n",
       " (0.0, 'insecure', 191),\n",
       " (0.0, 'manhood', 23),\n",
       " (0.0, 'toilets', 63),\n",
       " (0.0, 'secret', 545),\n",
       " (0.0, 'weapon', 88),\n",
       " (0.0, 'girls', 419),\n",
       " (0.0, 'love', 2016),\n",
       " (0.0, 'pills', 2779),\n",
       " (0.0, 'every', 4413),\n",
       " (0.0, 'ctmay', 38),\n",
       " (0.0, 'ring', 428),\n",
       " (0.0, 'home', 4086),\n",
       " (0.0, 'respect', 1412),\n",
       " (0.0, 'technology', 1542),\n",
       " (0.0, 'society', 528),\n",
       " (0.0, 'agencies', 145),\n",
       " (0.0, 'cashing', 16),\n",
       " (0.0, 'commerciality', 10),\n",
       " (0.0, 'paint', 290),\n",
       " (0.0, 'precludes', 13),\n",
       " (0.0, 'vast', 219),\n",
       " (0.0, 'avant', 49),\n",
       " (0.0, 'world', 4799),\n",
       " (0.0, 'lawyers', 156),\n",
       " (0.0, 'full', 3559),\n",
       " (0.0, 'future', 2544),\n",
       " (0.0, 'our', 13379),\n",
       " (0.0, 'business', 4192),\n",
       " (0.0, 'shops', 638),\n",
       " (0.0, 'companies', 1382),\n",
       " (0.0, 'monopoly', 60),\n",
       " (0.0, 'service', 5230),\n",
       " (0.0, 'services', 2142),\n",
       " (0.0, 'western', 1102),\n",
       " (0.0, 'culture', 239),\n",
       " (0.0, 'human', 1749),\n",
       " (0.0, 'industry', 1094),\n",
       " (0.0, 'welcoming', 17),\n",
       " (0.0, 'pervasive', 18),\n",
       " (0.0, 'their', 7433),\n",
       " (0.0, 'organization', 856),\n",
       " (0.0, 'designer', 137),\n",
       " (0.0, 'architects', 30),\n",
       " (0.0, 'hyper', 34),\n",
       " (0.0, 'five', 1577),\n",
       " (0.0, 'pride', 180),\n",
       " (0.0, 'hired', 87),\n",
       " (0.0, 'daily', 2221),\n",
       " (0.0, 'activities', 706),\n",
       " (0.0, 'hydro', 26),\n",
       " (0.0, 'spend', 913),\n",
       " (0.0, 'potatoes', 32),\n",
       " (0.0, 'sports', 551),\n",
       " (0.0, 'leisure', 32),\n",
       " (0.0, 'motivating', 19),\n",
       " (0.0, 'king', 556),\n",
       " (0.0, 'technological', 128),\n",
       " (0.0, 'over', 6928),\n",
       " (0.0, 'conversely', 22),\n",
       " (0.0, 'occupations', 24),\n",
       " (0.0, 'therefor', 18),\n",
       " (0.0, 'charging', 58),\n",
       " (0.0, 'price', 7074),\n",
       " (0.0, 'most', 7161),\n",
       " (0.0, 'never', 3387),\n",
       " (0.0, 'speel', 13),\n",
       " (0.0, 'drawings', 116),\n",
       " (0.0, 'creative', 1379),\n",
       " (0.0, 'abilities', 65),\n",
       " (0.0, 'artist', 216),\n",
       " (0.0, 'worldly', 26),\n",
       " (0.0, 'quantum', 36),\n",
       " (0.0, 'came', 1921),\n",
       " (0.0, 'breakthrough', 319),\n",
       " (0.0, 'sits', 106),\n",
       " (0.0, 'intimidation', 15),\n",
       " (0.0, 'opted', 67),\n",
       " (0.0, 'governed', 53),\n",
       " (0.0, 'day', 8364),\n",
       " (0.0, 'went', 1406),\n",
       " (0.0, 'digital', 602),\n",
       " (0.0, 'production', 593),\n",
       " (0.0, 'artwork', 137),\n",
       " (0.0, 'he', 6808),\n",
       " (0.0, 'village', 198),\n",
       " (0.0, 'sculptor', 15),\n",
       " (0.0, 'friend', 1979),\n",
       " (0.0, 'up', 10863),\n",
       " (0.0, 'ever', 2641),\n",
       " (0.0, 'cutter', 34),\n",
       " (0.0, 'vinyl', 31),\n",
       " (0.0, 'live', 2012),\n",
       " (0.0, 'vibe', 10),\n",
       " (0.0, 'caring', 56),\n",
       " (0.0, 'purchase', 1637),\n",
       " (0.0, 'receive', 3488),\n",
       " (0.0, 'logos', 118),\n",
       " (0.0, 'ploy', 29),\n",
       " (0.0, 'advancing', 50),\n",
       " (0.0, 'hoodialife', 59),\n",
       " (0.0, 'substance', 206),\n",
       " (0.0, 'appetite', 714),\n",
       " (0.0, 'away', 2266),\n",
       " (0.0, 'learn', 3381),\n",
       " (0.0, 'buy', 5849),\n",
       " (0.0, 'visit', 5331),\n",
       " (0.0, 'online', 6791),\n",
       " (0.0, 'drug', 1725),\n",
       " (0.0, 'store', 2809),\n",
       " (0.0, 'special', 4075),\n",
       " (0.0, 'offers', 2345),\n",
       " (0.0, 'low', 4415),\n",
       " (0.0, 'cialis', 3181),\n",
       " (0.0, 'super', 683),\n",
       " (0.0, 'levitra', 1859),\n",
       " (0.0, 'today', 4115),\n",
       " (0.0, 'minutes', 2030),\n",
       " (0.0, 'ready', 3326),\n",
       " (0.0, 'medications', 1239),\n",
       " (0.0, 'propecia', 233),\n",
       " (0.0, 'free', 5583),\n",
       " (0.0, 'shipping', 1844),\n",
       " (0.0, 'worlwide', 196),\n",
       " (0.0, 'doctor', 1066),\n",
       " (0.0, 'prescriptions', 633),\n",
       " (0.0, 'customer', 2807),\n",
       " (0.0, 'satisfaction', 606),\n",
       " (0.0, 'drugstore', 314),\n",
       " (0.0, 'pound', 162),\n",
       " (0.0, 'melting', 198),\n",
       " (0.0, 'anatrim', 1608),\n",
       " (0.0, 'delighting', 122),\n",
       " (0.0, 'product', 3169),\n",
       " (0.0, 'weighty', 210),\n",
       " (0.0, 'cnn', 1132),\n",
       " (0.0, 'yourself', 2928),\n",
       " (0.0, 'fastly', 69),\n",
       " (0.0, 'growing', 838),\n",
       " (0.0, 'pounds', 753),\n",
       " (0.0, 'fat', 1517),\n",
       " (0.0, 'offering', 994),\n",
       " (0.0, 'ground', 808),\n",
       " (0.0, 'breaking', 859),\n",
       " (0.0, 'medley', 56),\n",
       " (0.0, 'healthier', 325),\n",
       " (0.0, 'life', 4842),\n",
       " (0.0, 'become', 1932),\n",
       " (0.0, 'thinner', 151),\n",
       " (0.0, 'customers', 2052),\n",
       " (0.0, 'addicted', 80),\n",
       " (0.0, 'food', 1078),\n",
       " (0.0, 'garbige', 66),\n",
       " (0.0, 'stop', 2406),\n",
       " (0.0, 'passion', 207),\n",
       " (0.0, 'god', 1124),\n",
       " (0.0, 'eat', 640),\n",
       " (0.0, 'vanished', 116),\n",
       " (0.0, 'improved', 1213),\n",
       " (0.0, 'happiest', 217),\n",
       " (0.0, 'person', 1801),\n",
       " (0.0, 'planet', 487),\n",
       " (0.0, 'months', 2222),\n",
       " (0.0, 'lusia', 126),\n",
       " (0.0, 'boy', 667),\n",
       " (0.0, 'abhorred', 123),\n",
       " (0.0, 'mocked', 76),\n",
       " (0.0, 'stoutness', 77),\n",
       " (0.0, 'remedies', 149),\n",
       " (0.0, 'rikky', 110),\n",
       " (0.0, 'marriage', 319),\n",
       " (0.0, 'eating', 641),\n",
       " (0.0, 'wife', 1008),\n",
       " (0.0, 'overweight', 262),\n",
       " (0.0, 'psycho', 196)]"
      ]
     },
     "execution_count": 30,
     "metadata": {},
     "output_type": "execute_result"
    }
   ],
   "source": [
    "sorted_enriched_words0[:200]"
   ]
  },
  {
   "attachments": {},
   "cell_type": "markdown",
   "metadata": {},
   "source": [
    "##### **Find all enriched words for cluster 1 using threshold of 0.05**"
   ]
  },
  {
   "cell_type": "code",
   "execution_count": 31,
   "metadata": {},
   "outputs": [],
   "source": [
    "enriched_words1 = []\n",
    "\n",
    "for word, index in vectorizer.vocabulary_.items():\n",
    "    cluster_0_expected_prob = cluster0_doc_freq[index] / cluster0.shape[0]\n",
    "    p_value = stats.binom_test(cluster1_doc_freq[index], cluster1.shape[0], cluster_0_expected_prob, alternative=\"greater\")\n",
    "    \n",
    "    if (p_value < 0.05):\n",
    "        enriched_words1.append((p_value, word, cluster1_doc_freq[index]))"
   ]
  },
  {
   "attachments": {},
   "cell_type": "markdown",
   "metadata": {},
   "source": [
    "**Filter any words that contain non-alphabetic characters**"
   ]
  },
  {
   "cell_type": "code",
   "execution_count": 32,
   "metadata": {},
   "outputs": [],
   "source": [
    "enriched_words1 = list(filter(lambda item: item[1].isalpha(), enriched_words1))"
   ]
  },
  {
   "cell_type": "code",
   "execution_count": 33,
   "metadata": {},
   "outputs": [
    {
     "data": {
      "text/plain": [
       "4524"
      ]
     },
     "execution_count": 33,
     "metadata": {},
     "output_type": "execute_result"
    }
   ],
   "source": [
    "len(enriched_words1)"
   ]
  },
  {
   "attachments": {},
   "cell_type": "markdown",
   "metadata": {},
   "source": [
    "**Sort the words in ascending order by p-value**"
   ]
  },
  {
   "cell_type": "code",
   "execution_count": 34,
   "metadata": {},
   "outputs": [],
   "source": [
    "sorted_enriched_words1 = sorted(enriched_words1, key=lambda item: item[0], reverse=False)"
   ]
  },
  {
   "attachments": {},
   "cell_type": "markdown",
   "metadata": {},
   "source": [
    "**First 200 enriched words for cluster 1**"
   ]
  },
  {
   "cell_type": "code",
   "execution_count": 35,
   "metadata": {},
   "outputs": [
    {
     "data": {
      "text/plain": [
       "[(0.0, 'do', 5787),\n",
       " (0.0, 'the', 5787),\n",
       " (0.0, 'to', 5392),\n",
       " (0.0, 'and', 5775),\n",
       " (0.0, 'of', 4749),\n",
       " (0.0, 'self', 5787),\n",
       " (0.0, 'hi', 1905),\n",
       " (0.0, 'there', 2502),\n",
       " (0.0, 'is', 4737),\n",
       " (0.0, 'in', 4847),\n",
       " (0.0, 'example', 1329),\n",
       " (0.0, 'http', 5787),\n",
       " (0.0, 'org', 5787),\n",
       " (0.0, 'this', 4097),\n",
       " (0.0, 'packages', 593),\n",
       " (0.0, 'which', 2069),\n",
       " (0.0, 'html', 5720),\n",
       " (0.0, 'that', 3726),\n",
       " (0.0, 'but', 3406),\n",
       " (0.0, 'my', 2186),\n",
       " (0.0, 'package', 1373),\n",
       " (0.0, 'am', 2219),\n",
       " (0.0, 'can', 3017),\n",
       " (0.0, 'how', 2172),\n",
       " (0.0, 'would', 2145),\n",
       " (0.0, 'model', 646),\n",
       " (0.0, 'factor', 440),\n",
       " (0.0, 'guide', 5787),\n",
       " (0.0, 'any', 2087),\n",
       " (0.0, 'use', 2196),\n",
       " (0.0, 'function', 2059),\n",
       " (0.0, 'following', 1281),\n",
       " (0.0, 'help', 5787),\n",
       " (0.0, 'please', 5716),\n",
       " (0.0, 'message', 1641),\n",
       " (0.0, 'www', 5787),\n",
       " (0.0, 'nabble', 398),\n",
       " (0.0, 'mailing', 5787),\n",
       " (0.0, 'list', 5730),\n",
       " (0.0, 'archive', 481),\n",
       " (0.0, 'stat', 5787),\n",
       " (0.0, 'math', 5787),\n",
       " (0.0, 'ethz', 5787),\n",
       " (0.0, 'ch', 5787),\n",
       " (0.0, 'https', 5702),\n",
       " (0.0, 'mailman', 5787),\n",
       " (0.0, 'listinfo', 5787),\n",
       " (0.0, 'read', 5787),\n",
       " (0.0, 'posting', 5787),\n",
       " (0.0, 'project', 5787),\n",
       " (0.0, 'provide', 5787),\n",
       " (0.0, 'commented', 5787),\n",
       " (0.0, 'minimal', 5787),\n",
       " (0.0, 'contained', 5787),\n",
       " (0.0, 'reproducible', 5787),\n",
       " (0.0, 'code', 5787),\n",
       " (0.0, 'trying', 1121),\n",
       " (0.0, 'thanks', 2792),\n",
       " (0.0, 'values', 861),\n",
       " (0.0, 'question', 800),\n",
       " (0.0, 'problem', 1518),\n",
       " (0.0, 'wrote', 3012),\n",
       " (0.0, 'goslee', 26),\n",
       " (0.0, 'functionaldiversity', 21),\n",
       " (0.0, 'anyone', 759),\n",
       " (0.0, 'mcmc', 22),\n",
       " (0.0, 'error', 1290),\n",
       " (0.0, 'lmer', 75),\n",
       " (0.0, 'library', 843),\n",
       " (0.0, 'version', 2043),\n",
       " (0.0, 'sessioninfo', 87),\n",
       " (0.0, 'datasets', 212),\n",
       " (0.0, 'stats', 534),\n",
       " (0.0, 'grdevices', 114),\n",
       " (0.0, 'hmisc', 110),\n",
       " (0.0, 'gmodels', 13),\n",
       " (0.0, 'matrix', 862),\n",
       " (0.0, 'xtable', 25),\n",
       " (0.0, 'lattice', 170),\n",
       " (0.0, 'jgr', 22),\n",
       " (0.0, 'iplots', 13),\n",
       " (0.0, 'rjava', 35),\n",
       " (0.0, 'professor', 597),\n",
       " (0.0, 'kubovy', 30),\n",
       " (0.0, 'university', 1177),\n",
       " (0.0, 'gilmer', 23),\n",
       " (0.0, 'fax', 903),\n",
       " (0.0, 'edu', 556),\n",
       " (0.0, 'column', 448),\n",
       " (0.0, 'mailto', 595),\n",
       " (0.0, 'want', 1709),\n",
       " (0.0, 'true', 986),\n",
       " (0.0, 'using', 2188),\n",
       " (0.0, 'row', 400),\n",
       " (0.0, 'wilfred', 19),\n",
       " (0.0, 'statistics', 682),\n",
       " (0.0, 'nlm', 25),\n",
       " (0.0, 'sas', 216),\n",
       " (0.0, 'data', 2462),\n",
       " (0.0, 'frame', 829),\n",
       " (0.0, 'regression', 291),\n",
       " (0.0, 'vignette', 34),\n",
       " (0.0, 'variables', 499),\n",
       " (0.0, 'advance', 618),\n",
       " (0.0, 'columns', 428),\n",
       " (0.0, 'tried', 840),\n",
       " (0.0, 'ac', 562),\n",
       " (0.0, 'plots', 247),\n",
       " (0.0, 'cex', 59),\n",
       " (0.0, 'plot', 807),\n",
       " (0.0, 'variable', 540),\n",
       " (0.0, 'gabor', 195),\n",
       " (0.0, 'spss', 129),\n",
       " (0.0, 'statistical', 298),\n",
       " (0.0, 'discriminant', 18),\n",
       " (0.0, 'bfgs', 48),\n",
       " (0.0, 'mle', 23),\n",
       " (0.0, 'optim', 89),\n",
       " (0.0, 'hessian', 24),\n",
       " (0.0, 'nelder', 14),\n",
       " (0.0, 'sann', 10),\n",
       " (0.0, 'theta', 22),\n",
       " (0.0, 'vector', 567),\n",
       " (0.0, 'alternative', 1506),\n",
       " (0.0, 'deleted', 1430),\n",
       " (0.0, 'predictors', 53),\n",
       " (0.0, 'predictor', 45),\n",
       " (0.0, 'adschai', 65),\n",
       " (0.0, 'brian', 438),\n",
       " (0.0, 'bivand', 24),\n",
       " (0.0, 'venables', 44),\n",
       " (0.0, 'ripley', 426),\n",
       " (0.0, 'ox', 327),\n",
       " (0.0, 'oxford', 352),\n",
       " (0.0, 'tel', 619),\n",
       " (0.0, 'parks', 315),\n",
       " (0.0, 'gyadav', 16),\n",
       " (0.0, 'ccilindia', 16),\n",
       " (0.0, 'odesolve', 14),\n",
       " (0.0, 'linear', 275),\n",
       " (0.0, 'xyplot', 129),\n",
       " (0.0, 'nlme', 66),\n",
       " (0.0, 'variance', 176),\n",
       " (0.0, 'lsoda', 14),\n",
       " (0.0, 'pairwise', 34),\n",
       " (0.0, 'quadrature', 10),\n",
       " (0.0, 'gdata', 18),\n",
       " (0.0, 'glm', 101),\n",
       " (0.0, 'gcv', 12),\n",
       " (0.0, 'imputation', 21),\n",
       " (0.0, 'odfweave', 16),\n",
       " (0.0, 'rcmdr', 26),\n",
       " (0.0, 'coefficients', 143),\n",
       " (0.0, 'covariate', 28),\n",
       " (0.0, 'piecewise', 10),\n",
       " (0.0, 'tseries', 12),\n",
       " (0.0, 'ols', 21),\n",
       " (0.0, 'ccil', 14),\n",
       " (0.0, 'exogenous', 10),\n",
       " (0.0, 'socserv', 50),\n",
       " (0.0, 'jfox', 51),\n",
       " (0.0, 'bounces', 535),\n",
       " (0.0, 'scatterplot', 39),\n",
       " (0.0, 'cran', 299),\n",
       " (0.0, 'logistic', 88),\n",
       " (0.0, 'cbind', 222),\n",
       " (0.0, 'misclassification', 10),\n",
       " (0.0, 'messag', 19),\n",
       " (0.0, 'econometric', 19),\n",
       " (0.0, 'anova', 131),\n",
       " (0.0, 'ph', 410),\n",
       " (0.0, 'intermountainmail', 68),\n",
       " (0.0, 'biostatistics', 177),\n",
       " (0.0, 'fisheries', 30),\n",
       " (0.0, 'cornejo', 10),\n",
       " (0.0, 'donoso', 10),\n",
       " (0.0, 'grothendieck', 144),\n",
       " (0.0, 'ggrothendieck', 32),\n",
       " (0.0, 'rows', 371),\n",
       " (0.0, 'rserve', 15),\n",
       " (0.0, 'uriarte', 11),\n",
       " (0.0, 'urbanek', 14),\n",
       " (0.0, 'rmpi', 27),\n",
       " (0.0, 'pvm', 11),\n",
       " (0.0, 'biocomputing', 10),\n",
       " (0.0, 'cnio', 10),\n",
       " (0.0, 'ligarto', 10),\n",
       " (0.0, 'rdiaz', 10),\n",
       " (0.0, 'sweave', 62),\n",
       " (0.0, 'dataset', 279),\n",
       " (0.0, 'isella', 16),\n",
       " (0.0, 'lapply', 165),\n",
       " (0.0, 'rbind', 145),\n",
       " (0.0, 'holtman', 149),\n",
       " (0.0, 'biostatistician', 27),\n",
       " (0.0, 'xfmail', 67),\n",
       " (0.0, 'randomforest', 24),\n",
       " (0.0, 'rpart', 22),\n",
       " (0.0, 'christos', 17),\n",
       " (0.0, 'listhttps', 139)]"
      ]
     },
     "execution_count": 35,
     "metadata": {},
     "output_type": "execute_result"
    }
   ],
   "source": [
    "sorted_enriched_words1[:200]"
   ]
  },
  {
   "attachments": {},
   "cell_type": "markdown",
   "metadata": {},
   "source": [
    "#### **Reflection Questions**"
   ]
  },
  {
   "attachments": {},
   "cell_type": "markdown",
   "metadata": {},
   "source": [
    "***a. Make a guess as to why the emails might form two distinct clusters.***\n",
    "\n",
    "The emails may form two distinct clusters because certain words are used more often in spam messages than ham messages, causing them to form clusters. A lot of spam is phising emails which often try to get users to enter their personal information into a fake site, however these types of emails often have a similar structure and contain similar phases which may explain why spam data tends to be clustered away from ham data."
   ]
  },
  {
   "attachments": {},
   "cell_type": "markdown",
   "metadata": {},
   "source": [
    "***b. Are spam messages in both clusters or a single cluster?***\n",
    "\n",
    "Spam messages are only in cluster 0, however ham messages are in both cluster 1 and cluster 0."
   ]
  },
  {
   "attachments": {},
   "cell_type": "markdown",
   "metadata": {},
   "source": [
    "***c. Skim through the top 200 words for each cluster. Can you identify any patterns for either of the clusters?***\n",
    "\n",
    "After examining the first 200 words for cluster 1 (ham), I noticed that the most frequent words are common stop words like 'do', 'the', 'to', and 'and' to new a few. I observed from the first 200 words for cluster 0 (spam and ham) that the most frequent words are mispelled and quite random with words like: 'viagra', 'pressure', and 'your'. These words are most likely to occur in spam messages.\n"
   ]
  },
  {
   "attachments": {},
   "cell_type": "markdown",
   "metadata": {},
   "source": [
    "***d. Select the rows in the DataFrames for the emails in cluster 0. Print the top 25. Do the same for cluster 1. Do you the to and from addresses and subject lines provide additional help in identifying patterns?***"
   ]
  },
  {
   "cell_type": "code",
   "execution_count": 36,
   "metadata": {},
   "outputs": [
    {
     "data": {
      "text/html": [
       "<div>\n",
       "<style scoped>\n",
       "    .dataframe tbody tr th:only-of-type {\n",
       "        vertical-align: middle;\n",
       "    }\n",
       "\n",
       "    .dataframe tbody tr th {\n",
       "        vertical-align: top;\n",
       "    }\n",
       "\n",
       "    .dataframe thead th {\n",
       "        text-align: right;\n",
       "    }\n",
       "</style>\n",
       "<table border=\"1\" class=\"dataframe\">\n",
       "  <thead>\n",
       "    <tr style=\"text-align: right;\">\n",
       "      <th></th>\n",
       "      <th>category</th>\n",
       "      <th>to_address</th>\n",
       "      <th>from_address</th>\n",
       "      <th>subject</th>\n",
       "      <th>body</th>\n",
       "      <th>cluster</th>\n",
       "    </tr>\n",
       "  </thead>\n",
       "  <tbody>\n",
       "    <tr>\n",
       "      <th>0</th>\n",
       "      <td>spam</td>\n",
       "      <td>the00@speedy.uwaterloo.ca</td>\n",
       "      <td>\"Tomas Jacobs\" &lt;RickyAmes@aol.com&gt;</td>\n",
       "      <td>Generic Cialis, branded quality@</td>\n",
       "      <td>\\n\\n\\n\\n\\n\\n\\nDo you feel the pressure to perf...</td>\n",
       "      <td>0</td>\n",
       "    </tr>\n",
       "    <tr>\n",
       "      <th>1</th>\n",
       "      <td>ham</td>\n",
       "      <td>debian-mirrors@lists.debian.org</td>\n",
       "      <td>Yan Morin &lt;yan.morin@savoirfairelinux.com&gt;</td>\n",
       "      <td>Typo in /debian/README</td>\n",
       "      <td>Hi, i've just updated from the gulus and I che...</td>\n",
       "      <td>0</td>\n",
       "    </tr>\n",
       "    <tr>\n",
       "      <th>2</th>\n",
       "      <td>spam</td>\n",
       "      <td>&lt;the00@plg.uwaterloo.ca&gt;</td>\n",
       "      <td>\"Sheila Crenshaw\" &lt;7stocknews@tractionmarketin...</td>\n",
       "      <td>authentic viagra</td>\n",
       "      <td>authentic viagra\\n\\nMega  authenticV I A G R A...</td>\n",
       "      <td>0</td>\n",
       "    </tr>\n",
       "    <tr>\n",
       "      <th>3</th>\n",
       "      <td>spam</td>\n",
       "      <td>opt4@speedy.uwaterloo.ca</td>\n",
       "      <td>\"Stormy Dempsey\" &lt;vqucsmdfgvsg@ruraltek.com&gt;</td>\n",
       "      <td>Nice talking with ya</td>\n",
       "      <td>\\nHey Billy, \\n\\nit was really fun going out t...</td>\n",
       "      <td>0</td>\n",
       "    </tr>\n",
       "    <tr>\n",
       "      <th>4</th>\n",
       "      <td>spam</td>\n",
       "      <td>ktwarwic@speedy.uwaterloo.ca</td>\n",
       "      <td>\"Christi T. Jernigan\" &lt;dcube@totalink.net&gt;</td>\n",
       "      <td>or trembling; stomach cramps; trouble in sleep...</td>\n",
       "      <td>\\n\\n\\n\\n\\n\\n\\nsystem\" of the home.  It will ha...</td>\n",
       "      <td>0</td>\n",
       "    </tr>\n",
       "    <tr>\n",
       "      <th>5</th>\n",
       "      <td>spam</td>\n",
       "      <td>manager@speedy.uwaterloo.ca</td>\n",
       "      <td>\"Bobby L. Fleming\" &lt;zvyrepeated@liselebel.com&gt;</td>\n",
       "      <td>Which is duty</td>\n",
       "      <td>\\n\\n\\n\\n\\n\\n\\nthe program and the creative abi...</td>\n",
       "      <td>0</td>\n",
       "    </tr>\n",
       "    <tr>\n",
       "      <th>6</th>\n",
       "      <td>spam</td>\n",
       "      <td>\"Theorize\" &lt;theorize@plg.uwaterloo.ca&gt;</td>\n",
       "      <td>\"Esteban Everett\" &lt;dbmagyrln@dbmag.com&gt;</td>\n",
       "      <td>Theorize get inside for local esc0rts who do i...</td>\n",
       "      <td>\\n\\n\\n\\t\\t\\t\\t\\t\\t\\t\\t\\t\\t\\t\\t\\t\\t\\t\\t\\t\\t\\t\\t...</td>\n",
       "      <td>0</td>\n",
       "    </tr>\n",
       "    <tr>\n",
       "      <th>7</th>\n",
       "      <td>spam</td>\n",
       "      <td>theorize@plg.uwaterloo.ca</td>\n",
       "      <td>Real Loss &lt;fibond@terra.com.do&gt;</td>\n",
       "      <td>Losing Weight Quickly</td>\n",
       "      <td>\\n\\n\\n\\n\\n\\n HoodiaLife - Start Losing Weight ...</td>\n",
       "      <td>0</td>\n",
       "    </tr>\n",
       "    <tr>\n",
       "      <th>9</th>\n",
       "      <td>spam</td>\n",
       "      <td>&lt;smile@speedy.uwaterloo.ca&gt;</td>\n",
       "      <td>\"Billy Chin\" &lt;boxer@0733.com&gt;</td>\n",
       "      <td>For Smile</td>\n",
       "      <td>\\n\\n\\n\\n\\n\\n\\nGood day!\\nVisit our new online ...</td>\n",
       "      <td>0</td>\n",
       "    </tr>\n",
       "    <tr>\n",
       "      <th>10</th>\n",
       "      <td>spam</td>\n",
       "      <td>ftp@plg.uwaterloo.ca</td>\n",
       "      <td>\"Josie Abernathy\" &lt;cebcalhounrennerhog@calhoun...</td>\n",
       "      <td>Less weight - more pleasure and joy</td>\n",
       "      <td>\\nCheck out the wonders of pound melting\\n\\n\\n...</td>\n",
       "      <td>0</td>\n",
       "    </tr>\n",
       "    <tr>\n",
       "      <th>11</th>\n",
       "      <td>spam</td>\n",
       "      <td>ktwarwic@speedy.uwaterloo.ca</td>\n",
       "      <td>wing as &lt;mstep@mavorama.com&gt;</td>\n",
       "      <td>problems in animal studies using rats or rabbi...</td>\n",
       "      <td>\\n\\n\\n\\n\\n\\n\\nmovement on the tablet.  I could...</td>\n",
       "      <td>0</td>\n",
       "    </tr>\n",
       "    <tr>\n",
       "      <th>12</th>\n",
       "      <td>spam</td>\n",
       "      <td>&lt;manager@speedy.uwaterloo.ca&gt;</td>\n",
       "      <td>\"Geoffrey\" &lt;reginald@funeasy.biz&gt;</td>\n",
       "      <td>We cure any desease!</td>\n",
       "      <td>\\n\\n\\n\\n\\n\\n\\n\\n</td>\n",
       "      <td>0</td>\n",
       "    </tr>\n",
       "    <tr>\n",
       "      <th>13</th>\n",
       "      <td>spam</td>\n",
       "      <td>gnitpick@speedy.uwaterloo.ca</td>\n",
       "      <td>4ever Young &lt;ualicia@netscape.net&gt;</td>\n",
       "      <td>Human Growth Hormone</td>\n",
       "      <td>\\n\\n\\n\\n\\n\\nWhat is HGH Life™?\\n HGH Life™ is ...</td>\n",
       "      <td>0</td>\n",
       "    </tr>\n",
       "    <tr>\n",
       "      <th>14</th>\n",
       "      <td>spam</td>\n",
       "      <td>the00@speedy.uwaterloo.ca, opt2@speedy.uwaterl...</td>\n",
       "      <td>\"Caroyln Herbert\" &lt;slqwil@planetonline.com&gt;</td>\n",
       "      <td>hi man</td>\n",
       "      <td>Hey Billy, \\n\\nit was really fun going out the...</td>\n",
       "      <td>0</td>\n",
       "    </tr>\n",
       "    <tr>\n",
       "      <th>15</th>\n",
       "      <td>spam</td>\n",
       "      <td>the00@plg2.math.uwaterloo.ca</td>\n",
       "      <td>Domingo Bolden &lt;lfriend@dryden.com&gt;</td>\n",
       "      <td>when taken for a long time or in large doses, ...</td>\n",
       "      <td>\\n\\n\\n\\n\\n\\n\\ncan assist advertising and marke...</td>\n",
       "      <td>0</td>\n",
       "    </tr>\n",
       "    <tr>\n",
       "      <th>17</th>\n",
       "      <td>spam</td>\n",
       "      <td>&lt;the00@plg.uwaterloo.ca&gt;</td>\n",
       "      <td>\"Henry\" &lt;gilbert@garageservices.biz&gt;</td>\n",
       "      <td>We cure any desease!</td>\n",
       "      <td>\\n\\n\\n\\n\\n\\n\\n\\n</td>\n",
       "      <td>0</td>\n",
       "    </tr>\n",
       "    <tr>\n",
       "      <th>18</th>\n",
       "      <td>spam</td>\n",
       "      <td>&lt;the00@plg.uwaterloo.ca&gt;</td>\n",
       "      <td>\"Simon\" &lt;walter@griffield.biz&gt;</td>\n",
       "      <td>Need medicine? All here!</td>\n",
       "      <td>\\n\\n\\n\\n\\n\\n\\n\\n</td>\n",
       "      <td>0</td>\n",
       "    </tr>\n",
       "    <tr>\n",
       "      <th>19</th>\n",
       "      <td>spam</td>\n",
       "      <td>&lt;the00@plg.uwaterloo.ca&gt;</td>\n",
       "      <td>\"Philip\" &lt;richard@expomedica.biz&gt;</td>\n",
       "      <td>Need medicine? All here!</td>\n",
       "      <td>\\n\\n\\n\\n\\n\\n\\n\\n</td>\n",
       "      <td>0</td>\n",
       "    </tr>\n",
       "    <tr>\n",
       "      <th>20</th>\n",
       "      <td>spam</td>\n",
       "      <td>gnitpick@speedy.uwaterloo.ca</td>\n",
       "      <td>Young Future &lt;kdemetrius@publicist.com&gt;</td>\n",
       "      <td>Become Fit For Life!</td>\n",
       "      <td>\\n\\n\\n\\n\\n\\n\\nBecome Fit For Life!\\n\\nHGH is a...</td>\n",
       "      <td>0</td>\n",
       "    </tr>\n",
       "    <tr>\n",
       "      <th>21</th>\n",
       "      <td>spam</td>\n",
       "      <td>\"Gnitpick\" &lt;gnitpick@speedy.uwaterloo.ca&gt;</td>\n",
       "      <td>\"Gena Blanco\" &lt;nytwdn@incamail.com&gt;</td>\n",
       "      <td>Please Read This C</td>\n",
       "      <td></td>\n",
       "      <td>0</td>\n",
       "    </tr>\n",
       "    <tr>\n",
       "      <th>22</th>\n",
       "      <td>spam</td>\n",
       "      <td>gnitpick@speedy.uwaterloo.ca</td>\n",
       "      <td>\"Carlene Campos\" &lt;cebcaligularhog@caligular.com&gt;</td>\n",
       "      <td>Be leaner and slimmer by next week</td>\n",
       "      <td>\\nMake your fat friends envy you\\n\\n\\n\\n\\n\\n\\n...</td>\n",
       "      <td>0</td>\n",
       "    </tr>\n",
       "    <tr>\n",
       "      <th>23</th>\n",
       "      <td>spam</td>\n",
       "      <td>&lt;theorize@plg.uwaterloo.ca&gt;</td>\n",
       "      <td>\"Chadwick Milesc\" &lt;ctuballerina@bb-autom.nl&gt;</td>\n",
       "      <td>But serpentine</td>\n",
       "      <td>\\n\\n\\n\\n\\nRemember HANS and FIZ\\nFire Mountain...</td>\n",
       "      <td>0</td>\n",
       "    </tr>\n",
       "    <tr>\n",
       "      <th>25</th>\n",
       "      <td>spam</td>\n",
       "      <td>&lt;theorize@plg.uwaterloo.ca&gt;</td>\n",
       "      <td>\"Henry\" &lt;richard@expomedica.biz&gt;</td>\n",
       "      <td>All products for your health!</td>\n",
       "      <td>\\n\\n\\n\\n\\n\\n\\n\\n</td>\n",
       "      <td>0</td>\n",
       "    </tr>\n",
       "    <tr>\n",
       "      <th>26</th>\n",
       "      <td>ham</td>\n",
       "      <td>ktwarwic@speedy.uwaterloo.ca</td>\n",
       "      <td>\"BBC daily email\" &lt;dailyemail@bbc.co.uk&gt;</td>\n",
       "      <td>Your daily e-mail from the BBC</td>\n",
       "      <td>\\n\\n\\n\\n\\n\\n\\n\\nSunday, 08 April, 2007, 18:00 ...</td>\n",
       "      <td>0</td>\n",
       "    </tr>\n",
       "    <tr>\n",
       "      <th>27</th>\n",
       "      <td>spam</td>\n",
       "      <td>theorize@plg.uwaterloo.ca</td>\n",
       "      <td>4ever Young &lt;doaraceli@altavista.nl&gt;</td>\n",
       "      <td>HGH really helps!</td>\n",
       "      <td>\\n\\n\\n\\n\\n\\nWhat is HGH Life™?\\n HGH Life™ is ...</td>\n",
       "      <td>0</td>\n",
       "    </tr>\n",
       "  </tbody>\n",
       "</table>\n",
       "</div>"
      ],
      "text/plain": [
       "   category                                         to_address  \\\n",
       "0      spam                          the00@speedy.uwaterloo.ca   \n",
       "1       ham                    debian-mirrors@lists.debian.org   \n",
       "2      spam                           <the00@plg.uwaterloo.ca>   \n",
       "3      spam                           opt4@speedy.uwaterloo.ca   \n",
       "4      spam                       ktwarwic@speedy.uwaterloo.ca   \n",
       "5      spam                        manager@speedy.uwaterloo.ca   \n",
       "6      spam             \"Theorize\" <theorize@plg.uwaterloo.ca>   \n",
       "7      spam                          theorize@plg.uwaterloo.ca   \n",
       "9      spam                        <smile@speedy.uwaterloo.ca>   \n",
       "10     spam                               ftp@plg.uwaterloo.ca   \n",
       "11     spam                       ktwarwic@speedy.uwaterloo.ca   \n",
       "12     spam                      <manager@speedy.uwaterloo.ca>   \n",
       "13     spam                       gnitpick@speedy.uwaterloo.ca   \n",
       "14     spam  the00@speedy.uwaterloo.ca, opt2@speedy.uwaterl...   \n",
       "15     spam                       the00@plg2.math.uwaterloo.ca   \n",
       "17     spam                           <the00@plg.uwaterloo.ca>   \n",
       "18     spam                           <the00@plg.uwaterloo.ca>   \n",
       "19     spam                           <the00@plg.uwaterloo.ca>   \n",
       "20     spam                       gnitpick@speedy.uwaterloo.ca   \n",
       "21     spam          \"Gnitpick\" <gnitpick@speedy.uwaterloo.ca>   \n",
       "22     spam                       gnitpick@speedy.uwaterloo.ca   \n",
       "23     spam                        <theorize@plg.uwaterloo.ca>   \n",
       "25     spam                        <theorize@plg.uwaterloo.ca>   \n",
       "26      ham                       ktwarwic@speedy.uwaterloo.ca   \n",
       "27     spam                          theorize@plg.uwaterloo.ca   \n",
       "\n",
       "                                         from_address  \\\n",
       "0                  \"Tomas Jacobs\" <RickyAmes@aol.com>   \n",
       "1          Yan Morin <yan.morin@savoirfairelinux.com>   \n",
       "2   \"Sheila Crenshaw\" <7stocknews@tractionmarketin...   \n",
       "3        \"Stormy Dempsey\" <vqucsmdfgvsg@ruraltek.com>   \n",
       "4          \"Christi T. Jernigan\" <dcube@totalink.net>   \n",
       "5      \"Bobby L. Fleming\" <zvyrepeated@liselebel.com>   \n",
       "6             \"Esteban Everett\" <dbmagyrln@dbmag.com>   \n",
       "7                     Real Loss <fibond@terra.com.do>   \n",
       "9                       \"Billy Chin\" <boxer@0733.com>   \n",
       "10  \"Josie Abernathy\" <cebcalhounrennerhog@calhoun...   \n",
       "11                       wing as <mstep@mavorama.com>   \n",
       "12                  \"Geoffrey\" <reginald@funeasy.biz>   \n",
       "13                 4ever Young <ualicia@netscape.net>   \n",
       "14        \"Caroyln Herbert\" <slqwil@planetonline.com>   \n",
       "15                Domingo Bolden <lfriend@dryden.com>   \n",
       "17               \"Henry\" <gilbert@garageservices.biz>   \n",
       "18                     \"Simon\" <walter@griffield.biz>   \n",
       "19                  \"Philip\" <richard@expomedica.biz>   \n",
       "20            Young Future <kdemetrius@publicist.com>   \n",
       "21                \"Gena Blanco\" <nytwdn@incamail.com>   \n",
       "22   \"Carlene Campos\" <cebcaligularhog@caligular.com>   \n",
       "23       \"Chadwick Milesc\" <ctuballerina@bb-autom.nl>   \n",
       "25                   \"Henry\" <richard@expomedica.biz>   \n",
       "26           \"BBC daily email\" <dailyemail@bbc.co.uk>   \n",
       "27               4ever Young <doaraceli@altavista.nl>   \n",
       "\n",
       "                                              subject  \\\n",
       "0                   Generic Cialis, branded quality@    \n",
       "1                              Typo in /debian/README   \n",
       "2                                    authentic viagra   \n",
       "3                                Nice talking with ya   \n",
       "4   or trembling; stomach cramps; trouble in sleep...   \n",
       "5                                       Which is duty   \n",
       "6   Theorize get inside for local esc0rts who do i...   \n",
       "7                               Losing Weight Quickly   \n",
       "9                                           For Smile   \n",
       "10                Less weight - more pleasure and joy   \n",
       "11  problems in animal studies using rats or rabbi...   \n",
       "12                               We cure any desease!   \n",
       "13                               Human Growth Hormone   \n",
       "14                                             hi man   \n",
       "15  when taken for a long time or in large doses, ...   \n",
       "17                               We cure any desease!   \n",
       "18                           Need medicine? All here!   \n",
       "19                           Need medicine? All here!   \n",
       "20                               Become Fit For Life!   \n",
       "21                                 Please Read This C   \n",
       "22                 Be leaner and slimmer by next week   \n",
       "23                                     But serpentine   \n",
       "25                      All products for your health!   \n",
       "26                     Your daily e-mail from the BBC   \n",
       "27                                  HGH really helps!   \n",
       "\n",
       "                                                 body  cluster  \n",
       "0   \\n\\n\\n\\n\\n\\n\\nDo you feel the pressure to perf...        0  \n",
       "1   Hi, i've just updated from the gulus and I che...        0  \n",
       "2   authentic viagra\\n\\nMega  authenticV I A G R A...        0  \n",
       "3   \\nHey Billy, \\n\\nit was really fun going out t...        0  \n",
       "4   \\n\\n\\n\\n\\n\\n\\nsystem\" of the home.  It will ha...        0  \n",
       "5   \\n\\n\\n\\n\\n\\n\\nthe program and the creative abi...        0  \n",
       "6   \\n\\n\\n\\t\\t\\t\\t\\t\\t\\t\\t\\t\\t\\t\\t\\t\\t\\t\\t\\t\\t\\t\\t...        0  \n",
       "7   \\n\\n\\n\\n\\n\\n HoodiaLife - Start Losing Weight ...        0  \n",
       "9   \\n\\n\\n\\n\\n\\n\\nGood day!\\nVisit our new online ...        0  \n",
       "10  \\nCheck out the wonders of pound melting\\n\\n\\n...        0  \n",
       "11  \\n\\n\\n\\n\\n\\n\\nmovement on the tablet.  I could...        0  \n",
       "12                                   \\n\\n\\n\\n\\n\\n\\n\\n        0  \n",
       "13  \\n\\n\\n\\n\\n\\nWhat is HGH Life™?\\n HGH Life™ is ...        0  \n",
       "14  Hey Billy, \\n\\nit was really fun going out the...        0  \n",
       "15  \\n\\n\\n\\n\\n\\n\\ncan assist advertising and marke...        0  \n",
       "17                                   \\n\\n\\n\\n\\n\\n\\n\\n        0  \n",
       "18                                   \\n\\n\\n\\n\\n\\n\\n\\n        0  \n",
       "19                                   \\n\\n\\n\\n\\n\\n\\n\\n        0  \n",
       "20  \\n\\n\\n\\n\\n\\n\\nBecome Fit For Life!\\n\\nHGH is a...        0  \n",
       "21                                                           0  \n",
       "22  \\nMake your fat friends envy you\\n\\n\\n\\n\\n\\n\\n...        0  \n",
       "23  \\n\\n\\n\\n\\nRemember HANS and FIZ\\nFire Mountain...        0  \n",
       "25                                   \\n\\n\\n\\n\\n\\n\\n\\n        0  \n",
       "26  \\n\\n\\n\\n\\n\\n\\n\\nSunday, 08 April, 2007, 18:00 ...        0  \n",
       "27  \\n\\n\\n\\n\\n\\nWhat is HGH Life™?\\n HGH Life™ is ...        0  "
      ]
     },
     "execution_count": 36,
     "metadata": {},
     "output_type": "execute_result"
    }
   ],
   "source": [
    "df[df['cluster'] == 0].head(25)"
   ]
  },
  {
   "attachments": {},
   "cell_type": "markdown",
   "metadata": {},
   "source": [
    "We can observe from the spam data samples that belong to cluster 0, that the 'from_address' value is almost always the name of a real person or company with odd url endings, whereas the 'to_address' values are different emails with the same address location, which indicates that a hacker was targeting a certain company. This information may be helpful in identifying spam emails. The 'subject' values often contain similar words and phrases that often try to entice users into clicking on the email."
   ]
  },
  {
   "cell_type": "code",
   "execution_count": 37,
   "metadata": {},
   "outputs": [
    {
     "data": {
      "text/html": [
       "<div>\n",
       "<style scoped>\n",
       "    .dataframe tbody tr th:only-of-type {\n",
       "        vertical-align: middle;\n",
       "    }\n",
       "\n",
       "    .dataframe tbody tr th {\n",
       "        vertical-align: top;\n",
       "    }\n",
       "\n",
       "    .dataframe thead th {\n",
       "        text-align: right;\n",
       "    }\n",
       "</style>\n",
       "<table border=\"1\" class=\"dataframe\">\n",
       "  <thead>\n",
       "    <tr style=\"text-align: right;\">\n",
       "      <th></th>\n",
       "      <th>category</th>\n",
       "      <th>to_address</th>\n",
       "      <th>from_address</th>\n",
       "      <th>subject</th>\n",
       "      <th>body</th>\n",
       "      <th>cluster</th>\n",
       "    </tr>\n",
       "  </thead>\n",
       "  <tbody>\n",
       "    <tr>\n",
       "      <th>8</th>\n",
       "      <td>ham</td>\n",
       "      <td>r-help@stat.math.ethz.ch</td>\n",
       "      <td>\"Jochen.F\" &lt;jjfahr@ucalgary.ca&gt;</td>\n",
       "      <td>[R] Confidence-Intervals.... help...</td>\n",
       "      <td>\\nHi...\\n\\nI have to use R to find out the 90%...</td>\n",
       "      <td>1</td>\n",
       "    </tr>\n",
       "    <tr>\n",
       "      <th>16</th>\n",
       "      <td>ham</td>\n",
       "      <td>\"Jochen.F\" &lt;jjfahr@ucalgary.ca&gt;</td>\n",
       "      <td>\"Sarah Goslee\" &lt;sarah.goslee@gmail.com&gt;</td>\n",
       "      <td>Re: [R] Confidence-Intervals.... help...</td>\n",
       "      <td>Hm... sounds like a homework problem to me...\\...</td>\n",
       "      <td>1</td>\n",
       "    </tr>\n",
       "    <tr>\n",
       "      <th>24</th>\n",
       "      <td>ham</td>\n",
       "      <td>r-help@stat.math.ethz.ch</td>\n",
       "      <td>Michael Kubovy &lt;kubovy@virginia.edu&gt;</td>\n",
       "      <td>[R] Failure of mcsamp() but not mcmcsamp()</td>\n",
       "      <td>Daer r-helpers,\\n\\nCan anyone help with the fo...</td>\n",
       "      <td>1</td>\n",
       "    </tr>\n",
       "    <tr>\n",
       "      <th>68</th>\n",
       "      <td>ham</td>\n",
       "      <td>\"Wilfred Zegwaard\" &lt;wilfred.zegwaard@gmail.com&gt;</td>\n",
       "      <td>\"Johann Hibschman\" &lt;johannh@gmail.com&gt;</td>\n",
       "      <td>Re: [R] Reasons to Use R</td>\n",
       "      <td>On 4/6/07, Wilfred Zegwaard  wrote:\\n\\n&gt; I'm n...</td>\n",
       "      <td>1</td>\n",
       "    </tr>\n",
       "    <tr>\n",
       "      <th>75</th>\n",
       "      <td>ham</td>\n",
       "      <td>\"Johann Hibschman\" &lt;johannh@gmail.com&gt;</td>\n",
       "      <td>\"Gabor Grothendieck\" &lt;ggrothendieck@gmail.com&gt;</td>\n",
       "      <td>Re: [R] Reasons to Use R</td>\n",
       "      <td>On 4/8/07, Johann Hibschman  wrote:\\n&gt; R's pas...</td>\n",
       "      <td>1</td>\n",
       "    </tr>\n",
       "    <tr>\n",
       "      <th>112</th>\n",
       "      <td>ham</td>\n",
       "      <td>r-help@stat.math.ethz.ch</td>\n",
       "      <td>\"Zia Uddin Ahmed\" &lt;zua3@cornell.edu&gt;</td>\n",
       "      <td>[R] How do I back transforme ordinary log-krig...</td>\n",
       "      <td>I have a question to everybody.\\n\\nAfter log10...</td>\n",
       "      <td>1</td>\n",
       "    </tr>\n",
       "    <tr>\n",
       "      <th>149</th>\n",
       "      <td>ham</td>\n",
       "      <td>&lt;r-help@stat.math.ethz.ch&gt;</td>\n",
       "      <td>\"Cressoni, Massimo \\(NIH/NHLBI\\) [F]\" &lt;cresson...</td>\n",
       "      <td>[R] Plot symbols dimensions</td>\n",
       "      <td>\\nI am writing some code to obtain publication...</td>\n",
       "      <td>1</td>\n",
       "    </tr>\n",
       "    <tr>\n",
       "      <th>278</th>\n",
       "      <td>ham</td>\n",
       "      <td>r-help@stat.math.ethz.ch</td>\n",
       "      <td>Wilfred Zegwaard &lt;wilfred.zegwaard@gmail.com&gt;</td>\n",
       "      <td>Re: [R] Reasons to Use R</td>\n",
       "      <td>Dear Johann and Gabor,\\n\\nIt's what amounts to...</td>\n",
       "      <td>1</td>\n",
       "    </tr>\n",
       "    <tr>\n",
       "      <th>307</th>\n",
       "      <td>ham</td>\n",
       "      <td>r-help@stat.math.ethz.ch</td>\n",
       "      <td>=?ISO-2022-JP?B?GyRCQG44fRsoQiAbJEI9JDwjGyhC?=...</td>\n",
       "      <td>[R] Could not fit correct values in discrimina...</td>\n",
       "      <td>Dear R-users,\\n\\nI would like to use \"bruto\" f...</td>\n",
       "      <td>1</td>\n",
       "    </tr>\n",
       "    <tr>\n",
       "      <th>318</th>\n",
       "      <td>ham</td>\n",
       "      <td>r-help@stat.math.ethz.ch</td>\n",
       "      <td>\"joey repice\" &lt;fireseedmusic@gmail.com&gt;</td>\n",
       "      <td>[R] R:Maximum likelihood estimation using BHHH...</td>\n",
       "      <td>Dear R users,\\n\\nI am new to R. I would like t...</td>\n",
       "      <td>1</td>\n",
       "    </tr>\n",
       "    <tr>\n",
       "      <th>323</th>\n",
       "      <td>ham</td>\n",
       "      <td>r-help@stat.math.ethz.ch</td>\n",
       "      <td>adschai@optonline.net</td>\n",
       "      <td>[R] Dealing with large nominal predictor in se...</td>\n",
       "      <td>Hi,\\n\\nI am using tsls function from sem packa...</td>\n",
       "      <td>1</td>\n",
       "    </tr>\n",
       "    <tr>\n",
       "      <th>408</th>\n",
       "      <td>ham</td>\n",
       "      <td>hadley wickham &lt;h.wickham@gmail.com&gt;</td>\n",
       "      <td>Prof Brian Ripley &lt;ripley@stats.ox.ac.uk&gt;</td>\n",
       "      <td>Re: [R] data encapsulation with classes</td>\n",
       "      <td>On Sun, 8 Apr 2007, hadley wickham wrote:\\n\\n&gt;...</td>\n",
       "      <td>1</td>\n",
       "    </tr>\n",
       "    <tr>\n",
       "      <th>472</th>\n",
       "      <td>ham</td>\n",
       "      <td>r-help &lt;r-help@stat.math.ethz.ch&gt;</td>\n",
       "      <td>Shao &lt;xshining@gmail.com&gt;</td>\n",
       "      <td>[R] How to solve differential and integral equ...</td>\n",
       "      <td>Hello,\\n\\nI want to know if there are some fun...</td>\n",
       "      <td>1</td>\n",
       "    </tr>\n",
       "    <tr>\n",
       "      <th>501</th>\n",
       "      <td>ham</td>\n",
       "      <td>r-help@stat.math.ethz.ch</td>\n",
       "      <td>chao gai &lt;chaogai@duineveld.demon.nl&gt;</td>\n",
       "      <td>Re: [R] R:Maximum likelihood estimation using ...</td>\n",
       "      <td>Joey,\\n\\nFirst of all, it is bad habit to call...</td>\n",
       "      <td>1</td>\n",
       "    </tr>\n",
       "    <tr>\n",
       "      <th>534</th>\n",
       "      <td>ham</td>\n",
       "      <td>r-help &lt;r-help@stat.math.ethz.ch&gt;</td>\n",
       "      <td>Shao &lt;xshining@gmail.com&gt;</td>\n",
       "      <td>Re: [R] How to solve differential and integral...</td>\n",
       "      <td>Thanks,\\nI have much to learn~~~\\n\\nShao chunx...</td>\n",
       "      <td>1</td>\n",
       "    </tr>\n",
       "    <tr>\n",
       "      <th>578</th>\n",
       "      <td>ham</td>\n",
       "      <td>&lt;adschai@optonline.net&gt;</td>\n",
       "      <td>\"John Fox\" &lt;jfox@mcmaster.ca&gt;</td>\n",
       "      <td>Re: [R] Dealing with large nominal predictor i...</td>\n",
       "      <td>Dear adschai,\\n\\nIt's not possible to know fro...</td>\n",
       "      <td>1</td>\n",
       "    </tr>\n",
       "    <tr>\n",
       "      <th>582</th>\n",
       "      <td>ham</td>\n",
       "      <td>r-help@stat.math.ethz.ch</td>\n",
       "      <td>fsando &lt;fsando@fs-analyse.dk&gt;</td>\n",
       "      <td>Re: [R] R 'could not find any X11 fonts'</td>\n",
       "      <td>Thanks anhnmncb\\nI think the problem comes fro...</td>\n",
       "      <td>1</td>\n",
       "    </tr>\n",
       "    <tr>\n",
       "      <th>594</th>\n",
       "      <td>ham</td>\n",
       "      <td>r-help@stat.math.ethz.ch</td>\n",
       "      <td>fsando &lt;fsando@fs-analyse.dk&gt;</td>\n",
       "      <td>[R] Problem installing gnomeGUI in Ubuntu: \"HA...</td>\n",
       "      <td>I am trying to install the gnomeGUI package\\nI...</td>\n",
       "      <td>1</td>\n",
       "    </tr>\n",
       "    <tr>\n",
       "      <th>622</th>\n",
       "      <td>ham</td>\n",
       "      <td>\"?? ??\" &lt;kawaguchi@math.kyushu-u.ac.jp&gt;, &lt;r-he...</td>\n",
       "      <td>\"Kuhn, Max\" &lt;Max.Kuhn@pfizer.com&gt;</td>\n",
       "      <td>Re: [R] Could not fit correct values in discri...</td>\n",
       "      <td>Shuji,\\n\\nI suspect that bruto blows up becaus...</td>\n",
       "      <td>1</td>\n",
       "    </tr>\n",
       "    <tr>\n",
       "      <th>629</th>\n",
       "      <td>ham</td>\n",
       "      <td>Prof Brian Ripley &lt;ripley@stats.ox.ac.uk&gt;</td>\n",
       "      <td>Martin Maechler &lt;maechler@stat.math.ethz.ch&gt;</td>\n",
       "      <td>Re: [R] data encapsulation with classes</td>\n",
       "      <td>&gt;&gt;&gt;&gt;&gt; \"BDR\" == Prof Brian Ripley \\n&gt;&gt;&gt;&gt;&gt;     o...</td>\n",
       "      <td>1</td>\n",
       "    </tr>\n",
       "    <tr>\n",
       "      <th>630</th>\n",
       "      <td>ham</td>\n",
       "      <td>&lt;r-help@stat.math.ethz.ch&gt;</td>\n",
       "      <td>\"Chris Elsaesser\" &lt;chris.elsaesser@spadac.com&gt;</td>\n",
       "      <td>[R] Modified Sims test</td>\n",
       "      <td>Does anyone know of a package that includes th...</td>\n",
       "      <td>1</td>\n",
       "    </tr>\n",
       "    <tr>\n",
       "      <th>668</th>\n",
       "      <td>ham</td>\n",
       "      <td>\"Dimitri Szerman\" &lt;dimitrijoe@gmail.com&gt;,\\n   ...</td>\n",
       "      <td>\"Greg Snow\" &lt;Greg.Snow@intermountainmail.org&gt;</td>\n",
       "      <td>Re: [R] lm() intercept at the end, rather than...</td>\n",
       "      <td>Gabor has already showed you one way to make y...</td>\n",
       "      <td>1</td>\n",
       "    </tr>\n",
       "    <tr>\n",
       "      <th>694</th>\n",
       "      <td>ham</td>\n",
       "      <td>\"'Wilfred Zegwaard'\" &lt;wilfred.zegwaard@gmail.c...</td>\n",
       "      <td>\"Jorge Cornejo-Donoso\" &lt;jorgecornejo@uach.cl&gt;</td>\n",
       "      <td>Re: [R] Reasons to Use R</td>\n",
       "      <td>tha s9ze of db is an issue with R. We are stil...</td>\n",
       "      <td>1</td>\n",
       "    </tr>\n",
       "    <tr>\n",
       "      <th>706</th>\n",
       "      <td>ham</td>\n",
       "      <td>\"Jorge Cornejo-Donoso\" &lt;jorgecornejo@uach.cl&gt;</td>\n",
       "      <td>\"Gabor Grothendieck\" &lt;ggrothendieck@gmail.com&gt;</td>\n",
       "      <td>Re: [R] Reasons to Use R</td>\n",
       "      <td>Have you tried 64 bit machines with larger mem...</td>\n",
       "      <td>1</td>\n",
       "    </tr>\n",
       "    <tr>\n",
       "      <th>715</th>\n",
       "      <td>ham</td>\n",
       "      <td>\"'Gabor Grothendieck'\" &lt;ggrothendieck@gmail.com&gt;</td>\n",
       "      <td>\"Jorge Cornejo-Donoso\" &lt;jorgecornejo@uach.cl&gt;</td>\n",
       "      <td>Re: [R] Reasons to Use R</td>\n",
       "      <td>I have a Dell with 2 Intel XEON 3.0 procesors ...</td>\n",
       "      <td>1</td>\n",
       "    </tr>\n",
       "  </tbody>\n",
       "</table>\n",
       "</div>"
      ],
      "text/plain": [
       "    category                                         to_address  \\\n",
       "8        ham                           r-help@stat.math.ethz.ch   \n",
       "16       ham                    \"Jochen.F\" <jjfahr@ucalgary.ca>   \n",
       "24       ham                           r-help@stat.math.ethz.ch   \n",
       "68       ham    \"Wilfred Zegwaard\" <wilfred.zegwaard@gmail.com>   \n",
       "75       ham             \"Johann Hibschman\" <johannh@gmail.com>   \n",
       "112      ham                           r-help@stat.math.ethz.ch   \n",
       "149      ham                         <r-help@stat.math.ethz.ch>   \n",
       "278      ham                           r-help@stat.math.ethz.ch   \n",
       "307      ham                           r-help@stat.math.ethz.ch   \n",
       "318      ham                           r-help@stat.math.ethz.ch   \n",
       "323      ham                           r-help@stat.math.ethz.ch   \n",
       "408      ham               hadley wickham <h.wickham@gmail.com>   \n",
       "472      ham                  r-help <r-help@stat.math.ethz.ch>   \n",
       "501      ham                           r-help@stat.math.ethz.ch   \n",
       "534      ham                  r-help <r-help@stat.math.ethz.ch>   \n",
       "578      ham                            <adschai@optonline.net>   \n",
       "582      ham                           r-help@stat.math.ethz.ch   \n",
       "594      ham                           r-help@stat.math.ethz.ch   \n",
       "622      ham  \"?? ??\" <kawaguchi@math.kyushu-u.ac.jp>, <r-he...   \n",
       "629      ham          Prof Brian Ripley <ripley@stats.ox.ac.uk>   \n",
       "630      ham                         <r-help@stat.math.ethz.ch>   \n",
       "668      ham  \"Dimitri Szerman\" <dimitrijoe@gmail.com>,\\n   ...   \n",
       "694      ham  \"'Wilfred Zegwaard'\" <wilfred.zegwaard@gmail.c...   \n",
       "706      ham      \"Jorge Cornejo-Donoso\" <jorgecornejo@uach.cl>   \n",
       "715      ham   \"'Gabor Grothendieck'\" <ggrothendieck@gmail.com>   \n",
       "\n",
       "                                          from_address  \\\n",
       "8                      \"Jochen.F\" <jjfahr@ucalgary.ca>   \n",
       "16             \"Sarah Goslee\" <sarah.goslee@gmail.com>   \n",
       "24                Michael Kubovy <kubovy@virginia.edu>   \n",
       "68              \"Johann Hibschman\" <johannh@gmail.com>   \n",
       "75      \"Gabor Grothendieck\" <ggrothendieck@gmail.com>   \n",
       "112               \"Zia Uddin Ahmed\" <zua3@cornell.edu>   \n",
       "149  \"Cressoni, Massimo \\(NIH/NHLBI\\) [F]\" <cresson...   \n",
       "278      Wilfred Zegwaard <wilfred.zegwaard@gmail.com>   \n",
       "307  =?ISO-2022-JP?B?GyRCQG44fRsoQiAbJEI9JDwjGyhC?=...   \n",
       "318            \"joey repice\" <fireseedmusic@gmail.com>   \n",
       "323                              adschai@optonline.net   \n",
       "408          Prof Brian Ripley <ripley@stats.ox.ac.uk>   \n",
       "472                          Shao <xshining@gmail.com>   \n",
       "501              chao gai <chaogai@duineveld.demon.nl>   \n",
       "534                          Shao <xshining@gmail.com>   \n",
       "578                      \"John Fox\" <jfox@mcmaster.ca>   \n",
       "582                      fsando <fsando@fs-analyse.dk>   \n",
       "594                      fsando <fsando@fs-analyse.dk>   \n",
       "622                  \"Kuhn, Max\" <Max.Kuhn@pfizer.com>   \n",
       "629       Martin Maechler <maechler@stat.math.ethz.ch>   \n",
       "630     \"Chris Elsaesser\" <chris.elsaesser@spadac.com>   \n",
       "668      \"Greg Snow\" <Greg.Snow@intermountainmail.org>   \n",
       "694      \"Jorge Cornejo-Donoso\" <jorgecornejo@uach.cl>   \n",
       "706     \"Gabor Grothendieck\" <ggrothendieck@gmail.com>   \n",
       "715      \"Jorge Cornejo-Donoso\" <jorgecornejo@uach.cl>   \n",
       "\n",
       "                                               subject  \\\n",
       "8                 [R] Confidence-Intervals.... help...   \n",
       "16            Re: [R] Confidence-Intervals.... help...   \n",
       "24          [R] Failure of mcsamp() but not mcmcsamp()   \n",
       "68                            Re: [R] Reasons to Use R   \n",
       "75                            Re: [R] Reasons to Use R   \n",
       "112  [R] How do I back transforme ordinary log-krig...   \n",
       "149                        [R] Plot symbols dimensions   \n",
       "278                           Re: [R] Reasons to Use R   \n",
       "307  [R] Could not fit correct values in discrimina...   \n",
       "318  [R] R:Maximum likelihood estimation using BHHH...   \n",
       "323  [R] Dealing with large nominal predictor in se...   \n",
       "408            Re: [R] data encapsulation with classes   \n",
       "472  [R] How to solve differential and integral equ...   \n",
       "501  Re: [R] R:Maximum likelihood estimation using ...   \n",
       "534  Re: [R] How to solve differential and integral...   \n",
       "578  Re: [R] Dealing with large nominal predictor i...   \n",
       "582           Re: [R] R 'could not find any X11 fonts'   \n",
       "594  [R] Problem installing gnomeGUI in Ubuntu: \"HA...   \n",
       "622  Re: [R] Could not fit correct values in discri...   \n",
       "629            Re: [R] data encapsulation with classes   \n",
       "630                             [R] Modified Sims test   \n",
       "668  Re: [R] lm() intercept at the end, rather than...   \n",
       "694                           Re: [R] Reasons to Use R   \n",
       "706                           Re: [R] Reasons to Use R   \n",
       "715                           Re: [R] Reasons to Use R   \n",
       "\n",
       "                                                  body  cluster  \n",
       "8    \\nHi...\\n\\nI have to use R to find out the 90%...        1  \n",
       "16   Hm... sounds like a homework problem to me...\\...        1  \n",
       "24   Daer r-helpers,\\n\\nCan anyone help with the fo...        1  \n",
       "68   On 4/6/07, Wilfred Zegwaard  wrote:\\n\\n> I'm n...        1  \n",
       "75   On 4/8/07, Johann Hibschman  wrote:\\n> R's pas...        1  \n",
       "112  I have a question to everybody.\\n\\nAfter log10...        1  \n",
       "149  \\nI am writing some code to obtain publication...        1  \n",
       "278  Dear Johann and Gabor,\\n\\nIt's what amounts to...        1  \n",
       "307  Dear R-users,\\n\\nI would like to use \"bruto\" f...        1  \n",
       "318  Dear R users,\\n\\nI am new to R. I would like t...        1  \n",
       "323  Hi,\\n\\nI am using tsls function from sem packa...        1  \n",
       "408  On Sun, 8 Apr 2007, hadley wickham wrote:\\n\\n>...        1  \n",
       "472  Hello,\\n\\nI want to know if there are some fun...        1  \n",
       "501  Joey,\\n\\nFirst of all, it is bad habit to call...        1  \n",
       "534  Thanks,\\nI have much to learn~~~\\n\\nShao chunx...        1  \n",
       "578  Dear adschai,\\n\\nIt's not possible to know fro...        1  \n",
       "582  Thanks anhnmncb\\nI think the problem comes fro...        1  \n",
       "594  I am trying to install the gnomeGUI package\\nI...        1  \n",
       "622  Shuji,\\n\\nI suspect that bruto blows up becaus...        1  \n",
       "629  >>>>> \"BDR\" == Prof Brian Ripley \\n>>>>>     o...        1  \n",
       "630  Does anyone know of a package that includes th...        1  \n",
       "668  Gabor has already showed you one way to make y...        1  \n",
       "694  tha s9ze of db is an issue with R. We are stil...        1  \n",
       "706  Have you tried 64 bit machines with larger mem...        1  \n",
       "715  I have a Dell with 2 Intel XEON 3.0 procesors ...        1  "
      ]
     },
     "execution_count": 37,
     "metadata": {},
     "output_type": "execute_result"
    }
   ],
   "source": [
    "df[df['cluster'] == 1].head(25)"
   ]
  },
  {
   "attachments": {},
   "cell_type": "markdown",
   "metadata": {},
   "source": [
    "We can observe from the ham data samples that belong to cluster 1, that the 'from_address' value and the 'to_address' values are almost always a real person's name which may be a good indication of a ham email. The subject also often includes 'Re:' which indicates that it is an email chain or conversation indicating that it is a ham email because people often only respond to emails more than once if they trust who they are emailing."
   ]
  },
  {
   "attachments": {},
   "cell_type": "markdown",
   "metadata": {},
   "source": [
    "***e. The clusters represent email from two separate mailing lists. One mailing list is for the R programming language, while the other mailing list is for a university. Which mailing list contained all of the spam?***\n",
    "\n",
    "Cluster 0 contained all of the spam data samples and from further inspection of the 'to_address' we can conclude that all th spam came from the university mailing list. Almost all of the spam emails where to email addresses containing '@plg.uwaterloo.ca'. After some research, I found that University of Waterloo is located in Ontario, Canada which is most likely the university this mailing list was from. It makes sense for universities to get a lot of spam emails because hackers want to obtain the personal information of the students or faculty like their social security number. It also doesn't seem very likely that anyone would want to send spam email to the mailing list for the R language because there is not much to gain from a company like that."
   ]
  },
  {
   "attachments": {},
   "cell_type": "markdown",
   "metadata": {},
   "source": [
    "#### **Conclusion**\n",
    "\n",
    "In this lab, we used DBSCAN to determine two distinct, non-globular clusters in the email data. Cluster 0 contained all of the spam messages, while ham messages were found in both clusters. From our analysis, we were able to find what words occurred most frequently in ham and spam emails. All of the spam emails (in cluster 0) came from the university mailing list and contained more random words most frequently. The most frequent words in cluster 1 were common stop words and a lot of computer science words which makes sense because some of the data came from the R language mailing list. From this process, we were able to conclude that certain words occur more often in spam emails than ham emails."
   ]
  }
 ],
 "metadata": {
  "kernelspec": {
   "display_name": "Python 3",
   "language": "python",
   "name": "python3"
  },
  "language_info": {
   "codemirror_mode": {
    "name": "ipython",
    "version": 3
   },
   "file_extension": ".py",
   "mimetype": "text/x-python",
   "name": "python",
   "nbconvert_exporter": "python",
   "pygments_lexer": "ipython3",
   "version": "3.10.7"
  },
  "orig_nbformat": 4,
  "vscode": {
   "interpreter": {
    "hash": "369f2c481f4da34e4445cda3fffd2e751bd1c4d706f27375911949ba6bb62e1c"
   }
  }
 },
 "nbformat": 4,
 "nbformat_minor": 2
}

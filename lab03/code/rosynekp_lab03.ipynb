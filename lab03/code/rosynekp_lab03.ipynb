{
 "cells": [
  {
   "attachments": {},
   "cell_type": "markdown",
   "metadata": {},
   "source": [
    "## **Lab 03 - EDA with Statistical Testing**\n",
    "\n",
    "Paige Rosynek, 01.05.2023"
   ]
  },
  {
   "attachments": {},
   "cell_type": "markdown",
   "metadata": {},
   "source": [
    "### **Introduction**"
   ]
  },
  {
   "attachments": {},
   "cell_type": "markdown",
   "metadata": {},
   "source": [
    "In this lab we will be exploring various statstical tests to identify correlated and predictive variables. We will go through a simple problem to further explore the two-sample t-test and to gain experience with interpreting the results of statstical tests. In addition, we will first be researching Pearson's Correlation, Kruskal-Wallis, and chi-squared test of independence statistical tests before using each on the cleaned Sacremento real estate data set. Then we will compare the results of these tests with our analysis from Lab 2 in order to confirm the predictiveness of variables for predicting property type and price."
   ]
  },
  {
   "attachments": {},
   "cell_type": "markdown",
   "metadata": {},
   "source": [
    "**Import libraries**"
   ]
  },
  {
   "cell_type": "code",
   "execution_count": 1,
   "metadata": {},
   "outputs": [],
   "source": [
    "from scipy import stats\n",
    "import pandas as pd"
   ]
  },
  {
   "attachments": {},
   "cell_type": "markdown",
   "metadata": {},
   "source": [
    "### **Part I: Review of Statistical Tests**"
   ]
  },
  {
   "attachments": {},
   "cell_type": "markdown",
   "metadata": {},
   "source": [
    "**Problem:**\n",
    "\n",
    "Let's say that you decide you want to know if playing video games impacts students' \n",
    "grades.  You set up a survey which asks students two questions: \n",
    " \n",
    "1. Do you play video games regularly?  Yes / no \n",
    "2. What is your GPA? \n",
    " \n"
   ]
  },
  {
   "attachments": {},
   "cell_type": "markdown",
   "metadata": {},
   "source": [
    "**Hypothesis:** If a student plays video games regularly, then they will have an average GPA of 2.9 or lower."
   ]
  },
  {
   "attachments": {},
   "cell_type": "markdown",
   "metadata": {},
   "source": [
    "**Results:**\n",
    "\n",
    "You now decide to look at the survey results.  You have 100 responses!  68 students said \n",
    "they play video games regularly, while 32 students said they did not.   The 68 games \n",
    "have an average GPA of 3.4 with a standard deviation of 1.2, while the 32 non-gamers \n",
    "have an average GPA of 3.3 with a standard deviation of 1.1. "
   ]
  },
  {
   "attachments": {},
   "cell_type": "markdown",
   "metadata": {},
   "source": [
    "**Two-sample t-test**\n",
    "\n",
    "A two-sample t-test is used in situations in which the relationship between a measurement variable and a catgorical variable, that has exactly 2 categories, is being explored. The two-sample t-test tests whether the means of the two categories or groups are different. In other words, the test should be used when you want to compare the difference between the means of the measurement variable of the two categories. Based on these specifications, we can apply the two-sample t-test to the situation described above. Since, in the problem, there is one measurement variable, GPA, and one categorical variable, whether or not a student plays video games regularly, which has only two catgories, yes and no, so the two-sample t-test can be used. One assumption that is made by the two-sample t-test is that the observations within each group are normally distributed, which this may not hold true for the problem described above.\n",
    "\n",
    "**Null hypothesis:** The means of the GPA for the groups of students that play video games regularly and students that do not, are equal.\n",
    "\n",
    "**Alternative hypothesis:** The means of the GPA for the groups of students that play video games regularly and students that do not, are different."
   ]
  },
  {
   "attachments": {},
   "cell_type": "markdown",
   "metadata": {},
   "source": [
    "**Perform two-sample t-test on the problem data**"
   ]
  },
  {
   "cell_type": "code",
   "execution_count": 2,
   "metadata": {},
   "outputs": [
    {
     "name": "stdout",
     "output_type": "stream",
     "text": [
      "statistic = 0.39893881176878243\tp_value = 0.6908062583072547\n"
     ]
    }
   ],
   "source": [
    "statistic, p_value = stats.ttest_ind_from_stats(mean1=3.4, std1=1.2, nobs1=68, mean2=3.3, std2=1.1, nobs2=32)\n",
    "print(f'statistic = {statistic}\\tp_value = {p_value}')"
   ]
  },
  {
   "attachments": {},
   "cell_type": "markdown",
   "metadata": {},
   "source": [
    "**fail to reject null hypothesis do not have sufficient evidence to accept alternative hypothesis**"
   ]
  },
  {
   "attachments": {},
   "cell_type": "markdown",
   "metadata": {},
   "source": [
    "After performing the two-sample t-test on the problem data, the calculated p-value for data is $0.6908062583072547$. Using a significance threshold of $0.01$ on the p-value, we can conclude that the observations of the experiment are not statistically significant because the calculated p-value is much greater than the threshold. In regards to the problem, this means that the difference between the means of the GPA's of the two groups is not statstically significant. Therefore, we accept the null hypothesis which states that the mean of the GPA's of each of the two groups are equal. These results disprove my original hypothesis that students who play video games regularly will have a GPA of 2.9 or lower."
   ]
  },
  {
   "attachments": {},
   "cell_type": "markdown",
   "metadata": {},
   "source": [
    "### **Part II: Exploring Additional Statistical Tests**"
   ]
  },
  {
   "attachments": {},
   "cell_type": "markdown",
   "metadata": {},
   "source": [
    "**Pearson's Correlation**\n",
    "\n",
    "- **When to use:** \n",
    "    - Two numerical variables.\n",
    "    <br><br>\n",
    "- **Assumptions:** \n",
    "    - The data has a linear relationship or structure.\n",
    "    - Samples are independent of each other. \n",
    "    - Homoscedasticity (there is a similar spread across the range). The variance around the regression line is the same for all values of the predictor variable. \n",
    "    - Both variables are normally distributed.\n",
    "    <br><br>\n",
    "- **Null hypothesis:**\n",
    "    - The slope of the best fit line is equal to 0 (there's no correlation between the two variables).\n",
    "    <br><br>\n",
    "- **Alternative hypothesis**\n",
    "    - The slope of the best fit line is not equal to 0 (there is a correlation between the two variables).\n",
    "    <br><br>\n",
    "- **Statistical significance**\n",
    "    - If the test indicates statistical significance, then we conclude that the two variables are correlated. If the test does not indicate statstical significance, then we conclude that the two variables are not correlated.\n"
   ]
  },
  {
   "attachments": {},
   "cell_type": "markdown",
   "metadata": {},
   "source": [
    "**Kruskal-Wallis Test**\n",
    "\n",
    "- **When to use:**\n",
    "    - One categorical and one numerical variable (converted to ranks with rank of 1 being the smallest measurement).\n",
    "    <br><br>\n",
    "- **Assumptions:**\n",
    "    - Does **not** assume data is normally distributed.\n",
    "    - Observations in each group come from similarly distributed data.\n",
    "    - Observations within each group are indpendent. \n",
    "    <br><br>\n",
    "- **Null hypothesis:**\n",
    "    - The mean ranks of the groups are the equal.\n",
    "    <br><br>\n",
    "- **Alternative hypothesis**\n",
    "    - The mean ranks of at least one of the groups is different from the other groups.\n",
    "    <br><br>\n",
    "- **Statistical significance**\n",
    "    - If the test indicates statistical significance, then we conclude that the mean ranks of the groups are different. If the test does not indicate statstical significance, then we conclude that the mean ranks of the groups are the same."
   ]
  },
  {
   "attachments": {},
   "cell_type": "markdown",
   "metadata": {},
   "source": [
    "**Chi-Square Test**\n",
    "\n",
    "- **When to use:**\n",
    "    - Two categorical variables.\n",
    "    <br><br>\n",
    "- **Assumptions:**\n",
    "    - Observations are independent.\n",
    "    - The sample size is large.\n",
    "    - No cell in the table should have an expected count of less than one.\n",
    "    - No more than 20% of the cells should have an expected count of less than five.\n",
    "    <br><br>\n",
    "- **Null hypothesis:**\n",
    "    - The categorical variables are independent (there is no association between the two variables).\n",
    "    <br><br>\n",
    "- **Alternative hypothesis**\n",
    "    - The two categorical variables are dependent (there is an association between the two variables).\n",
    "    <br><br>\n",
    "- **Statistical significance**\n",
    "    - If the test indicates statistical significance, then we conclude that the two categorical variables are dependent and are associated. If the test does not indicate statistical significance, then we conclude that the categorical variables are independent and are not associated."
   ]
  },
  {
   "attachments": {},
   "cell_type": "markdown",
   "metadata": {},
   "source": [
    "### **Part III: Regression on Price**"
   ]
  },
  {
   "attachments": {},
   "cell_type": "markdown",
   "metadata": {},
   "source": [
    "Load the cleaned Sacremento real estate dataset"
   ]
  },
  {
   "cell_type": "code",
   "execution_count": 3,
   "metadata": {},
   "outputs": [],
   "source": [
    "df = pd.read_csv('../data/sacramento_real_estate_clean.csv')"
   ]
  },
  {
   "cell_type": "code",
   "execution_count": 4,
   "metadata": {},
   "outputs": [
    {
     "name": "stdout",
     "output_type": "stream",
     "text": [
      "<class 'pandas.core.frame.DataFrame'>\n",
      "RangeIndex: 984 entries, 0 to 983\n",
      "Data columns (total 14 columns):\n",
      " #   Column       Non-Null Count  Dtype  \n",
      "---  ------       --------------  -----  \n",
      " 0   street       984 non-null    object \n",
      " 1   city         984 non-null    object \n",
      " 2   zip          984 non-null    int64  \n",
      " 3   state        984 non-null    object \n",
      " 4   beds         984 non-null    int64  \n",
      " 5   baths        984 non-null    int64  \n",
      " 6   sq__ft       984 non-null    int64  \n",
      " 7   type         984 non-null    object \n",
      " 8   sale_date    984 non-null    object \n",
      " 9   price        984 non-null    int64  \n",
      " 10  latitude     984 non-null    float64\n",
      " 11  longitude    984 non-null    float64\n",
      " 12  empty_lot    984 non-null    bool   \n",
      " 13  street_type  984 non-null    object \n",
      "dtypes: bool(1), float64(2), int64(5), object(6)\n",
      "memory usage: 101.0+ KB\n"
     ]
    }
   ],
   "source": [
    "df.info()"
   ]
  },
  {
   "attachments": {},
   "cell_type": "markdown",
   "metadata": {},
   "source": [
    "##### *Fit a linear regression model and Pearson's correlation coefficient for each continous variable against the property price. Then determine statistical significance using $\\alpha = 0.01$*"
   ]
  },
  {
   "attachments": {},
   "cell_type": "markdown",
   "metadata": {},
   "source": [
    "**Square footage**"
   ]
  },
  {
   "cell_type": "code",
   "execution_count": 5,
   "metadata": {},
   "outputs": [
    {
     "name": "stdout",
     "output_type": "stream",
     "text": [
      "pearson coefficient = 0.3347796424579801\tp_value = 3.386589667562419e-27\n"
     ]
    }
   ],
   "source": [
    "slope, intercept, r_value, p_value, stderr = stats.linregress(df['price'], df['sq__ft'])\n",
    "print(f'pearson coefficient = {r_value}\\tp_value = {p_value}')"
   ]
  },
  {
   "attachments": {},
   "cell_type": "markdown",
   "metadata": {},
   "source": [
    "**Latitude**"
   ]
  },
  {
   "cell_type": "code",
   "execution_count": 6,
   "metadata": {},
   "outputs": [
    {
     "name": "stdout",
     "output_type": "stream",
     "text": [
      "pearson coefficient = -0.03965005291124815\tp_value = 0.21398529101172617\n"
     ]
    }
   ],
   "source": [
    "slope, intercept, r_value, p_value, stderr = stats.linregress(df['price'], df['latitude'])\n",
    "print(f'pearson coefficient = {r_value}\\tp_value = {p_value}')"
   ]
  },
  {
   "attachments": {},
   "cell_type": "markdown",
   "metadata": {},
   "source": [
    "**Longitude**"
   ]
  },
  {
   "cell_type": "code",
   "execution_count": 7,
   "metadata": {},
   "outputs": [
    {
     "name": "stdout",
     "output_type": "stream",
     "text": [
      "pearson coefficient = 0.28514597550819737\tp_value = 7.281822955898328e-20\n"
     ]
    }
   ],
   "source": [
    "slope, intercept, r_value, p_value, stderr = stats.linregress(df['price'], df['longitude'])\n",
    "print(f'pearson coefficient = {r_value}\\tp_value = {p_value}')"
   ]
  },
  {
   "attachments": {},
   "cell_type": "markdown",
   "metadata": {},
   "source": [
    "| **Variable** | **p-value** | **Statistically Significant? $p < \\alpha = 0.01$** |\n",
    "|----------|----------|----------|\n",
    "| sq__ft   | 3.386589667562419e-27   | Yes   |\n",
    "| latitude   | 0.21398529101172617   | No   |\n",
    "| longitude   | 7.281822955898328e-20   | Yes   |\n"
   ]
  },
  {
   "attachments": {},
   "cell_type": "markdown",
   "metadata": {},
   "source": [
    "The results of the variables sq__ft and longitude produced p-values less than $\\alpha = 0.01$ which means they are statistically significant and are predictive of price."
   ]
  },
  {
   "attachments": {},
   "cell_type": "markdown",
   "metadata": {},
   "source": [
    "##### *Perform the Kruskal-Wallis test on each categorical variable versus price.*"
   ]
  },
  {
   "attachments": {},
   "cell_type": "markdown",
   "metadata": {},
   "source": [
    "**get rid of groups with samples < 5**"
   ]
  },
  {
   "attachments": {},
   "cell_type": "markdown",
   "metadata": {},
   "source": [
    "**Property type**"
   ]
  },
  {
   "cell_type": "code",
   "execution_count": 8,
   "metadata": {},
   "outputs": [
    {
     "name": "stdout",
     "output_type": "stream",
     "text": [
      "stat = 29.905280806258325\tp_value = 3.207382704900952e-07\n"
     ]
    }
   ],
   "source": [
    "samples_by_group = [] \n",
    "for value in set(df['type']): \n",
    "    mask = df['type'] == value \n",
    "    samples_by_group.append(df['price'][mask])\n",
    "\n",
    "stat, p_value = stats.kruskal(*samples_by_group)\n",
    "print(f'stat = {stat}\\tp_value = {p_value}')"
   ]
  },
  {
   "attachments": {},
   "cell_type": "markdown",
   "metadata": {},
   "source": [
    "**City**"
   ]
  },
  {
   "cell_type": "code",
   "execution_count": 9,
   "metadata": {},
   "outputs": [
    {
     "name": "stdout",
     "output_type": "stream",
     "text": [
      "stat = 332.3165420913258\tp_value = 3.713804860597625e-49\n"
     ]
    }
   ],
   "source": [
    "samples_by_group = [] \n",
    "for value in set(df['city']): \n",
    "    mask = df['city'] == value \n",
    "    samples_by_group.append(df['price'][mask])\n",
    "\n",
    "stat, p_value = stats.kruskal(*samples_by_group)\n",
    "print(f'stat = {stat}\\tp_value = {p_value}')"
   ]
  },
  {
   "attachments": {},
   "cell_type": "markdown",
   "metadata": {},
   "source": [
    "**Beds**"
   ]
  },
  {
   "cell_type": "code",
   "execution_count": 10,
   "metadata": {},
   "outputs": [
    {
     "name": "stdout",
     "output_type": "stream",
     "text": [
      "stat = 191.35629715694265\tp_value = 7.750684335831685e-38\n"
     ]
    }
   ],
   "source": [
    "samples_by_group = [] \n",
    "for value in set(df['beds']): \n",
    "    mask = df['beds'] == value \n",
    "    samples_by_group.append(df['price'][mask])\n",
    "\n",
    "stat, p_value = stats.kruskal(*samples_by_group)\n",
    "print(f'stat = {stat}\\tp_value = {p_value}')"
   ]
  },
  {
   "attachments": {},
   "cell_type": "markdown",
   "metadata": {},
   "source": [
    "**Baths**"
   ]
  },
  {
   "cell_type": "code",
   "execution_count": 11,
   "metadata": {},
   "outputs": [
    {
     "name": "stdout",
     "output_type": "stream",
     "text": [
      "stat = 244.20693200117202\tp_value = 9.614316922056859e-51\n"
     ]
    }
   ],
   "source": [
    "samples_by_group = [] \n",
    "for value in set(df['baths']): \n",
    "    mask = df['baths'] == value \n",
    "    samples_by_group.append(df['price'][mask])\n",
    "\n",
    "stat, p_value = stats.kruskal(*samples_by_group)\n",
    "print(f'stat = {stat}\\tp_value = {p_value}')"
   ]
  },
  {
   "attachments": {},
   "cell_type": "markdown",
   "metadata": {},
   "source": [
    "**Street type**"
   ]
  },
  {
   "cell_type": "code",
   "execution_count": 12,
   "metadata": {},
   "outputs": [
    {
     "name": "stdout",
     "output_type": "stream",
     "text": [
      "stat = 119.78778104892767\tp_value = 7.810255154460825e-16\n"
     ]
    }
   ],
   "source": [
    "samples_by_group = [] \n",
    "for value in set(df['street_type']): \n",
    "    mask = df['street_type'] == value \n",
    "    samples_by_group.append(df['price'][mask])\n",
    "\n",
    "stat, p_value = stats.kruskal(*samples_by_group)\n",
    "print(f'stat = {stat}\\tp_value = {p_value}')"
   ]
  },
  {
   "attachments": {},
   "cell_type": "markdown",
   "metadata": {},
   "source": [
    "**Empty lot**"
   ]
  },
  {
   "cell_type": "code",
   "execution_count": 13,
   "metadata": {},
   "outputs": [
    {
     "name": "stdout",
     "output_type": "stream",
     "text": [
      "stat = 4.106841729338111\tp_value = 0.04271004986704472\n"
     ]
    }
   ],
   "source": [
    "samples_by_group = [] \n",
    "for value in set(df['empty_lot']): \n",
    "    mask = df['empty_lot'] == value \n",
    "    samples_by_group.append(df['price'][mask])\n",
    "\n",
    "stat, p_value = stats.kruskal(*samples_by_group)\n",
    "print(f'stat = {stat}\\tp_value = {p_value}')"
   ]
  },
  {
   "attachments": {},
   "cell_type": "markdown",
   "metadata": {},
   "source": [
    "**Zip**"
   ]
  },
  {
   "cell_type": "code",
   "execution_count": 14,
   "metadata": {},
   "outputs": [
    {
     "name": "stdout",
     "output_type": "stream",
     "text": [
      "stat = 488.3199514784271\tp_value = 2.792740902787263e-65\n"
     ]
    }
   ],
   "source": [
    "samples_by_group = [] \n",
    "for value in set(df['zip']): \n",
    "    mask = df['zip'] == value \n",
    "    samples_by_group.append(df['price'][mask])\n",
    "\n",
    "stat, p_value = stats.kruskal(*samples_by_group)\n",
    "print(f'stat = {stat}\\tp_value = {p_value}')"
   ]
  },
  {
   "attachments": {},
   "cell_type": "markdown",
   "metadata": {},
   "source": [
    "Note: the state variable does not meet the requirements of the Kruskal-Wallis test because there is only one group or category for all the observations."
   ]
  },
  {
   "attachments": {},
   "cell_type": "markdown",
   "metadata": {},
   "source": [
    "| **Variable** | **p-value** | **Statistically Significant? $p < \\alpha = 0.01$** |\n",
    "|----------|----------|----------|\n",
    "| type   | 3.207382704900952e-07   | Yes   |\n",
    "| city   | 3.7138048605991674e-49   | Yes  |\n",
    "| beds | 7.750684335831685e-38   | Yes   |\n",
    "| baths | 9.614316922056859e-51   | Yes   |\n",
    "| street_type | 7.810255154459292e-16   | Yes   |\n",
    "| empty_lot | 0.04271004986704472   | No   |\n",
    "| zip | 2.792740902787263e-65   | Yes   |"
   ]
  },
  {
   "attachments": {},
   "cell_type": "markdown",
   "metadata": {},
   "source": [
    "Overall, the results of the statistical tests agree with my analysis of the visualizations from Lab 2. However, in my Lab 2 analysis I concluded that longitude was not predictive of property price, but according to the linear regression test above, the relationship between price and longitude is statstically significant. Therefore, longitude is predictive of price, which goes against my original conclusion."
   ]
  },
  {
   "attachments": {},
   "cell_type": "markdown",
   "metadata": {},
   "source": [
    "### **Part IV: Classification on Property Type**"
   ]
  },
  {
   "attachments": {},
   "cell_type": "markdown",
   "metadata": {},
   "source": [
    "##### *Run Kruskal-Wallis test for each continuous variable versus the property type.*"
   ]
  },
  {
   "attachments": {},
   "cell_type": "markdown",
   "metadata": {},
   "source": [
    "**Price**"
   ]
  },
  {
   "cell_type": "code",
   "execution_count": 15,
   "metadata": {},
   "outputs": [
    {
     "name": "stdout",
     "output_type": "stream",
     "text": [
      "stat = 29.905280806258325\tp_value = 3.207382704900952e-07\n"
     ]
    }
   ],
   "source": [
    "samples_by_group = [] \n",
    "for value in set(df['type']): \n",
    "    mask = df['type'] == value \n",
    "    samples_by_group.append(df['price'][mask])\n",
    "\n",
    "stat, p_value = stats.kruskal(*samples_by_group)\n",
    "print(f'stat = {stat}\\tp_value = {p_value}')"
   ]
  },
  {
   "attachments": {},
   "cell_type": "markdown",
   "metadata": {},
   "source": [
    "**Latitude**"
   ]
  },
  {
   "cell_type": "code",
   "execution_count": 16,
   "metadata": {},
   "outputs": [
    {
     "name": "stdout",
     "output_type": "stream",
     "text": [
      "stat = 2.3667464487727994\tp_value = 0.30624396471011495\n"
     ]
    }
   ],
   "source": [
    "samples_by_group = [] \n",
    "for value in set(df['type']): \n",
    "    mask = df['type'] == value \n",
    "    samples_by_group.append(df['latitude'][mask])\n",
    "\n",
    "stat, p_value = stats.kruskal(*samples_by_group)\n",
    "print(f'stat = {stat}\\tp_value = {p_value}')"
   ]
  },
  {
   "attachments": {},
   "cell_type": "markdown",
   "metadata": {},
   "source": [
    "**Longitude**"
   ]
  },
  {
   "cell_type": "code",
   "execution_count": 17,
   "metadata": {},
   "outputs": [
    {
     "name": "stdout",
     "output_type": "stream",
     "text": [
      "stat = 0.44143160518918306\tp_value = 0.8019445584702664\n"
     ]
    }
   ],
   "source": [
    "samples_by_group = [] \n",
    "for value in set(df['type']): \n",
    "    mask = df['type'] == value \n",
    "    samples_by_group.append(df['longitude'][mask])\n",
    "\n",
    "stat, p_value = stats.kruskal(*samples_by_group)\n",
    "print(f'stat = {stat}\\tp_value = {p_value}')"
   ]
  },
  {
   "attachments": {},
   "cell_type": "markdown",
   "metadata": {},
   "source": [
    "**Square footage**"
   ]
  },
  {
   "cell_type": "code",
   "execution_count": 18,
   "metadata": {},
   "outputs": [
    {
     "name": "stdout",
     "output_type": "stream",
     "text": [
      "stat = 54.20795217988388\tp_value = 1.6939194179245939e-12\n"
     ]
    }
   ],
   "source": [
    "samples_by_group = [] \n",
    "for value in set(df['type']): \n",
    "    mask = df['type'] == value \n",
    "    samples_by_group.append(df['sq__ft'][mask])\n",
    "\n",
    "stat, p_value = stats.kruskal(*samples_by_group)\n",
    "print(f'stat = {stat}\\tp_value = {p_value}')"
   ]
  },
  {
   "attachments": {},
   "cell_type": "markdown",
   "metadata": {},
   "source": [
    "| **Variable** | **p-value** | **Statistically Significant? $p < \\alpha = 0.01$** |\n",
    "|----------|----------|----------|\n",
    "| price   | 3.207382704900952e-07   | Yes   |\n",
    "| latitude   | 0.30624396471011495   | No   |\n",
    "| longitude   | 0.8019445584702664   | No   |\n",
    "| sq__ft   | 1.6939194179245939e-12   | Yes   |"
   ]
  },
  {
   "attachments": {},
   "cell_type": "markdown",
   "metadata": {},
   "source": [
    "##### *Run the Chi-Square test of independence on between each categorical variable and the property type*"
   ]
  },
  {
   "attachments": {},
   "cell_type": "markdown",
   "metadata": {},
   "source": [
    "**Street type**"
   ]
  },
  {
   "cell_type": "code",
   "execution_count": 19,
   "metadata": {},
   "outputs": [
    {
     "name": "stdout",
     "output_type": "stream",
     "text": [
      "chi2 = 164.1111276102213\tp_value = 2.392898504927e-16\n"
     ]
    }
   ],
   "source": [
    "combination_counts = pd.crosstab(df['street_type'], df['type']) \n",
    "chi2, p_value, _, _ = stats.chi2_contingency(combination_counts)\n",
    "print(f'chi2 = {chi2}\\tp_value = {p_value}')"
   ]
  },
  {
   "attachments": {},
   "cell_type": "markdown",
   "metadata": {},
   "source": [
    "**City**"
   ]
  },
  {
   "cell_type": "code",
   "execution_count": 20,
   "metadata": {},
   "outputs": [
    {
     "name": "stdout",
     "output_type": "stream",
     "text": [
      "chi2 = 52.99924802253293\tp_value = 0.9690599778204446\n"
     ]
    }
   ],
   "source": [
    "combination_counts = pd.crosstab(df['city'], df['type']) \n",
    "chi2, p_value, _, _ = stats.chi2_contingency(combination_counts)\n",
    "print(f'chi2 = {chi2}\\tp_value = {p_value}')"
   ]
  },
  {
   "attachments": {},
   "cell_type": "markdown",
   "metadata": {},
   "source": [
    "**Beds**"
   ]
  },
  {
   "cell_type": "code",
   "execution_count": 21,
   "metadata": {},
   "outputs": [
    {
     "name": "stdout",
     "output_type": "stream",
     "text": [
      "chi2 = 356.4586026562881\tp_value = 1.816876113747052e-67\n"
     ]
    }
   ],
   "source": [
    "combination_counts = pd.crosstab(df['beds'], df['type']) \n",
    "chi2, p_value, _, _ = stats.chi2_contingency(combination_counts)\n",
    "print(f'chi2 = {chi2}\\tp_value = {p_value}')"
   ]
  },
  {
   "attachments": {},
   "cell_type": "markdown",
   "metadata": {},
   "source": [
    "**Baths**"
   ]
  },
  {
   "cell_type": "code",
   "execution_count": 22,
   "metadata": {},
   "outputs": [
    {
     "name": "stdout",
     "output_type": "stream",
     "text": [
      "chi2 = 225.83626587573647\tp_value = 6.406801519550199e-43\n"
     ]
    }
   ],
   "source": [
    "combination_counts = pd.crosstab(df['baths'], df['type']) \n",
    "chi2, p_value, _, _ = stats.chi2_contingency(combination_counts)\n",
    "print(f'chi2 = {chi2}\\tp_value = {p_value}')"
   ]
  },
  {
   "attachments": {},
   "cell_type": "markdown",
   "metadata": {},
   "source": [
    "**Empty lot**"
   ]
  },
  {
   "cell_type": "code",
   "execution_count": 23,
   "metadata": {},
   "outputs": [
    {
     "name": "stdout",
     "output_type": "stream",
     "text": [
      "chi2 = 3.6406022453620115\tp_value = 0.16197696865046218\n"
     ]
    }
   ],
   "source": [
    "combination_counts = pd.crosstab(df['empty_lot'], df['type']) \n",
    "chi2, p_value, _, _ = stats.chi2_contingency(combination_counts)\n",
    "print(f'chi2 = {chi2}\\tp_value = {p_value}')"
   ]
  },
  {
   "attachments": {},
   "cell_type": "markdown",
   "metadata": {},
   "source": [
    "**Zip**"
   ]
  },
  {
   "cell_type": "code",
   "execution_count": 24,
   "metadata": {},
   "outputs": [
    {
     "name": "stdout",
     "output_type": "stream",
     "text": [
      "chi2 = 203.22283050088117\tp_value = 0.00010690898007077515\n"
     ]
    }
   ],
   "source": [
    "combination_counts = pd.crosstab(df['zip'], df['type']) \n",
    "chi2, p_value, _, _ = stats.chi2_contingency(combination_counts)\n",
    "print(f'chi2 = {chi2}\\tp_value = {p_value}')"
   ]
  },
  {
   "attachments": {},
   "cell_type": "markdown",
   "metadata": {},
   "source": [
    "**State**"
   ]
  },
  {
   "cell_type": "code",
   "execution_count": 25,
   "metadata": {},
   "outputs": [
    {
     "name": "stdout",
     "output_type": "stream",
     "text": [
      "chi2 = 0.0\tp_value = 1.0\n"
     ]
    }
   ],
   "source": [
    "combination_counts = pd.crosstab(df['state'], df['type']) \n",
    "chi2, p_value, _, _ = stats.chi2_contingency(combination_counts)\n",
    "print(f'chi2 = {chi2}\\tp_value = {p_value}')"
   ]
  },
  {
   "attachments": {},
   "cell_type": "markdown",
   "metadata": {},
   "source": [
    "| **Variable** | **p-value** | **Statistically Significant? $p < \\alpha = 0.01$** |\n",
    "|----------|----------|----------|\n",
    "| street_type   | 2.392898504927e-16   | Yes   |\n",
    "| city   | 0.9690599778204446   | No   |\n",
    "| beds   | 1.816876113747052e-67   | Yes   |\n",
    "| baths   | 6.406801519550199e-43   | Yes   |\n",
    "| empty_lot   | 0.16197696865046218   | No   |\n",
    "| zip   | 0.00010690898007077515   | Yes   |\n",
    "| state   | 1.0   | No   |"
   ]
  },
  {
   "attachments": {},
   "cell_type": "markdown",
   "metadata": {},
   "source": [
    "In Lab 2, I incorrectly concluded the predictiveness of street_type and city. According to the results of the chi-squared test above, street_type is predictive of the property type, however in Lab 2 I concluded the opposite. In addition, the test above shows that city is not predictive of the property type, however in Lab 2 I concluded the opposite. For the rest of the variables, the results from the statstical tests above confirm my conclusions made in Lab 2. "
   ]
  },
  {
   "attachments": {},
   "cell_type": "markdown",
   "metadata": {},
   "source": [
    "### **Conclusion**"
   ]
  },
  {
   "attachments": {},
   "cell_type": "markdown",
   "metadata": {},
   "source": [
    "One of the biggest takeaways from this lab is that visualizing data, like we did in Lab 2, allows you to make decent assumptions on what variables are correlated or predictive, but by running various statstical tests on the data, like we did above, it allows you to confirm or disprove any assumptions made from the data visualizations. I found that I made incorrect assumptions for some of the variables in Lab 2 because I was unable to interpret the relationship accurately from the data visualizations. However, the statstical tests allowed for the relationships to be quantified, which made the relationships between the variables much clearer."
   ]
  }
 ],
 "metadata": {
  "kernelspec": {
   "display_name": "Python 3",
   "language": "python",
   "name": "python3"
  },
  "language_info": {
   "codemirror_mode": {
    "name": "ipython",
    "version": 3
   },
   "file_extension": ".py",
   "mimetype": "text/x-python",
   "name": "python",
   "nbconvert_exporter": "python",
   "pygments_lexer": "ipython3",
   "version": "3.10.7 (tags/v3.10.7:6cc6b13, Sep  5 2022, 14:08:36) [MSC v.1933 64 bit (AMD64)]"
  },
  "orig_nbformat": 4,
  "vscode": {
   "interpreter": {
    "hash": "369f2c481f4da34e4445cda3fffd2e751bd1c4d706f27375911949ba6bb62e1c"
   }
  }
 },
 "nbformat": 4,
 "nbformat_minor": 2
}
